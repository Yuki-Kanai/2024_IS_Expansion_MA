{
 "cells": [
  {
   "cell_type": "markdown",
   "metadata": {},
   "source": [
    "Analysis of excision using the flank positions identified by blast in notebook 08."
   ]
  },
  {
   "cell_type": "code",
   "execution_count": 1,
   "metadata": {
    "vscode": {
     "languageId": "r"
    }
   },
   "outputs": [
    {
     "name": "stderr",
     "output_type": "stream",
     "text": [
      "── \u001b[1mAttaching core tidyverse packages\u001b[22m ──────────────────────────────────────────────────────────────────────────────────────────────────────────────────────────────────────────────────────────────────────────────────────────────────── tidyverse 2.0.0 ──\n",
      "\u001b[32m✔\u001b[39m \u001b[34mdplyr    \u001b[39m 1.1.3     \u001b[32m✔\u001b[39m \u001b[34mreadr    \u001b[39m 2.1.4\n",
      "\u001b[32m✔\u001b[39m \u001b[34mforcats  \u001b[39m 1.0.0     \u001b[32m✔\u001b[39m \u001b[34mstringr  \u001b[39m 1.5.0\n",
      "\u001b[32m✔\u001b[39m \u001b[34mggplot2  \u001b[39m 3.4.3     \u001b[32m✔\u001b[39m \u001b[34mtibble   \u001b[39m 3.2.1\n",
      "\u001b[32m✔\u001b[39m \u001b[34mlubridate\u001b[39m 1.9.2     \u001b[32m✔\u001b[39m \u001b[34mtidyr    \u001b[39m 1.3.0\n",
      "\u001b[32m✔\u001b[39m \u001b[34mpurrr    \u001b[39m 1.0.2     \n",
      "── \u001b[1mConflicts\u001b[22m ────────────────────────────────────────────────────────────────────────────────────────────────────────────────────────────────────────────────────────────────────────────────────────────────────────────────────── tidyverse_conflicts() ──\n",
      "\u001b[31m✖\u001b[39m \u001b[34mdplyr\u001b[39m::\u001b[32mfilter()\u001b[39m masks \u001b[34mstats\u001b[39m::filter()\n",
      "\u001b[31m✖\u001b[39m \u001b[34mdplyr\u001b[39m::\u001b[32mlag()\u001b[39m    masks \u001b[34mstats\u001b[39m::lag()\n",
      "\u001b[36mℹ\u001b[39m Use the conflicted package (\u001b[3m\u001b[34m<http://conflicted.r-lib.org/>\u001b[39m\u001b[23m) to force all conflicts to become errors\n",
      "\n",
      "Attaching package: ‘cowplot’\n",
      "\n",
      "\n",
      "The following object is masked from ‘package:lubridate’:\n",
      "\n",
      "    stamp\n",
      "\n",
      "\n"
     ]
    }
   ],
   "source": [
    "library(tidyverse)\n",
    "library(cowplot)\n",
    "library(latex2exp)\n",
    "library(gggenes)\n",
    "library(IRkernel)\n",
    "options(pillar.print_max = 10)"
   ]
  },
  {
   "cell_type": "code",
   "execution_count": 2,
   "metadata": {},
   "outputs": [
    {
     "name": "stderr",
     "output_type": "stream",
     "text": [
      "\u001b[1mRows: \u001b[22m\u001b[34m6357\u001b[39m \u001b[1mColumns: \u001b[22m\u001b[34m12\u001b[39m\n",
      "\u001b[36m──\u001b[39m \u001b[1mColumn specification\u001b[22m \u001b[36m────────────────────────────────────────────────────────────────────────────────────────────────────────────────────────────────────────────────────────────────────────────────────────────────────────────────────────────────────\u001b[39m\n",
      "\u001b[1mDelimiter:\u001b[22m \",\"\n",
      "\u001b[31mchr\u001b[39m (5): flank, genome, position_status, sv, Line\n",
      "\u001b[32mdbl\u001b[39m (5): pos_id, pos, cluster_id, insert_id, Gen\n",
      "\u001b[33mlgl\u001b[39m (2): IS_strand, flankMatchDir\n",
      "\n",
      "\u001b[36mℹ\u001b[39m Use `spec()` to retrieve the full column specification for this data.\n",
      "\u001b[36mℹ\u001b[39m Specify the column types or set `show_col_types = FALSE` to quiet this message.\n",
      "\u001b[1mRows: \u001b[22m\u001b[34m905\u001b[39m \u001b[1mColumns: \u001b[22m\u001b[34m11\u001b[39m\n",
      "\u001b[36m──\u001b[39m \u001b[1mColumn specification\u001b[22m \u001b[36m────────────────────────────────────────────────────────────────────────────────────────────────────────────────────────────────────────────────────────────────────────────────────────────────────────────────────────────────────\u001b[39m\n",
      "\u001b[1mDelimiter:\u001b[22m \",\"\n",
      "\u001b[31mchr\u001b[39m  (1): line\n",
      "\u001b[32mdbl\u001b[39m (10): group, start, end, depth, length, start_fix, end_fix, is_start, is...\n",
      "\n",
      "\u001b[36mℹ\u001b[39m Use `spec()` to retrieve the full column specification for this data.\n",
      "\u001b[36mℹ\u001b[39m Specify the column types or set `show_col_types = FALSE` to quiet this message.\n"
     ]
    }
   ],
   "source": [
    "data_dir <- \"exp/multiple_runs11\"\n",
    "is_pos_in_ref <- read_csv(file.path(data_dir, \"export\", \"classify_IS_events\", \"IS_positions_in_ref_genome.csv\"))\n",
    "depth_df <- read_csv(file.path(data_dir, \"export\", \"classify_IS_events\", \"depth_interval.csv\"))"
   ]
  },
  {
   "cell_type": "markdown",
   "metadata": {},
   "source": [
    "# Analysis using Excision pipeline\n",
    "Here, I analyze using the mapping of flanking sequences of ISs in predecessor genomes to the ancestor sequences."
   ]
  },
  {
   "cell_type": "code",
   "execution_count": 3,
   "metadata": {
    "vscode": {
     "languageId": "r"
    }
   },
   "outputs": [
    {
     "name": "stderr",
     "output_type": "stream",
     "text": [
      "\u001b[1mRows: \u001b[22m\u001b[34m2863\u001b[39m \u001b[1mColumns: \u001b[22m\u001b[34m14\u001b[39m\n",
      "\u001b[36m──\u001b[39m \u001b[1mColumn specification\u001b[22m \u001b[36m────────────────────────────────────────────────────────────────────────────────────────────────────────────────────────────────────────────────────────────────────────────────────────────────────────────────────────────────────\u001b[39m\n",
      "\u001b[1mDelimiter:\u001b[22m \",\"\n",
      "\u001b[31mchr\u001b[39m  (4): Line, dir, read_name, sseqid\n",
      "\u001b[32mdbl\u001b[39m (10): Gen, is_cluster_id, qstart, qend, sstart, send, length, evalue, bi...\n",
      "\n",
      "\u001b[36mℹ\u001b[39m Use `spec()` to retrieve the full column specification for this data.\n",
      "\u001b[36mℹ\u001b[39m Specify the column types or set `show_col_types = FALSE` to quiet this message.\n"
     ]
    },
    {
     "data": {
      "text/html": [
       "<table class=\"dataframe\">\n",
       "<caption>A tibble: 6 × 14</caption>\n",
       "<thead>\n",
       "\t<tr><th scope=col>Line</th><th scope=col>Gen</th><th scope=col>is_cluster_id</th><th scope=col>dir</th><th scope=col>read_name</th><th scope=col>sseqid</th><th scope=col>qstart</th><th scope=col>qend</th><th scope=col>sstart</th><th scope=col>send</th><th scope=col>length</th><th scope=col>evalue</th><th scope=col>bitscore</th><th scope=col>pident</th></tr>\n",
       "\t<tr><th scope=col>&lt;chr&gt;</th><th scope=col>&lt;dbl&gt;</th><th scope=col>&lt;dbl&gt;</th><th scope=col>&lt;chr&gt;</th><th scope=col>&lt;chr&gt;</th><th scope=col>&lt;chr&gt;</th><th scope=col>&lt;dbl&gt;</th><th scope=col>&lt;dbl&gt;</th><th scope=col>&lt;dbl&gt;</th><th scope=col>&lt;dbl&gt;</th><th scope=col>&lt;dbl&gt;</th><th scope=col>&lt;dbl&gt;</th><th scope=col>&lt;dbl&gt;</th><th scope=col>&lt;dbl&gt;</th></tr>\n",
       "</thead>\n",
       "<tbody>\n",
       "\t<tr><td>L01-1</td><td>1</td><td>0</td><td>head</td><td>L01-1.1.0.dir </td><td>L01-1_genome.2_m</td><td>1</td><td>299</td><td> 476607</td><td> 476905</td><td>299</td><td>2.19e-154</td><td>540</td><td>100.000</td></tr>\n",
       "\t<tr><td>L01-1</td><td>1</td><td>0</td><td>tail</td><td>L01-1.1.0.tail</td><td>L01-1_genome.2_m</td><td>1</td><td>299</td><td> 479999</td><td> 480297</td><td>299</td><td>2.19e-154</td><td>540</td><td>100.000</td></tr>\n",
       "\t<tr><td>L01-1</td><td>1</td><td>2</td><td>head</td><td>L01-1.1.2.dir </td><td>L01-1_genome.2_m</td><td>1</td><td>298</td><td>1185656</td><td>1185953</td><td>298</td><td>7.63e-154</td><td>538</td><td>100.000</td></tr>\n",
       "\t<tr><td>L01-1</td><td>1</td><td>2</td><td>tail</td><td>L01-1.1.2.tail</td><td>L01-1_genome.2_m</td><td>2</td><td>299</td><td>1203686</td><td>1203389</td><td>298</td><td>7.63e-154</td><td>538</td><td>100.000</td></tr>\n",
       "\t<tr><td>L01-1</td><td>1</td><td>2</td><td>tail</td><td>L01-1.1.2.tail</td><td>L01-1_genome.2_m</td><td>1</td><td>222</td><td>1086662</td><td>1086441</td><td>222</td><td> 7.19e-15</td><td> 77</td><td> 67.568</td></tr>\n",
       "\t<tr><td>L01-1</td><td>1</td><td>3</td><td>head</td><td>L01-1.1.3.dir </td><td>L01-1_genome.2_m</td><td>1</td><td>299</td><td>1406056</td><td>1406354</td><td>299</td><td>2.19e-154</td><td>540</td><td>100.000</td></tr>\n",
       "</tbody>\n",
       "</table>\n"
      ],
      "text/latex": [
       "A tibble: 6 × 14\n",
       "\\begin{tabular}{llllllllllllll}\n",
       " Line & Gen & is\\_cluster\\_id & dir & read\\_name & sseqid & qstart & qend & sstart & send & length & evalue & bitscore & pident\\\\\n",
       " <chr> & <dbl> & <dbl> & <chr> & <chr> & <chr> & <dbl> & <dbl> & <dbl> & <dbl> & <dbl> & <dbl> & <dbl> & <dbl>\\\\\n",
       "\\hline\n",
       "\t L01-1 & 1 & 0 & head & L01-1.1.0.dir  & L01-1\\_genome.2\\_m & 1 & 299 &  476607 &  476905 & 299 & 2.19e-154 & 540 & 100.000\\\\\n",
       "\t L01-1 & 1 & 0 & tail & L01-1.1.0.tail & L01-1\\_genome.2\\_m & 1 & 299 &  479999 &  480297 & 299 & 2.19e-154 & 540 & 100.000\\\\\n",
       "\t L01-1 & 1 & 2 & head & L01-1.1.2.dir  & L01-1\\_genome.2\\_m & 1 & 298 & 1185656 & 1185953 & 298 & 7.63e-154 & 538 & 100.000\\\\\n",
       "\t L01-1 & 1 & 2 & tail & L01-1.1.2.tail & L01-1\\_genome.2\\_m & 2 & 299 & 1203686 & 1203389 & 298 & 7.63e-154 & 538 & 100.000\\\\\n",
       "\t L01-1 & 1 & 2 & tail & L01-1.1.2.tail & L01-1\\_genome.2\\_m & 1 & 222 & 1086662 & 1086441 & 222 &  7.19e-15 &  77 &  67.568\\\\\n",
       "\t L01-1 & 1 & 3 & head & L01-1.1.3.dir  & L01-1\\_genome.2\\_m & 1 & 299 & 1406056 & 1406354 & 299 & 2.19e-154 & 540 & 100.000\\\\\n",
       "\\end{tabular}\n"
      ],
      "text/markdown": [
       "\n",
       "A tibble: 6 × 14\n",
       "\n",
       "| Line &lt;chr&gt; | Gen &lt;dbl&gt; | is_cluster_id &lt;dbl&gt; | dir &lt;chr&gt; | read_name &lt;chr&gt; | sseqid &lt;chr&gt; | qstart &lt;dbl&gt; | qend &lt;dbl&gt; | sstart &lt;dbl&gt; | send &lt;dbl&gt; | length &lt;dbl&gt; | evalue &lt;dbl&gt; | bitscore &lt;dbl&gt; | pident &lt;dbl&gt; |\n",
       "|---|---|---|---|---|---|---|---|---|---|---|---|---|---|\n",
       "| L01-1 | 1 | 0 | head | L01-1.1.0.dir  | L01-1_genome.2_m | 1 | 299 |  476607 |  476905 | 299 | 2.19e-154 | 540 | 100.000 |\n",
       "| L01-1 | 1 | 0 | tail | L01-1.1.0.tail | L01-1_genome.2_m | 1 | 299 |  479999 |  480297 | 299 | 2.19e-154 | 540 | 100.000 |\n",
       "| L01-1 | 1 | 2 | head | L01-1.1.2.dir  | L01-1_genome.2_m | 1 | 298 | 1185656 | 1185953 | 298 | 7.63e-154 | 538 | 100.000 |\n",
       "| L01-1 | 1 | 2 | tail | L01-1.1.2.tail | L01-1_genome.2_m | 2 | 299 | 1203686 | 1203389 | 298 | 7.63e-154 | 538 | 100.000 |\n",
       "| L01-1 | 1 | 2 | tail | L01-1.1.2.tail | L01-1_genome.2_m | 1 | 222 | 1086662 | 1086441 | 222 |  7.19e-15 |  77 |  67.568 |\n",
       "| L01-1 | 1 | 3 | head | L01-1.1.3.dir  | L01-1_genome.2_m | 1 | 299 | 1406056 | 1406354 | 299 | 2.19e-154 | 540 | 100.000 |\n",
       "\n"
      ],
      "text/plain": [
       "  Line  Gen is_cluster_id dir  read_name      sseqid           qstart qend\n",
       "1 L01-1 1   0             head L01-1.1.0.dir  L01-1_genome.2_m 1      299 \n",
       "2 L01-1 1   0             tail L01-1.1.0.tail L01-1_genome.2_m 1      299 \n",
       "3 L01-1 1   2             head L01-1.1.2.dir  L01-1_genome.2_m 1      298 \n",
       "4 L01-1 1   2             tail L01-1.1.2.tail L01-1_genome.2_m 2      299 \n",
       "5 L01-1 1   2             tail L01-1.1.2.tail L01-1_genome.2_m 1      222 \n",
       "6 L01-1 1   3             head L01-1.1.3.dir  L01-1_genome.2_m 1      299 \n",
       "  sstart  send    length evalue    bitscore pident \n",
       "1  476607  476905 299    2.19e-154 540      100.000\n",
       "2  479999  480297 299    2.19e-154 540      100.000\n",
       "3 1185656 1185953 298    7.63e-154 538      100.000\n",
       "4 1203686 1203389 298    7.63e-154 538      100.000\n",
       "5 1086662 1086441 222     7.19e-15  77       67.568\n",
       "6 1406056 1406354 299    2.19e-154 540      100.000"
      ]
     },
     "metadata": {},
     "output_type": "display_data"
    }
   ],
   "source": [
    "excision_df <- read_csv(file.path(data_dir, \"export\", \"classify_IS_events\", \"excision_flank_blast.csv\"))\n",
    "excision_df %>% head"
   ]
  },
  {
   "cell_type": "code",
   "execution_count": 4,
   "metadata": {
    "vscode": {
     "languageId": "r"
    }
   },
   "outputs": [
    {
     "name": "stderr",
     "output_type": "stream",
     "text": [
      "\u001b[1mRows: \u001b[22m\u001b[34m1260\u001b[39m \u001b[1mColumns: \u001b[22m\u001b[34m13\u001b[39m\n",
      "\u001b[36m──\u001b[39m \u001b[1mColumn specification\u001b[22m \u001b[36m────────────────────────────────────────────────────────────────────────────────────────────────────────────────────────────────────────────────────────────────────────────────────────────────────────────────────────────────────\u001b[39m\n",
      "\u001b[1mDelimiter:\u001b[22m \",\"\n",
      "\u001b[31mchr\u001b[39m  (1): Line\n",
      "\u001b[32mdbl\u001b[39m (11): Gen, is_cluster_id, min_dist, head_qend, tail_qstart, min_i, min_j...\n",
      "\u001b[33mlgl\u001b[39m  (1): dir\n",
      "\n",
      "\u001b[36mℹ\u001b[39m Use `spec()` to retrieve the full column specification for this data.\n",
      "\u001b[36mℹ\u001b[39m Specify the column types or set `show_col_types = FALSE` to quiet this message.\n"
     ]
    },
    {
     "data": {
      "text/html": [
       "<table class=\"dataframe\">\n",
       "<caption>A tibble: 6 × 13</caption>\n",
       "<thead>\n",
       "\t<tr><th scope=col>Line</th><th scope=col>Gen</th><th scope=col>is_cluster_id</th><th scope=col>min_dist</th><th scope=col>head_qend</th><th scope=col>tail_qstart</th><th scope=col>min_i</th><th scope=col>min_j</th><th scope=col>raw_dist</th><th scope=col>min_start_raw</th><th scope=col>min_end_raw</th><th scope=col>flank_dist</th><th scope=col>dir</th></tr>\n",
       "\t<tr><th scope=col>&lt;chr&gt;</th><th scope=col>&lt;dbl&gt;</th><th scope=col>&lt;dbl&gt;</th><th scope=col>&lt;dbl&gt;</th><th scope=col>&lt;dbl&gt;</th><th scope=col>&lt;dbl&gt;</th><th scope=col>&lt;dbl&gt;</th><th scope=col>&lt;dbl&gt;</th><th scope=col>&lt;dbl&gt;</th><th scope=col>&lt;dbl&gt;</th><th scope=col>&lt;dbl&gt;</th><th scope=col>&lt;dbl&gt;</th><th scope=col>&lt;lgl&gt;</th></tr>\n",
       "</thead>\n",
       "<tbody>\n",
       "\t<tr><td>L01-1</td><td>1</td><td>0</td><td> 3093</td><td>2999</td><td>  1</td><td> 0</td><td> 1</td><td> 3094</td><td> 476905</td><td> 479999</td><td> 3093</td><td> TRUE</td></tr>\n",
       "\t<tr><td>L01-1</td><td>1</td><td>1</td><td> 8024</td><td>2063</td><td>311</td><td> 2</td><td> 3</td><td> 9269</td><td> 547577</td><td> 555600</td><td>-8024</td><td>FALSE</td></tr>\n",
       "\t<tr><td>L01-1</td><td>1</td><td>2</td><td>17732</td><td>2998</td><td>  2</td><td> 4</td><td> 9</td><td>17735</td><td>1185953</td><td>1203686</td><td>17732</td><td>FALSE</td></tr>\n",
       "\t<tr><td>L01-1</td><td>1</td><td>3</td><td> 3093</td><td>2999</td><td>  1</td><td>11</td><td>12</td><td> 3094</td><td>1406354</td><td>1409448</td><td> 3093</td><td> TRUE</td></tr>\n",
       "\t<tr><td>L01-1</td><td>1</td><td>4</td><td> 4663</td><td>2999</td><td>  1</td><td>15</td><td>16</td><td> 4664</td><td>1500452</td><td>1505116</td><td> 4663</td><td> TRUE</td></tr>\n",
       "\t<tr><td>L01-1</td><td>1</td><td>5</td><td> 4664</td><td>2999</td><td>  1</td><td>17</td><td>20</td><td> 4665</td><td>1993862</td><td>1998527</td><td> 4664</td><td> TRUE</td></tr>\n",
       "</tbody>\n",
       "</table>\n"
      ],
      "text/latex": [
       "A tibble: 6 × 13\n",
       "\\begin{tabular}{lllllllllllll}\n",
       " Line & Gen & is\\_cluster\\_id & min\\_dist & head\\_qend & tail\\_qstart & min\\_i & min\\_j & raw\\_dist & min\\_start\\_raw & min\\_end\\_raw & flank\\_dist & dir\\\\\n",
       " <chr> & <dbl> & <dbl> & <dbl> & <dbl> & <dbl> & <dbl> & <dbl> & <dbl> & <dbl> & <dbl> & <dbl> & <lgl>\\\\\n",
       "\\hline\n",
       "\t L01-1 & 1 & 0 &  3093 & 2999 &   1 &  0 &  1 &  3094 &  476905 &  479999 &  3093 &  TRUE\\\\\n",
       "\t L01-1 & 1 & 1 &  8024 & 2063 & 311 &  2 &  3 &  9269 &  547577 &  555600 & -8024 & FALSE\\\\\n",
       "\t L01-1 & 1 & 2 & 17732 & 2998 &   2 &  4 &  9 & 17735 & 1185953 & 1203686 & 17732 & FALSE\\\\\n",
       "\t L01-1 & 1 & 3 &  3093 & 2999 &   1 & 11 & 12 &  3094 & 1406354 & 1409448 &  3093 &  TRUE\\\\\n",
       "\t L01-1 & 1 & 4 &  4663 & 2999 &   1 & 15 & 16 &  4664 & 1500452 & 1505116 &  4663 &  TRUE\\\\\n",
       "\t L01-1 & 1 & 5 &  4664 & 2999 &   1 & 17 & 20 &  4665 & 1993862 & 1998527 &  4664 &  TRUE\\\\\n",
       "\\end{tabular}\n"
      ],
      "text/markdown": [
       "\n",
       "A tibble: 6 × 13\n",
       "\n",
       "| Line &lt;chr&gt; | Gen &lt;dbl&gt; | is_cluster_id &lt;dbl&gt; | min_dist &lt;dbl&gt; | head_qend &lt;dbl&gt; | tail_qstart &lt;dbl&gt; | min_i &lt;dbl&gt; | min_j &lt;dbl&gt; | raw_dist &lt;dbl&gt; | min_start_raw &lt;dbl&gt; | min_end_raw &lt;dbl&gt; | flank_dist &lt;dbl&gt; | dir &lt;lgl&gt; |\n",
       "|---|---|---|---|---|---|---|---|---|---|---|---|---|\n",
       "| L01-1 | 1 | 0 |  3093 | 2999 |   1 |  0 |  1 |  3094 |  476905 |  479999 |  3093 |  TRUE |\n",
       "| L01-1 | 1 | 1 |  8024 | 2063 | 311 |  2 |  3 |  9269 |  547577 |  555600 | -8024 | FALSE |\n",
       "| L01-1 | 1 | 2 | 17732 | 2998 |   2 |  4 |  9 | 17735 | 1185953 | 1203686 | 17732 | FALSE |\n",
       "| L01-1 | 1 | 3 |  3093 | 2999 |   1 | 11 | 12 |  3094 | 1406354 | 1409448 |  3093 |  TRUE |\n",
       "| L01-1 | 1 | 4 |  4663 | 2999 |   1 | 15 | 16 |  4664 | 1500452 | 1505116 |  4663 |  TRUE |\n",
       "| L01-1 | 1 | 5 |  4664 | 2999 |   1 | 17 | 20 |  4665 | 1993862 | 1998527 |  4664 |  TRUE |\n",
       "\n"
      ],
      "text/plain": [
       "  Line  Gen is_cluster_id min_dist head_qend tail_qstart min_i min_j raw_dist\n",
       "1 L01-1 1   0              3093    2999        1          0     1     3094   \n",
       "2 L01-1 1   1              8024    2063      311          2     3     9269   \n",
       "3 L01-1 1   2             17732    2998        2          4     9    17735   \n",
       "4 L01-1 1   3              3093    2999        1         11    12     3094   \n",
       "5 L01-1 1   4              4663    2999        1         15    16     4664   \n",
       "6 L01-1 1   5              4664    2999        1         17    20     4665   \n",
       "  min_start_raw min_end_raw flank_dist dir  \n",
       "1  476905        479999      3093       TRUE\n",
       "2  547577        555600     -8024      FALSE\n",
       "3 1185953       1203686     17732      FALSE\n",
       "4 1406354       1409448      3093       TRUE\n",
       "5 1500452       1505116      4663       TRUE\n",
       "6 1993862       1998527      4664       TRUE"
      ]
     },
     "metadata": {},
     "output_type": "display_data"
    }
   ],
   "source": [
    "excision_stat_df <- read_csv(file.path(data_dir, \"export\", \"classify_IS_events\", \"excision_status.3000.csv\"))\n",
    "excision_stat_df %>% head"
   ]
  },
  {
   "cell_type": "code",
   "execution_count": 5,
   "metadata": {
    "vscode": {
     "languageId": "r"
    }
   },
   "outputs": [
    {
     "data": {
      "text/html": [
       "<table class=\"dataframe\">\n",
       "<caption>A tibble: 6 × 11</caption>\n",
       "<thead>\n",
       "\t<tr><th scope=col>Line</th><th scope=col>Gen</th><th scope=col>is_cluster_id</th><th scope=col>min_dist</th><th scope=col>head_qend</th><th scope=col>tail_qstart</th><th scope=col>raw_dist</th><th scope=col>min_start_raw</th><th scope=col>min_end_raw</th><th scope=col>flank_dist</th><th scope=col>dir</th></tr>\n",
       "\t<tr><th scope=col>&lt;chr&gt;</th><th scope=col>&lt;dbl&gt;</th><th scope=col>&lt;dbl&gt;</th><th scope=col>&lt;dbl&gt;</th><th scope=col>&lt;dbl&gt;</th><th scope=col>&lt;dbl&gt;</th><th scope=col>&lt;dbl&gt;</th><th scope=col>&lt;dbl&gt;</th><th scope=col>&lt;dbl&gt;</th><th scope=col>&lt;dbl&gt;</th><th scope=col>&lt;lgl&gt;</th></tr>\n",
       "</thead>\n",
       "<tbody>\n",
       "\t<tr><td>L01-3</td><td>2</td><td>10</td><td>7</td><td>2998</td><td>1</td><td>-5</td><td>1932254</td><td>1932248</td><td>-7</td><td>TRUE</td></tr>\n",
       "\t<tr><td>L01-4</td><td>1</td><td> 1</td><td>7</td><td>2998</td><td>1</td><td>-5</td><td> 557155</td><td> 557149</td><td>-7</td><td>TRUE</td></tr>\n",
       "\t<tr><td>L02-1</td><td>2</td><td> 7</td><td>7</td><td>2998</td><td>1</td><td>-5</td><td>2097939</td><td>2097933</td><td>-7</td><td>TRUE</td></tr>\n",
       "\t<tr><td>L02-3</td><td>2</td><td> 4</td><td>7</td><td>2998</td><td>1</td><td>-5</td><td>1305532</td><td>1305526</td><td>-7</td><td>TRUE</td></tr>\n",
       "\t<tr><td>L02-4</td><td>2</td><td> 7</td><td>6</td><td>2998</td><td>1</td><td>-4</td><td>2173358</td><td>2173353</td><td>-6</td><td>TRUE</td></tr>\n",
       "\t<tr><td>L02-4</td><td>2</td><td>20</td><td>7</td><td>2999</td><td>1</td><td>-6</td><td>3667801</td><td>3667795</td><td>-7</td><td>TRUE</td></tr>\n",
       "</tbody>\n",
       "</table>\n"
      ],
      "text/latex": [
       "A tibble: 6 × 11\n",
       "\\begin{tabular}{lllllllllll}\n",
       " Line & Gen & is\\_cluster\\_id & min\\_dist & head\\_qend & tail\\_qstart & raw\\_dist & min\\_start\\_raw & min\\_end\\_raw & flank\\_dist & dir\\\\\n",
       " <chr> & <dbl> & <dbl> & <dbl> & <dbl> & <dbl> & <dbl> & <dbl> & <dbl> & <dbl> & <lgl>\\\\\n",
       "\\hline\n",
       "\t L01-3 & 2 & 10 & 7 & 2998 & 1 & -5 & 1932254 & 1932248 & -7 & TRUE\\\\\n",
       "\t L01-4 & 1 &  1 & 7 & 2998 & 1 & -5 &  557155 &  557149 & -7 & TRUE\\\\\n",
       "\t L02-1 & 2 &  7 & 7 & 2998 & 1 & -5 & 2097939 & 2097933 & -7 & TRUE\\\\\n",
       "\t L02-3 & 2 &  4 & 7 & 2998 & 1 & -5 & 1305532 & 1305526 & -7 & TRUE\\\\\n",
       "\t L02-4 & 2 &  7 & 6 & 2998 & 1 & -4 & 2173358 & 2173353 & -6 & TRUE\\\\\n",
       "\t L02-4 & 2 & 20 & 7 & 2999 & 1 & -6 & 3667801 & 3667795 & -7 & TRUE\\\\\n",
       "\\end{tabular}\n"
      ],
      "text/markdown": [
       "\n",
       "A tibble: 6 × 11\n",
       "\n",
       "| Line &lt;chr&gt; | Gen &lt;dbl&gt; | is_cluster_id &lt;dbl&gt; | min_dist &lt;dbl&gt; | head_qend &lt;dbl&gt; | tail_qstart &lt;dbl&gt; | raw_dist &lt;dbl&gt; | min_start_raw &lt;dbl&gt; | min_end_raw &lt;dbl&gt; | flank_dist &lt;dbl&gt; | dir &lt;lgl&gt; |\n",
       "|---|---|---|---|---|---|---|---|---|---|---|\n",
       "| L01-3 | 2 | 10 | 7 | 2998 | 1 | -5 | 1932254 | 1932248 | -7 | TRUE |\n",
       "| L01-4 | 1 |  1 | 7 | 2998 | 1 | -5 |  557155 |  557149 | -7 | TRUE |\n",
       "| L02-1 | 2 |  7 | 7 | 2998 | 1 | -5 | 2097939 | 2097933 | -7 | TRUE |\n",
       "| L02-3 | 2 |  4 | 7 | 2998 | 1 | -5 | 1305532 | 1305526 | -7 | TRUE |\n",
       "| L02-4 | 2 |  7 | 6 | 2998 | 1 | -4 | 2173358 | 2173353 | -6 | TRUE |\n",
       "| L02-4 | 2 | 20 | 7 | 2999 | 1 | -6 | 3667801 | 3667795 | -7 | TRUE |\n",
       "\n"
      ],
      "text/plain": [
       "  Line  Gen is_cluster_id min_dist head_qend tail_qstart raw_dist min_start_raw\n",
       "1 L01-3 2   10            7        2998      1           -5       1932254      \n",
       "2 L01-4 1    1            7        2998      1           -5        557155      \n",
       "3 L02-1 2    7            7        2998      1           -5       2097939      \n",
       "4 L02-3 2    4            7        2998      1           -5       1305532      \n",
       "5 L02-4 2    7            6        2998      1           -4       2173358      \n",
       "6 L02-4 2   20            7        2999      1           -6       3667801      \n",
       "  min_end_raw flank_dist dir \n",
       "1 1932248     -7         TRUE\n",
       "2  557149     -7         TRUE\n",
       "3 2097933     -7         TRUE\n",
       "4 1305526     -7         TRUE\n",
       "5 2173353     -6         TRUE\n",
       "6 3667795     -7         TRUE"
      ]
     },
     "metadata": {},
     "output_type": "display_data"
    }
   ],
   "source": [
    "excision_stat_df %>% select(-min_i, -min_j) %>%\n",
    "\tfilter(!(Line == \"L04-1\" & Gen == 2)) %>% # remove this because pass 8 and pass 20 diverged a lot\n",
    "\tfilter(min_dist < 3000) %>%\n",
    "\thead"
   ]
  },
  {
   "cell_type": "code",
   "execution_count": 6,
   "metadata": {
    "vscode": {
     "languageId": "r"
    }
   },
   "outputs": [
    {
     "data": {
      "text/html": [
       "<table class=\"dataframe\">\n",
       "<caption>A tibble: 6 × 9</caption>\n",
       "<thead>\n",
       "\t<tr><th scope=col>is_cluster_id</th><th scope=col>Line</th><th scope=col>Gen</th><th scope=col>position_status_r</th><th scope=col>position_status_f</th><th scope=col>sv_r</th><th scope=col>sv_f</th><th scope=col>flank_pos_r</th><th scope=col>flank_pos_f</th></tr>\n",
       "\t<tr><th scope=col>&lt;dbl&gt;</th><th scope=col>&lt;chr&gt;</th><th scope=col>&lt;dbl&gt;</th><th scope=col>&lt;chr&gt;</th><th scope=col>&lt;chr&gt;</th><th scope=col>&lt;chr&gt;</th><th scope=col>&lt;chr&gt;</th><th scope=col>&lt;dbl&gt;</th><th scope=col>&lt;dbl&gt;</th></tr>\n",
       "</thead>\n",
       "<tbody>\n",
       "\t<tr><td>0</td><td>L01-1</td><td>2</td><td>original</td><td>original</td><td>pristine        </td><td>pristine        </td><td> 476930</td><td> 480019</td></tr>\n",
       "\t<tr><td>1</td><td>L01-1</td><td>2</td><td>new     </td><td>new     </td><td>unknown         </td><td>unknown         </td><td> 552533</td><td> 560570</td></tr>\n",
       "\t<tr><td>2</td><td>L01-1</td><td>2</td><td>new     </td><td>new     </td><td>simple_insertion</td><td>simple_insertion</td><td> 711472</td><td> 711460</td></tr>\n",
       "\t<tr><td>3</td><td>L01-1</td><td>2</td><td>new     </td><td>original</td><td>unknown         </td><td>unknown         </td><td>1205566</td><td>1187842</td></tr>\n",
       "\t<tr><td>4</td><td>L01-1</td><td>2</td><td>original</td><td>new     </td><td>unknown         </td><td>unknown         </td><td>1192499</td><td>1205554</td></tr>\n",
       "\t<tr><td>5</td><td>L01-1</td><td>2</td><td>original</td><td>original</td><td>pristine        </td><td>pristine        </td><td>1408214</td><td>1405125</td></tr>\n",
       "</tbody>\n",
       "</table>\n"
      ],
      "text/latex": [
       "A tibble: 6 × 9\n",
       "\\begin{tabular}{lllllllll}\n",
       " is\\_cluster\\_id & Line & Gen & position\\_status\\_r & position\\_status\\_f & sv\\_r & sv\\_f & flank\\_pos\\_r & flank\\_pos\\_f\\\\\n",
       " <dbl> & <chr> & <dbl> & <chr> & <chr> & <chr> & <chr> & <dbl> & <dbl>\\\\\n",
       "\\hline\n",
       "\t 0 & L01-1 & 2 & original & original & pristine         & pristine         &  476930 &  480019\\\\\n",
       "\t 1 & L01-1 & 2 & new      & new      & unknown          & unknown          &  552533 &  560570\\\\\n",
       "\t 2 & L01-1 & 2 & new      & new      & simple\\_insertion & simple\\_insertion &  711472 &  711460\\\\\n",
       "\t 3 & L01-1 & 2 & new      & original & unknown          & unknown          & 1205566 & 1187842\\\\\n",
       "\t 4 & L01-1 & 2 & original & new      & unknown          & unknown          & 1192499 & 1205554\\\\\n",
       "\t 5 & L01-1 & 2 & original & original & pristine         & pristine         & 1408214 & 1405125\\\\\n",
       "\\end{tabular}\n"
      ],
      "text/markdown": [
       "\n",
       "A tibble: 6 × 9\n",
       "\n",
       "| is_cluster_id &lt;dbl&gt; | Line &lt;chr&gt; | Gen &lt;dbl&gt; | position_status_r &lt;chr&gt; | position_status_f &lt;chr&gt; | sv_r &lt;chr&gt; | sv_f &lt;chr&gt; | flank_pos_r &lt;dbl&gt; | flank_pos_f &lt;dbl&gt; |\n",
       "|---|---|---|---|---|---|---|---|---|\n",
       "| 0 | L01-1 | 2 | original | original | pristine         | pristine         |  476930 |  480019 |\n",
       "| 1 | L01-1 | 2 | new      | new      | unknown          | unknown          |  552533 |  560570 |\n",
       "| 2 | L01-1 | 2 | new      | new      | simple_insertion | simple_insertion |  711472 |  711460 |\n",
       "| 3 | L01-1 | 2 | new      | original | unknown          | unknown          | 1205566 | 1187842 |\n",
       "| 4 | L01-1 | 2 | original | new      | unknown          | unknown          | 1192499 | 1205554 |\n",
       "| 5 | L01-1 | 2 | original | original | pristine         | pristine         | 1408214 | 1405125 |\n",
       "\n"
      ],
      "text/plain": [
       "  is_cluster_id Line  Gen position_status_r position_status_f sv_r            \n",
       "1 0             L01-1 2   original          original          pristine        \n",
       "2 1             L01-1 2   new               new               unknown         \n",
       "3 2             L01-1 2   new               new               simple_insertion\n",
       "4 3             L01-1 2   new               original          unknown         \n",
       "5 4             L01-1 2   original          new               unknown         \n",
       "6 5             L01-1 2   original          original          pristine        \n",
       "  sv_f             flank_pos_r flank_pos_f\n",
       "1 pristine          476930      480019    \n",
       "2 unknown           552533      560570    \n",
       "3 simple_insertion  711472      711460    \n",
       "4 unknown          1205566     1187842    \n",
       "5 unknown          1192499     1205554    \n",
       "6 pristine         1408214     1405125    "
      ]
     },
     "metadata": {},
     "output_type": "display_data"
    }
   ],
   "source": [
    "is_pos_in_ref %>%\n",
    "\tfilter(genome == \"Query\") %>%\n",
    "\tselect(is_cluster_id = pos_id, Line, Gen, position_status, sv, flank_pos = pos, flank) %>%\n",
    "\tpivot_wider(names_from = \"flank\", values_from = c(position_status, sv, flank_pos)) %>%\n",
    "\thead"
   ]
  },
  {
   "cell_type": "code",
   "execution_count": 7,
   "metadata": {
    "vscode": {
     "languageId": "r"
    }
   },
   "outputs": [
    {
     "data": {
      "text/html": [
       "<table class=\"dataframe\">\n",
       "<caption>A tibble: 27 × 14</caption>\n",
       "<thead>\n",
       "\t<tr><th scope=col>Line</th><th scope=col>Gen</th><th scope=col>is_cluster_id</th><th scope=col>min_dist</th><th scope=col>flank_dist</th><th scope=col>min_start_raw</th><th scope=col>min_end_raw</th><th scope=col>dir</th><th scope=col>position_status_r</th><th scope=col>position_status_f</th><th scope=col>sv_r</th><th scope=col>sv_f</th><th scope=col>flank_pos_r</th><th scope=col>flank_pos_f</th></tr>\n",
       "\t<tr><th scope=col>&lt;chr&gt;</th><th scope=col>&lt;dbl&gt;</th><th scope=col>&lt;dbl&gt;</th><th scope=col>&lt;dbl&gt;</th><th scope=col>&lt;dbl&gt;</th><th scope=col>&lt;dbl&gt;</th><th scope=col>&lt;dbl&gt;</th><th scope=col>&lt;lgl&gt;</th><th scope=col>&lt;chr&gt;</th><th scope=col>&lt;chr&gt;</th><th scope=col>&lt;chr&gt;</th><th scope=col>&lt;chr&gt;</th><th scope=col>&lt;dbl&gt;</th><th scope=col>&lt;dbl&gt;</th></tr>\n",
       "</thead>\n",
       "<tbody>\n",
       "\t<tr><td>L01-3</td><td>2</td><td>10</td><td>   7</td><td>  -7</td><td>1932254</td><td>1932248</td><td> TRUE</td><td>new     </td><td>new     </td><td>simple_insertion</td><td>simple_insertion</td><td>1933692</td><td>1933679</td></tr>\n",
       "\t<tr><td>L01-4</td><td>1</td><td> 1</td><td>   7</td><td>  -7</td><td> 557155</td><td> 557149</td><td> TRUE</td><td>NA      </td><td>NA      </td><td>NA              </td><td>NA              </td><td>     NA</td><td>     NA</td></tr>\n",
       "\t<tr><td>L02-1</td><td>2</td><td> 7</td><td>   7</td><td>  -7</td><td>2097939</td><td>2097933</td><td> TRUE</td><td>new     </td><td>new     </td><td>simple_insertion</td><td>simple_insertion</td><td>2139573</td><td>2139560</td></tr>\n",
       "\t<tr><td>L02-3</td><td>2</td><td> 4</td><td>   7</td><td>  -7</td><td>1305532</td><td>1305526</td><td> TRUE</td><td>new     </td><td>new     </td><td>simple_insertion</td><td>simple_insertion</td><td>1326211</td><td>1326198</td></tr>\n",
       "\t<tr><td>L02-4</td><td>2</td><td> 7</td><td>   6</td><td>  -6</td><td>2173358</td><td>2173353</td><td> TRUE</td><td>new     </td><td>new     </td><td>simple_insertion</td><td>simple_insertion</td><td>2157278</td><td>2157266</td></tr>\n",
       "\t<tr><td>L02-4</td><td>2</td><td>20</td><td>   7</td><td>  -7</td><td>3667801</td><td>3667795</td><td> TRUE</td><td>new     </td><td>new     </td><td>simple_insertion</td><td>simple_insertion</td><td>3534905</td><td>3534893</td></tr>\n",
       "\t<tr><td>L03-3</td><td>1</td><td> 8</td><td>1875</td><td>1875</td><td>3923798</td><td>3925674</td><td> TRUE</td><td>NA      </td><td>NA      </td><td>NA              </td><td>NA              </td><td>     NA</td><td>     NA</td></tr>\n",
       "\t<tr><td>L03-3</td><td>2</td><td> 6</td><td>   7</td><td>  -7</td><td>1617303</td><td>1617297</td><td> TRUE</td><td>new     </td><td>new     </td><td>simple_insertion</td><td>simple_insertion</td><td>1578194</td><td>1578207</td></tr>\n",
       "\t<tr><td>L03-3</td><td>2</td><td> 9</td><td>   4</td><td>  -4</td><td>1894162</td><td>1894165</td><td>FALSE</td><td>original</td><td>original</td><td>unknown         </td><td>unknown         </td><td>1878154</td><td>1878155</td></tr>\n",
       "\t<tr><td>L03-4</td><td>2</td><td> 3</td><td>   7</td><td>  -7</td><td>1122383</td><td>1122377</td><td> TRUE</td><td>original</td><td>original</td><td>pristine        </td><td>pristine        </td><td>1110057</td><td>1113146</td></tr>\n",
       "\t<tr><td>L03-4</td><td>2</td><td>17</td><td>   7</td><td>  -7</td><td>3048254</td><td>3048248</td><td> TRUE</td><td>new     </td><td>new     </td><td>simple_insertion</td><td>simple_insertion</td><td>2964657</td><td>2964670</td></tr>\n",
       "\t<tr><td>L04-1</td><td>1</td><td> 5</td><td>   8</td><td>  -8</td><td>2929820</td><td>2929827</td><td> TRUE</td><td>NA      </td><td>NA      </td><td>NA              </td><td>NA              </td><td>     NA</td><td>     NA</td></tr>\n",
       "\t<tr><td>L04-3</td><td>2</td><td>17</td><td>   6</td><td>  -6</td><td>2352890</td><td>2352885</td><td> TRUE</td><td>new     </td><td>new     </td><td>simple_insertion</td><td>simple_insertion</td><td>2197196</td><td>2197208</td></tr>\n",
       "\t<tr><td>L04-4</td><td>2</td><td>20</td><td>   7</td><td>  -7</td><td>3485444</td><td>3485438</td><td> TRUE</td><td>new     </td><td>new     </td><td>simple_insertion</td><td>simple_insertion</td><td>3376952</td><td>3376939</td></tr>\n",
       "\t<tr><td>L05-1</td><td>2</td><td> 7</td><td>   8</td><td>  -8</td><td>1935912</td><td>1935905</td><td> TRUE</td><td>new     </td><td>new     </td><td>simple_insertion</td><td>simple_insertion</td><td>1923105</td><td>1923092</td></tr>\n",
       "\t<tr><td>L05-2</td><td>1</td><td> 1</td><td>   8</td><td>  -8</td><td>1244236</td><td>1244229</td><td> TRUE</td><td>NA      </td><td>NA      </td><td>NA              </td><td>NA              </td><td>     NA</td><td>     NA</td></tr>\n",
       "\t<tr><td>L05-4</td><td>2</td><td> 6</td><td>   7</td><td>  -7</td><td>2183847</td><td>2183853</td><td> TRUE</td><td>new     </td><td>new     </td><td>simple_insertion</td><td>simple_insertion</td><td>2113016</td><td>2113029</td></tr>\n",
       "\t<tr><td>L06-3</td><td>2</td><td> 5</td><td>   8</td><td>  -8</td><td>1423953</td><td>1423946</td><td> TRUE</td><td>new     </td><td>new     </td><td>simple_insertion</td><td>simple_insertion</td><td>2433964</td><td>2433977</td></tr>\n",
       "\t<tr><td>L08-4</td><td>2</td><td> 1</td><td>   7</td><td>  -7</td><td>  69480</td><td>  69474</td><td> TRUE</td><td>original</td><td>original</td><td>pristine        </td><td>pristine        </td><td>  69490</td><td>  72580</td></tr>\n",
       "\t<tr><td>L09-2</td><td>1</td><td> 0</td><td>   8</td><td>  -8</td><td> 390635</td><td> 390628</td><td> TRUE</td><td>NA      </td><td>NA      </td><td>NA              </td><td>NA              </td><td>     NA</td><td>     NA</td></tr>\n",
       "\t<tr><td>L09-2</td><td>2</td><td> 3</td><td>   8</td><td>  -8</td><td>1412348</td><td>1412341</td><td> TRUE</td><td>new     </td><td>new     </td><td>simple_insertion</td><td>simple_insertion</td><td>1413296</td><td>1413283</td></tr>\n",
       "\t<tr><td>L09-3</td><td>2</td><td> 1</td><td>   7</td><td>  -7</td><td> 374902</td><td> 374896</td><td> TRUE</td><td>new     </td><td>new     </td><td>simple_insertion</td><td>simple_insertion</td><td> 370923</td><td> 370910</td></tr>\n",
       "\t<tr><td>L09-3</td><td>2</td><td> 9</td><td>   7</td><td>  -7</td><td>1929019</td><td>1929013</td><td> TRUE</td><td>new     </td><td>new     </td><td>simple_insertion</td><td>simple_insertion</td><td>1923002</td><td>1923015</td></tr>\n",
       "\t<tr><td>L09-4</td><td>2</td><td>12</td><td>  84</td><td>  84</td><td>3852079</td><td>3852164</td><td> TRUE</td><td>new     </td><td>new     </td><td>unknown         </td><td>unknown         </td><td>3853394</td><td>3853316</td></tr>\n",
       "\t<tr><td>L10-1</td><td>2</td><td>11</td><td>   7</td><td>  -7</td><td>3878616</td><td>3878610</td><td> TRUE</td><td>new     </td><td>new     </td><td>simple_insertion</td><td>simple_insertion</td><td>3891107</td><td>3891094</td></tr>\n",
       "\t<tr><td>L10-3</td><td>2</td><td> 8</td><td>   7</td><td>  -7</td><td>2289133</td><td>2289127</td><td> TRUE</td><td>new     </td><td>new     </td><td>simple_insertion</td><td>simple_insertion</td><td>2313737</td><td>2313724</td></tr>\n",
       "\t<tr><td>L11-2</td><td>1</td><td> 7</td><td>   8</td><td>  -8</td><td>2220440</td><td>2220433</td><td> TRUE</td><td>NA      </td><td>NA      </td><td>NA              </td><td>NA              </td><td>     NA</td><td>     NA</td></tr>\n",
       "</tbody>\n",
       "</table>\n"
      ],
      "text/latex": [
       "A tibble: 27 × 14\n",
       "\\begin{tabular}{llllllllllllll}\n",
       " Line & Gen & is\\_cluster\\_id & min\\_dist & flank\\_dist & min\\_start\\_raw & min\\_end\\_raw & dir & position\\_status\\_r & position\\_status\\_f & sv\\_r & sv\\_f & flank\\_pos\\_r & flank\\_pos\\_f\\\\\n",
       " <chr> & <dbl> & <dbl> & <dbl> & <dbl> & <dbl> & <dbl> & <lgl> & <chr> & <chr> & <chr> & <chr> & <dbl> & <dbl>\\\\\n",
       "\\hline\n",
       "\t L01-3 & 2 & 10 &    7 &   -7 & 1932254 & 1932248 &  TRUE & new      & new      & simple\\_insertion & simple\\_insertion & 1933692 & 1933679\\\\\n",
       "\t L01-4 & 1 &  1 &    7 &   -7 &  557155 &  557149 &  TRUE & NA       & NA       & NA               & NA               &      NA &      NA\\\\\n",
       "\t L02-1 & 2 &  7 &    7 &   -7 & 2097939 & 2097933 &  TRUE & new      & new      & simple\\_insertion & simple\\_insertion & 2139573 & 2139560\\\\\n",
       "\t L02-3 & 2 &  4 &    7 &   -7 & 1305532 & 1305526 &  TRUE & new      & new      & simple\\_insertion & simple\\_insertion & 1326211 & 1326198\\\\\n",
       "\t L02-4 & 2 &  7 &    6 &   -6 & 2173358 & 2173353 &  TRUE & new      & new      & simple\\_insertion & simple\\_insertion & 2157278 & 2157266\\\\\n",
       "\t L02-4 & 2 & 20 &    7 &   -7 & 3667801 & 3667795 &  TRUE & new      & new      & simple\\_insertion & simple\\_insertion & 3534905 & 3534893\\\\\n",
       "\t L03-3 & 1 &  8 & 1875 & 1875 & 3923798 & 3925674 &  TRUE & NA       & NA       & NA               & NA               &      NA &      NA\\\\\n",
       "\t L03-3 & 2 &  6 &    7 &   -7 & 1617303 & 1617297 &  TRUE & new      & new      & simple\\_insertion & simple\\_insertion & 1578194 & 1578207\\\\\n",
       "\t L03-3 & 2 &  9 &    4 &   -4 & 1894162 & 1894165 & FALSE & original & original & unknown          & unknown          & 1878154 & 1878155\\\\\n",
       "\t L03-4 & 2 &  3 &    7 &   -7 & 1122383 & 1122377 &  TRUE & original & original & pristine         & pristine         & 1110057 & 1113146\\\\\n",
       "\t L03-4 & 2 & 17 &    7 &   -7 & 3048254 & 3048248 &  TRUE & new      & new      & simple\\_insertion & simple\\_insertion & 2964657 & 2964670\\\\\n",
       "\t L04-1 & 1 &  5 &    8 &   -8 & 2929820 & 2929827 &  TRUE & NA       & NA       & NA               & NA               &      NA &      NA\\\\\n",
       "\t L04-3 & 2 & 17 &    6 &   -6 & 2352890 & 2352885 &  TRUE & new      & new      & simple\\_insertion & simple\\_insertion & 2197196 & 2197208\\\\\n",
       "\t L04-4 & 2 & 20 &    7 &   -7 & 3485444 & 3485438 &  TRUE & new      & new      & simple\\_insertion & simple\\_insertion & 3376952 & 3376939\\\\\n",
       "\t L05-1 & 2 &  7 &    8 &   -8 & 1935912 & 1935905 &  TRUE & new      & new      & simple\\_insertion & simple\\_insertion & 1923105 & 1923092\\\\\n",
       "\t L05-2 & 1 &  1 &    8 &   -8 & 1244236 & 1244229 &  TRUE & NA       & NA       & NA               & NA               &      NA &      NA\\\\\n",
       "\t L05-4 & 2 &  6 &    7 &   -7 & 2183847 & 2183853 &  TRUE & new      & new      & simple\\_insertion & simple\\_insertion & 2113016 & 2113029\\\\\n",
       "\t L06-3 & 2 &  5 &    8 &   -8 & 1423953 & 1423946 &  TRUE & new      & new      & simple\\_insertion & simple\\_insertion & 2433964 & 2433977\\\\\n",
       "\t L08-4 & 2 &  1 &    7 &   -7 &   69480 &   69474 &  TRUE & original & original & pristine         & pristine         &   69490 &   72580\\\\\n",
       "\t L09-2 & 1 &  0 &    8 &   -8 &  390635 &  390628 &  TRUE & NA       & NA       & NA               & NA               &      NA &      NA\\\\\n",
       "\t L09-2 & 2 &  3 &    8 &   -8 & 1412348 & 1412341 &  TRUE & new      & new      & simple\\_insertion & simple\\_insertion & 1413296 & 1413283\\\\\n",
       "\t L09-3 & 2 &  1 &    7 &   -7 &  374902 &  374896 &  TRUE & new      & new      & simple\\_insertion & simple\\_insertion &  370923 &  370910\\\\\n",
       "\t L09-3 & 2 &  9 &    7 &   -7 & 1929019 & 1929013 &  TRUE & new      & new      & simple\\_insertion & simple\\_insertion & 1923002 & 1923015\\\\\n",
       "\t L09-4 & 2 & 12 &   84 &   84 & 3852079 & 3852164 &  TRUE & new      & new      & unknown          & unknown          & 3853394 & 3853316\\\\\n",
       "\t L10-1 & 2 & 11 &    7 &   -7 & 3878616 & 3878610 &  TRUE & new      & new      & simple\\_insertion & simple\\_insertion & 3891107 & 3891094\\\\\n",
       "\t L10-3 & 2 &  8 &    7 &   -7 & 2289133 & 2289127 &  TRUE & new      & new      & simple\\_insertion & simple\\_insertion & 2313737 & 2313724\\\\\n",
       "\t L11-2 & 1 &  7 &    8 &   -8 & 2220440 & 2220433 &  TRUE & NA       & NA       & NA               & NA               &      NA &      NA\\\\\n",
       "\\end{tabular}\n"
      ],
      "text/markdown": [
       "\n",
       "A tibble: 27 × 14\n",
       "\n",
       "| Line &lt;chr&gt; | Gen &lt;dbl&gt; | is_cluster_id &lt;dbl&gt; | min_dist &lt;dbl&gt; | flank_dist &lt;dbl&gt; | min_start_raw &lt;dbl&gt; | min_end_raw &lt;dbl&gt; | dir &lt;lgl&gt; | position_status_r &lt;chr&gt; | position_status_f &lt;chr&gt; | sv_r &lt;chr&gt; | sv_f &lt;chr&gt; | flank_pos_r &lt;dbl&gt; | flank_pos_f &lt;dbl&gt; |\n",
       "|---|---|---|---|---|---|---|---|---|---|---|---|---|---|\n",
       "| L01-3 | 2 | 10 |    7 |   -7 | 1932254 | 1932248 |  TRUE | new      | new      | simple_insertion | simple_insertion | 1933692 | 1933679 |\n",
       "| L01-4 | 1 |  1 |    7 |   -7 |  557155 |  557149 |  TRUE | NA       | NA       | NA               | NA               |      NA |      NA |\n",
       "| L02-1 | 2 |  7 |    7 |   -7 | 2097939 | 2097933 |  TRUE | new      | new      | simple_insertion | simple_insertion | 2139573 | 2139560 |\n",
       "| L02-3 | 2 |  4 |    7 |   -7 | 1305532 | 1305526 |  TRUE | new      | new      | simple_insertion | simple_insertion | 1326211 | 1326198 |\n",
       "| L02-4 | 2 |  7 |    6 |   -6 | 2173358 | 2173353 |  TRUE | new      | new      | simple_insertion | simple_insertion | 2157278 | 2157266 |\n",
       "| L02-4 | 2 | 20 |    7 |   -7 | 3667801 | 3667795 |  TRUE | new      | new      | simple_insertion | simple_insertion | 3534905 | 3534893 |\n",
       "| L03-3 | 1 |  8 | 1875 | 1875 | 3923798 | 3925674 |  TRUE | NA       | NA       | NA               | NA               |      NA |      NA |\n",
       "| L03-3 | 2 |  6 |    7 |   -7 | 1617303 | 1617297 |  TRUE | new      | new      | simple_insertion | simple_insertion | 1578194 | 1578207 |\n",
       "| L03-3 | 2 |  9 |    4 |   -4 | 1894162 | 1894165 | FALSE | original | original | unknown          | unknown          | 1878154 | 1878155 |\n",
       "| L03-4 | 2 |  3 |    7 |   -7 | 1122383 | 1122377 |  TRUE | original | original | pristine         | pristine         | 1110057 | 1113146 |\n",
       "| L03-4 | 2 | 17 |    7 |   -7 | 3048254 | 3048248 |  TRUE | new      | new      | simple_insertion | simple_insertion | 2964657 | 2964670 |\n",
       "| L04-1 | 1 |  5 |    8 |   -8 | 2929820 | 2929827 |  TRUE | NA       | NA       | NA               | NA               |      NA |      NA |\n",
       "| L04-3 | 2 | 17 |    6 |   -6 | 2352890 | 2352885 |  TRUE | new      | new      | simple_insertion | simple_insertion | 2197196 | 2197208 |\n",
       "| L04-4 | 2 | 20 |    7 |   -7 | 3485444 | 3485438 |  TRUE | new      | new      | simple_insertion | simple_insertion | 3376952 | 3376939 |\n",
       "| L05-1 | 2 |  7 |    8 |   -8 | 1935912 | 1935905 |  TRUE | new      | new      | simple_insertion | simple_insertion | 1923105 | 1923092 |\n",
       "| L05-2 | 1 |  1 |    8 |   -8 | 1244236 | 1244229 |  TRUE | NA       | NA       | NA               | NA               |      NA |      NA |\n",
       "| L05-4 | 2 |  6 |    7 |   -7 | 2183847 | 2183853 |  TRUE | new      | new      | simple_insertion | simple_insertion | 2113016 | 2113029 |\n",
       "| L06-3 | 2 |  5 |    8 |   -8 | 1423953 | 1423946 |  TRUE | new      | new      | simple_insertion | simple_insertion | 2433964 | 2433977 |\n",
       "| L08-4 | 2 |  1 |    7 |   -7 |   69480 |   69474 |  TRUE | original | original | pristine         | pristine         |   69490 |   72580 |\n",
       "| L09-2 | 1 |  0 |    8 |   -8 |  390635 |  390628 |  TRUE | NA       | NA       | NA               | NA               |      NA |      NA |\n",
       "| L09-2 | 2 |  3 |    8 |   -8 | 1412348 | 1412341 |  TRUE | new      | new      | simple_insertion | simple_insertion | 1413296 | 1413283 |\n",
       "| L09-3 | 2 |  1 |    7 |   -7 |  374902 |  374896 |  TRUE | new      | new      | simple_insertion | simple_insertion |  370923 |  370910 |\n",
       "| L09-3 | 2 |  9 |    7 |   -7 | 1929019 | 1929013 |  TRUE | new      | new      | simple_insertion | simple_insertion | 1923002 | 1923015 |\n",
       "| L09-4 | 2 | 12 |   84 |   84 | 3852079 | 3852164 |  TRUE | new      | new      | unknown          | unknown          | 3853394 | 3853316 |\n",
       "| L10-1 | 2 | 11 |    7 |   -7 | 3878616 | 3878610 |  TRUE | new      | new      | simple_insertion | simple_insertion | 3891107 | 3891094 |\n",
       "| L10-3 | 2 |  8 |    7 |   -7 | 2289133 | 2289127 |  TRUE | new      | new      | simple_insertion | simple_insertion | 2313737 | 2313724 |\n",
       "| L11-2 | 1 |  7 |    8 |   -8 | 2220440 | 2220433 |  TRUE | NA       | NA       | NA               | NA               |      NA |      NA |\n",
       "\n"
      ],
      "text/plain": [
       "   Line  Gen is_cluster_id min_dist flank_dist min_start_raw min_end_raw dir  \n",
       "1  L01-3 2   10               7       -7       1932254       1932248      TRUE\n",
       "2  L01-4 1    1               7       -7        557155        557149      TRUE\n",
       "3  L02-1 2    7               7       -7       2097939       2097933      TRUE\n",
       "4  L02-3 2    4               7       -7       1305532       1305526      TRUE\n",
       "5  L02-4 2    7               6       -6       2173358       2173353      TRUE\n",
       "6  L02-4 2   20               7       -7       3667801       3667795      TRUE\n",
       "7  L03-3 1    8            1875     1875       3923798       3925674      TRUE\n",
       "8  L03-3 2    6               7       -7       1617303       1617297      TRUE\n",
       "9  L03-3 2    9               4       -4       1894162       1894165     FALSE\n",
       "10 L03-4 2    3               7       -7       1122383       1122377      TRUE\n",
       "11 L03-4 2   17               7       -7       3048254       3048248      TRUE\n",
       "12 L04-1 1    5               8       -8       2929820       2929827      TRUE\n",
       "13 L04-3 2   17               6       -6       2352890       2352885      TRUE\n",
       "14 L04-4 2   20               7       -7       3485444       3485438      TRUE\n",
       "15 L05-1 2    7               8       -8       1935912       1935905      TRUE\n",
       "16 L05-2 1    1               8       -8       1244236       1244229      TRUE\n",
       "17 L05-4 2    6               7       -7       2183847       2183853      TRUE\n",
       "18 L06-3 2    5               8       -8       1423953       1423946      TRUE\n",
       "19 L08-4 2    1               7       -7         69480         69474      TRUE\n",
       "20 L09-2 1    0               8       -8        390635        390628      TRUE\n",
       "21 L09-2 2    3               8       -8       1412348       1412341      TRUE\n",
       "22 L09-3 2    1               7       -7        374902        374896      TRUE\n",
       "23 L09-3 2    9               7       -7       1929019       1929013      TRUE\n",
       "24 L09-4 2   12              84       84       3852079       3852164      TRUE\n",
       "25 L10-1 2   11               7       -7       3878616       3878610      TRUE\n",
       "26 L10-3 2    8               7       -7       2289133       2289127      TRUE\n",
       "27 L11-2 1    7               8       -8       2220440       2220433      TRUE\n",
       "   position_status_r position_status_f sv_r             sv_f            \n",
       "1  new               new               simple_insertion simple_insertion\n",
       "2  NA                NA                NA               NA              \n",
       "3  new               new               simple_insertion simple_insertion\n",
       "4  new               new               simple_insertion simple_insertion\n",
       "5  new               new               simple_insertion simple_insertion\n",
       "6  new               new               simple_insertion simple_insertion\n",
       "7  NA                NA                NA               NA              \n",
       "8  new               new               simple_insertion simple_insertion\n",
       "9  original          original          unknown          unknown         \n",
       "10 original          original          pristine         pristine        \n",
       "11 new               new               simple_insertion simple_insertion\n",
       "12 NA                NA                NA               NA              \n",
       "13 new               new               simple_insertion simple_insertion\n",
       "14 new               new               simple_insertion simple_insertion\n",
       "15 new               new               simple_insertion simple_insertion\n",
       "16 NA                NA                NA               NA              \n",
       "17 new               new               simple_insertion simple_insertion\n",
       "18 new               new               simple_insertion simple_insertion\n",
       "19 original          original          pristine         pristine        \n",
       "20 NA                NA                NA               NA              \n",
       "21 new               new               simple_insertion simple_insertion\n",
       "22 new               new               simple_insertion simple_insertion\n",
       "23 new               new               simple_insertion simple_insertion\n",
       "24 new               new               unknown          unknown         \n",
       "25 new               new               simple_insertion simple_insertion\n",
       "26 new               new               simple_insertion simple_insertion\n",
       "27 NA                NA                NA               NA              \n",
       "   flank_pos_r flank_pos_f\n",
       "1  1933692     1933679    \n",
       "2       NA          NA    \n",
       "3  2139573     2139560    \n",
       "4  1326211     1326198    \n",
       "5  2157278     2157266    \n",
       "6  3534905     3534893    \n",
       "7       NA          NA    \n",
       "8  1578194     1578207    \n",
       "9  1878154     1878155    \n",
       "10 1110057     1113146    \n",
       "11 2964657     2964670    \n",
       "12      NA          NA    \n",
       "13 2197196     2197208    \n",
       "14 3376952     3376939    \n",
       "15 1923105     1923092    \n",
       "16      NA          NA    \n",
       "17 2113016     2113029    \n",
       "18 2433964     2433977    \n",
       "19   69490       72580    \n",
       "20      NA          NA    \n",
       "21 1413296     1413283    \n",
       "22  370923      370910    \n",
       "23 1923002     1923015    \n",
       "24 3853394     3853316    \n",
       "25 3891107     3891094    \n",
       "26 2313737     2313724    \n",
       "27      NA          NA    "
      ]
     },
     "metadata": {},
     "output_type": "display_data"
    }
   ],
   "source": [
    "excision_stat_df %>% select(Line:min_dist, flank_dist, min_start_raw, min_end_raw, dir) %>%\n",
    "\tfilter(!(Line == \"L04-1\" & Gen == 2)) %>% # fixed 20240703 \n",
    "\tfilter(min_dist < 3000) %>% # does not contain full-length ISs\n",
    "\tleft_join(\n",
    "\t\tis_pos_in_ref %>%\n",
    "\t\tfilter(genome == \"Query\") %>%\n",
    "\t\tselect(is_cluster_id = pos_id, Line, Gen, position_status, sv, flank_pos = pos, flank) %>%\n",
    "\t\tpivot_wider(names_from = \"flank\", values_from = c(position_status, sv, flank_pos)),\n",
    "\t\tby = c(\"Line\", \"Gen\", \"is_cluster_id\")\n",
    "\t)"
   ]
  },
  {
   "cell_type": "markdown",
   "metadata": {},
   "source": [
    "### STAT: number of simple excisions"
   ]
  },
  {
   "cell_type": "code",
   "execution_count": 8,
   "metadata": {
    "vscode": {
     "languageId": "r"
    }
   },
   "outputs": [
    {
     "data": {
      "text/html": [
       "<table class=\"dataframe\">\n",
       "<caption>A tibble: 2 × 2</caption>\n",
       "<thead>\n",
       "\t<tr><th scope=col>Gen</th><th scope=col>cnt</th></tr>\n",
       "\t<tr><th scope=col>&lt;dbl&gt;</th><th scope=col>&lt;int&gt;</th></tr>\n",
       "</thead>\n",
       "<tbody>\n",
       "\t<tr><td>1</td><td> 5</td></tr>\n",
       "\t<tr><td>2</td><td>20</td></tr>\n",
       "</tbody>\n",
       "</table>\n"
      ],
      "text/latex": [
       "A tibble: 2 × 2\n",
       "\\begin{tabular}{ll}\n",
       " Gen & cnt\\\\\n",
       " <dbl> & <int>\\\\\n",
       "\\hline\n",
       "\t 1 &  5\\\\\n",
       "\t 2 & 20\\\\\n",
       "\\end{tabular}\n"
      ],
      "text/markdown": [
       "\n",
       "A tibble: 2 × 2\n",
       "\n",
       "| Gen &lt;dbl&gt; | cnt &lt;int&gt; |\n",
       "|---|---|\n",
       "| 1 |  5 |\n",
       "| 2 | 20 |\n",
       "\n"
      ],
      "text/plain": [
       "  Gen cnt\n",
       "1 1    5 \n",
       "2 2   20 "
      ]
     },
     "metadata": {},
     "output_type": "display_data"
    }
   ],
   "source": [
    "excision_stat_df.stat <- excision_stat_df %>% select(Line:min_dist, flank_dist, min_start_raw, min_end_raw, dir) %>%\n",
    "\tfilter(!(Line == \"L04-1\" & Gen == 2)) %>% # fixed 20240703 \n",
    "\tfilter(min_dist < 3000) %>%\n",
    "\tleft_join(\n",
    "\t\tis_pos_in_ref %>%\n",
    "\t\tfilter(genome == \"Query\") %>%\n",
    "\t\tselect(is_cluster_id = pos_id, Line, Gen, position_status, sv, flank_pos = pos, flank) %>%\n",
    "\t\tpivot_wider(names_from = \"flank\", values_from = c(position_status, sv, flank_pos)),\n",
    "\t\tby = c(\"Line\", \"Gen\", \"is_cluster_id\")\n",
    "\t) %>% filter(dir, min_dist<100) %>%  # I excluded non-matching dir as this indicates potential inversions\n",
    "\tgroup_by(Gen) %>% summarise(cnt = n()) %>% ungroup()\n",
    "excision_stat_df.stat"
   ]
  },
  {
   "cell_type": "markdown",
   "metadata": {},
   "source": [
    "The identity of excluded ones. \\\\\n",
    "L03-3\t1\t8: deletion of both ends \\\\\n",
    "L03-3\t2\t9\t4\t: deletion bringing an inverted duplicated region close to a distant region"
   ]
  },
  {
   "cell_type": "markdown",
   "metadata": {},
   "source": [
    "## STAT: Binomtest 8 vs 20\n",
    "The number of excisions differ much between the two.\n",
    "The expected ratio should be\n",
    "44 lines * 8 passages / (43 lines * 12 passages + 44 lines * 8 passages) \n",
    "Out of the excisions (attempts) is the losses up until the eighth passage siginificant?"
   ]
  },
  {
   "cell_type": "code",
   "execution_count": 9,
   "metadata": {
    "vscode": {
     "languageId": "r"
    }
   },
   "outputs": [
    {
     "data": {
      "text/plain": [
       "\n",
       "\tExact binomial test\n",
       "\n",
       "data:  excision_stat_df.stat$cnt[1] and sum(excision_stat_df.stat$cnt)\n",
       "number of successes = 5, number of trials = 25, p-value = 0.02588\n",
       "alternative hypothesis: true probability of success is less than 0.40553\n",
       "95 percent confidence interval:\n",
       " 0.0000000 0.3754051\n",
       "sample estimates:\n",
       "probability of success \n",
       "                   0.2 \n"
      ]
     },
     "metadata": {},
     "output_type": "display_data"
    }
   ],
   "source": [
    "binom.test(excision_stat_df.stat$cnt[1], sum(excision_stat_df.stat$cnt), 44*8/(43*12 + 44*8), alternative=\"less\")"
   ]
  },
  {
   "cell_type": "code",
   "execution_count": 10,
   "metadata": {
    "vscode": {
     "languageId": "r"
    }
   },
   "outputs": [
    {
     "data": {
      "text/html": [
       "<table class=\"dataframe\">\n",
       "<caption>A tibble: 1 × 3</caption>\n",
       "<thead>\n",
       "\t<tr><th scope=col>total</th><th scope=col>simple</th><th scope=col>other</th></tr>\n",
       "\t<tr><th scope=col>&lt;int&gt;</th><th scope=col>&lt;int&gt;</th><th scope=col>&lt;int&gt;</th></tr>\n",
       "</thead>\n",
       "<tbody>\n",
       "\t<tr><td>20</td><td>17</td><td>3</td></tr>\n",
       "</tbody>\n",
       "</table>\n"
      ],
      "text/latex": [
       "A tibble: 1 × 3\n",
       "\\begin{tabular}{lll}\n",
       " total & simple & other\\\\\n",
       " <int> & <int> & <int>\\\\\n",
       "\\hline\n",
       "\t 20 & 17 & 3\\\\\n",
       "\\end{tabular}\n"
      ],
      "text/markdown": [
       "\n",
       "A tibble: 1 × 3\n",
       "\n",
       "| total &lt;int&gt; | simple &lt;int&gt; | other &lt;int&gt; |\n",
       "|---|---|---|\n",
       "| 20 | 17 | 3 |\n",
       "\n"
      ],
      "text/plain": [
       "  total simple other\n",
       "1 20    17     3    "
      ]
     },
     "metadata": {},
     "output_type": "display_data"
    }
   ],
   "source": [
    "excision_stat_df %>% select(Line:min_dist, flank_dist, min_start_raw, min_end_raw, dir) %>%\n",
    "\tfilter(!(Line == \"L04-1\" & Gen == 2)) %>% # fixed 20240703 \n",
    "\tfilter(min_dist < 3000) %>%\n",
    "\tleft_join(\n",
    "\t\tis_pos_in_ref %>%\n",
    "\t\tfilter(genome == \"Query\") %>%\n",
    "\t\tselect(is_cluster_id = pos_id, Line, Gen, position_status, sv, flank_pos = pos, flank) %>%\n",
    "\t\tpivot_wider(names_from = \"flank\", values_from = c(position_status, sv, flank_pos)),\n",
    "\t\tby = c(\"Line\", \"Gen\", \"is_cluster_id\")\n",
    "\t) %>% filter(Gen == 2, dir, min_dist<100) %>%\n",
    "\tsummarise(total = n(), simple = sum((sv_r == \"simple_insertion\") | (sv_f == \"simple_insertion\"))) %>%\n",
    "\tmutate(other = total - simple) "
   ]
  },
  {
   "cell_type": "code",
   "execution_count": 11,
   "metadata": {
    "vscode": {
     "languageId": "r"
    }
   },
   "outputs": [
    {
     "data": {
      "text/html": [
       "<table class=\"dataframe\">\n",
       "<caption>A tibble: 3 × 14</caption>\n",
       "<thead>\n",
       "\t<tr><th scope=col>Line</th><th scope=col>Gen</th><th scope=col>is_cluster_id</th><th scope=col>min_dist</th><th scope=col>flank_dist</th><th scope=col>min_start_raw</th><th scope=col>min_end_raw</th><th scope=col>dir</th><th scope=col>position_status_r</th><th scope=col>position_status_f</th><th scope=col>sv_r</th><th scope=col>sv_f</th><th scope=col>flank_pos_r</th><th scope=col>flank_pos_f</th></tr>\n",
       "\t<tr><th scope=col>&lt;chr&gt;</th><th scope=col>&lt;dbl&gt;</th><th scope=col>&lt;dbl&gt;</th><th scope=col>&lt;dbl&gt;</th><th scope=col>&lt;dbl&gt;</th><th scope=col>&lt;dbl&gt;</th><th scope=col>&lt;dbl&gt;</th><th scope=col>&lt;lgl&gt;</th><th scope=col>&lt;chr&gt;</th><th scope=col>&lt;chr&gt;</th><th scope=col>&lt;chr&gt;</th><th scope=col>&lt;chr&gt;</th><th scope=col>&lt;dbl&gt;</th><th scope=col>&lt;dbl&gt;</th></tr>\n",
       "</thead>\n",
       "<tbody>\n",
       "\t<tr><td>L03-4</td><td>2</td><td> 3</td><td> 7</td><td>-7</td><td>1122383</td><td>1122377</td><td>TRUE</td><td>original</td><td>original</td><td>pristine</td><td>pristine</td><td>1110057</td><td>1113146</td></tr>\n",
       "\t<tr><td>L08-4</td><td>2</td><td> 1</td><td> 7</td><td>-7</td><td>  69480</td><td>  69474</td><td>TRUE</td><td>original</td><td>original</td><td>pristine</td><td>pristine</td><td>  69490</td><td>  72580</td></tr>\n",
       "\t<tr><td>L09-4</td><td>2</td><td>12</td><td>84</td><td>84</td><td>3852079</td><td>3852164</td><td>TRUE</td><td>new     </td><td>new     </td><td>unknown </td><td>unknown </td><td>3853394</td><td>3853316</td></tr>\n",
       "</tbody>\n",
       "</table>\n"
      ],
      "text/latex": [
       "A tibble: 3 × 14\n",
       "\\begin{tabular}{llllllllllllll}\n",
       " Line & Gen & is\\_cluster\\_id & min\\_dist & flank\\_dist & min\\_start\\_raw & min\\_end\\_raw & dir & position\\_status\\_r & position\\_status\\_f & sv\\_r & sv\\_f & flank\\_pos\\_r & flank\\_pos\\_f\\\\\n",
       " <chr> & <dbl> & <dbl> & <dbl> & <dbl> & <dbl> & <dbl> & <lgl> & <chr> & <chr> & <chr> & <chr> & <dbl> & <dbl>\\\\\n",
       "\\hline\n",
       "\t L03-4 & 2 &  3 &  7 & -7 & 1122383 & 1122377 & TRUE & original & original & pristine & pristine & 1110057 & 1113146\\\\\n",
       "\t L08-4 & 2 &  1 &  7 & -7 &   69480 &   69474 & TRUE & original & original & pristine & pristine &   69490 &   72580\\\\\n",
       "\t L09-4 & 2 & 12 & 84 & 84 & 3852079 & 3852164 & TRUE & new      & new      & unknown  & unknown  & 3853394 & 3853316\\\\\n",
       "\\end{tabular}\n"
      ],
      "text/markdown": [
       "\n",
       "A tibble: 3 × 14\n",
       "\n",
       "| Line &lt;chr&gt; | Gen &lt;dbl&gt; | is_cluster_id &lt;dbl&gt; | min_dist &lt;dbl&gt; | flank_dist &lt;dbl&gt; | min_start_raw &lt;dbl&gt; | min_end_raw &lt;dbl&gt; | dir &lt;lgl&gt; | position_status_r &lt;chr&gt; | position_status_f &lt;chr&gt; | sv_r &lt;chr&gt; | sv_f &lt;chr&gt; | flank_pos_r &lt;dbl&gt; | flank_pos_f &lt;dbl&gt; |\n",
       "|---|---|---|---|---|---|---|---|---|---|---|---|---|---|\n",
       "| L03-4 | 2 |  3 |  7 | -7 | 1122383 | 1122377 | TRUE | original | original | pristine | pristine | 1110057 | 1113146 |\n",
       "| L08-4 | 2 |  1 |  7 | -7 |   69480 |   69474 | TRUE | original | original | pristine | pristine |   69490 |   72580 |\n",
       "| L09-4 | 2 | 12 | 84 | 84 | 3852079 | 3852164 | TRUE | new      | new      | unknown  | unknown  | 3853394 | 3853316 |\n",
       "\n"
      ],
      "text/plain": [
       "  Line  Gen is_cluster_id min_dist flank_dist min_start_raw min_end_raw dir \n",
       "1 L03-4 2    3             7       -7         1122383       1122377     TRUE\n",
       "2 L08-4 2    1             7       -7           69480         69474     TRUE\n",
       "3 L09-4 2   12            84       84         3852079       3852164     TRUE\n",
       "  position_status_r position_status_f sv_r     sv_f     flank_pos_r flank_pos_f\n",
       "1 original          original          pristine pristine 1110057     1113146    \n",
       "2 original          original          pristine pristine   69490       72580    \n",
       "3 new               new               unknown  unknown  3853394     3853316    "
      ]
     },
     "metadata": {},
     "output_type": "display_data"
    }
   ],
   "source": [
    "# those that are not simple insertions\n",
    "excision_stat_df %>% select(Line:min_dist, flank_dist, min_start_raw, min_end_raw, dir) %>%\n",
    "\tfilter(!(Line == \"L04-1\" & Gen == 2)) %>% # fixed 20240703 \n",
    "\tfilter(min_dist < 3000) %>%\n",
    "\tleft_join(\n",
    "\t\tis_pos_in_ref %>%\n",
    "\t\tfilter(genome == \"Query\") %>%\n",
    "\t\tselect(is_cluster_id = pos_id, Line, Gen, position_status, sv, flank_pos = pos, flank) %>%\n",
    "\t\tpivot_wider(names_from = \"flank\", values_from = c(position_status, sv, flank_pos)),\n",
    "\t\tby = c(\"Line\", \"Gen\", \"is_cluster_id\")\n",
    "\t) %>% filter(Gen == 2, dir) %>%\n",
    "\tfilter(!(sv_r == \"simple_insertion\") & !(sv_f == \"simple_insertion\")) "
   ]
  },
  {
   "cell_type": "markdown",
   "metadata": {},
   "source": [
    "L09-4-2-12 was an IS insertion in Gen2, which accompanied deletion, but the IS insertion nor the deletion was not detected in Gen3. Thus, the excision is a false positive.\n",
    "L03-4\t2\t3\tand L08-4\t2\t1\t seem to be loss of ISs that were preexisting in the ancestor."
   ]
  },
  {
   "cell_type": "code",
   "execution_count": 12,
   "metadata": {
    "vscode": {
     "languageId": "r"
    }
   },
   "outputs": [
    {
     "data": {
      "text/html": [
       "<table class=\"dataframe\">\n",
       "<caption>A tibble: 1 × 4</caption>\n",
       "<thead>\n",
       "\t<tr><th scope=col>total</th><th scope=col>simple</th><th scope=col>original</th><th scope=col>other</th></tr>\n",
       "\t<tr><th scope=col>&lt;int&gt;</th><th scope=col>&lt;int&gt;</th><th scope=col>&lt;int&gt;</th><th scope=col>&lt;int&gt;</th></tr>\n",
       "</thead>\n",
       "<tbody>\n",
       "\t<tr><td>20</td><td>17</td><td>2</td><td>1</td></tr>\n",
       "</tbody>\n",
       "</table>\n"
      ],
      "text/latex": [
       "A tibble: 1 × 4\n",
       "\\begin{tabular}{llll}\n",
       " total & simple & original & other\\\\\n",
       " <int> & <int> & <int> & <int>\\\\\n",
       "\\hline\n",
       "\t 20 & 17 & 2 & 1\\\\\n",
       "\\end{tabular}\n"
      ],
      "text/markdown": [
       "\n",
       "A tibble: 1 × 4\n",
       "\n",
       "| total &lt;int&gt; | simple &lt;int&gt; | original &lt;int&gt; | other &lt;int&gt; |\n",
       "|---|---|---|---|\n",
       "| 20 | 17 | 2 | 1 |\n",
       "\n"
      ],
      "text/plain": [
       "  total simple original other\n",
       "1 20    17     2        1    "
      ]
     },
     "metadata": {},
     "output_type": "display_data"
    }
   ],
   "source": [
    "excision_stat_df.stat2 <- excision_stat_df %>% select(Line:min_dist, flank_dist, min_start_raw, min_end_raw, dir) %>%\n",
    "\tfilter(!(Line == \"L04-1\" & Gen == 2)) %>% # fixed 20240703 \n",
    "\tfilter(min_dist < 100) %>%\n",
    "\tleft_join(\n",
    "\t\tis_pos_in_ref %>%\n",
    "\t\tfilter(genome == \"Query\") %>%\n",
    "\t\tselect(is_cluster_id = pos_id, Line, Gen, position_status, sv, flank_pos = pos, flank) %>%\n",
    "\t\tpivot_wider(names_from = \"flank\", values_from = c(position_status, sv, flank_pos)),\n",
    "\t\tby = c(\"Line\", \"Gen\", \"is_cluster_id\")\n",
    "\t) %>% filter(Gen == 2, dir) %>%\n",
    "\tsummarise(total = n(), simple = sum((sv_r == \"simple_insertion\") | (sv_f == \"simple_insertion\")),\n",
    "\t\toriginal = sum((position_status_r == \"original\") & (position_status_f == \"original\")),\n",
    "\t) %>%\n",
    "\tmutate(other = total - simple - original)\n",
    "excision_stat_df.stat2"
   ]
  },
  {
   "cell_type": "code",
   "execution_count": 13,
   "metadata": {
    "vscode": {
     "languageId": "r"
    }
   },
   "outputs": [
    {
     "data": {
      "text/html": [
       "<table class=\"dataframe\">\n",
       "<caption>A tibble: 1 × 4</caption>\n",
       "<thead>\n",
       "\t<tr><th scope=col>total</th><th scope=col>simple</th><th scope=col>original</th><th scope=col>other</th></tr>\n",
       "\t<tr><th scope=col>&lt;int&gt;</th><th scope=col>&lt;int&gt;</th><th scope=col>&lt;int&gt;</th><th scope=col>&lt;int&gt;</th></tr>\n",
       "</thead>\n",
       "<tbody>\n",
       "\t<tr><td>794</td><td>207</td><td>382</td><td>205</td></tr>\n",
       "</tbody>\n",
       "</table>\n"
      ],
      "text/latex": [
       "A tibble: 1 × 4\n",
       "\\begin{tabular}{llll}\n",
       " total & simple & original & other\\\\\n",
       " <int> & <int> & <int> & <int>\\\\\n",
       "\\hline\n",
       "\t 794 & 207 & 382 & 205\\\\\n",
       "\\end{tabular}\n"
      ],
      "text/markdown": [
       "\n",
       "A tibble: 1 × 4\n",
       "\n",
       "| total &lt;int&gt; | simple &lt;int&gt; | original &lt;int&gt; | other &lt;int&gt; |\n",
       "|---|---|---|---|\n",
       "| 794 | 207 | 382 | 205 |\n",
       "\n"
      ],
      "text/plain": [
       "  total simple original other\n",
       "1 794   207    382      205  "
      ]
     },
     "metadata": {},
     "output_type": "display_data"
    }
   ],
   "source": [
    "is_pos_in_ref.stat <- is_pos_in_ref %>%\n",
    "\t\tfilter(genome == \"Query\") %>%\n",
    "\t\tselect(is_cluster_id = pos_id, Line, Gen, position_status, sv, flank_pos = pos, flank) %>%\n",
    "\t\tpivot_wider(names_from = \"flank\", values_from = c(position_status, sv, flank_pos)) %>%\n",
    "\tfilter(!(Line == \"L04-1\" & Gen == 2)) %>% # fixed 20240703 \n",
    "\tfilter(Gen == 2) %>%\n",
    "\tsummarise(total = n(), simple = sum((sv_r == \"simple_insertion\") | (sv_f == \"simple_insertion\"), na.rm = TRUE),\n",
    "\t\toriginal = sum((position_status_r == \"original\") & (position_status_f == \"original\"), na.rm = TRUE),\n",
    "\t) %>%  # there seems to be NAs, NAs are formed when the flank match is too short due to two ISs being too close\n",
    "\tmutate(other = total - simple - original)\n",
    "is_pos_in_ref.stat"
   ]
  },
  {
   "cell_type": "markdown",
   "metadata": {},
   "source": [
    "## STAT: Bionom.test new or not\n",
    "The status of lost ends were often \"simple\". This indicates that the IS was inserted during the MA until 8th by simple insertions. "
   ]
  },
  {
   "cell_type": "code",
   "execution_count": 14,
   "metadata": {
    "vscode": {
     "languageId": "r"
    }
   },
   "outputs": [
    {
     "data": {
      "text/plain": [
       "\n",
       "\tExact binomial test\n",
       "\n",
       "data:  excision_stat_df.stat2$simple and sum(excision_stat_df.stat2)\n",
       "number of successes = 17, number of trials = 40, p-value = 3.983e-06\n",
       "alternative hypothesis: true probability of success is greater than 0.1303526\n",
       "95 percent confidence interval:\n",
       " 0.2918466 1.0000000\n",
       "sample estimates:\n",
       "probability of success \n",
       "                 0.425 \n"
      ]
     },
     "metadata": {},
     "output_type": "display_data"
    }
   ],
   "source": [
    "binom.test(excision_stat_df.stat2$simple, sum(excision_stat_df.stat2), is_pos_in_ref.stat$simple/sum(is_pos_in_ref.stat), alternative=\"greater\")"
   ]
  }
 ],
 "metadata": {
  "kernelspec": {
   "display_name": "R 4.3.1",
   "language": "R",
   "name": "ir431"
  },
  "language_info": {
   "codemirror_mode": "r",
   "file_extension": ".r",
   "mimetype": "text/x-r-source",
   "name": "R",
   "pygments_lexer": "r",
   "version": "4.3.1"
  }
 },
 "nbformat": 4,
 "nbformat_minor": 2
}
