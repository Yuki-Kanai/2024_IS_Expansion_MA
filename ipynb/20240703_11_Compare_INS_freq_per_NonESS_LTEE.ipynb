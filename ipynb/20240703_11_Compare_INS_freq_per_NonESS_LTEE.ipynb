{
 "cells": [
  {
   "cell_type": "markdown",
   "metadata": {},
   "source": [
    "To compare with LTEE (Consuegra, 2021) I identify the non-essential sequences of LTEE and our study and compare the frequency of IS insertions in these sequences.\n",
    "My motive is not to make a thorough analysis of the LTEE, but to use it as a reference to show the potential effect of higher population size, despite the effect of genetic draft."
   ]
  },
  {
   "cell_type": "markdown",
   "metadata": {},
   "source": [
    "# Load packages and directories\n",
    "Use R for most analysis. If heavy data manipulation is required, use Julia instead."
   ]
  },
  {
   "cell_type": "code",
   "execution_count": 1,
   "metadata": {},
   "outputs": [],
   "source": [
    "# JULIA v1.9.3\n",
    "import Pkg\n",
    "using RCall\n",
    "using Random\n",
    "using DataFrames, DataFramesMeta\n",
    "using Revise\n",
    "using CSV\n",
    "using StatsBase\n",
    "using Statistics\n",
    "using NPZ"
   ]
  },
  {
   "cell_type": "code",
   "execution_count": 2,
   "metadata": {},
   "outputs": [
    {
     "name": "stderr",
     "output_type": "stream",
     "text": [
      "\u001b[33m\u001b[1m┌ \u001b[22m\u001b[39m\u001b[33m\u001b[1mWarning: \u001b[22m\u001b[39mRCall.jl: ── Attaching core tidyverse packages ──────────────────────── tidyverse 2.0.0 ──\n",
      "\u001b[33m\u001b[1m│ \u001b[22m\u001b[39m✔ dplyr     1.1.3     ✔ readr     2.1.4\n",
      "\u001b[33m\u001b[1m│ \u001b[22m\u001b[39m✔ forcats   1.0.0     ✔ stringr   1.5.0\n",
      "\u001b[33m\u001b[1m│ \u001b[22m\u001b[39m✔ ggplot2   3.4.3     ✔ tibble    3.2.1\n",
      "\u001b[33m\u001b[1m│ \u001b[22m\u001b[39m✔ lubridate 1.9.2     ✔ tidyr     1.3.0\n",
      "\u001b[33m\u001b[1m│ \u001b[22m\u001b[39m✔ purrr     1.0.2     \n",
      "\u001b[33m\u001b[1m│ \u001b[22m\u001b[39m── Conflicts ────────────────────────────────────────── tidyverse_conflicts() ──\n",
      "\u001b[33m\u001b[1m│ \u001b[22m\u001b[39m✖ dplyr::filter() masks stats::filter()\n",
      "\u001b[33m\u001b[1m│ \u001b[22m\u001b[39m✖ dplyr::lag()    masks stats::lag()\n",
      "\u001b[33m\u001b[1m│ \u001b[22m\u001b[39mℹ Use the conflicted package (<http://conflicted.r-lib.org/>) to force all conflicts to become errors\n",
      "\u001b[33m\u001b[1m└ \u001b[22m\u001b[39m\u001b[90m@ RCall ~/.julia/packages/RCall/gOwEW/src/io.jl:172\u001b[39m\n",
      "\u001b[33m\u001b[1m┌ \u001b[22m\u001b[39m\u001b[33m\u001b[1mWarning: \u001b[22m\u001b[39mRCall.jl: \n",
      "\u001b[33m\u001b[1m│ \u001b[22m\u001b[39mAttaching package: ‘cowplot’\n",
      "\u001b[33m\u001b[1m│ \u001b[22m\u001b[39m\n",
      "\u001b[33m\u001b[1m│ \u001b[22m\u001b[39mThe following object is masked from ‘package:lubridate’:\n",
      "\u001b[33m\u001b[1m│ \u001b[22m\u001b[39m\n",
      "\u001b[33m\u001b[1m│ \u001b[22m\u001b[39m    stamp\n",
      "\u001b[33m\u001b[1m│ \u001b[22m\u001b[39m\n",
      "\u001b[33m\u001b[1m└ \u001b[22m\u001b[39m\u001b[90m@ RCall ~/.julia/packages/RCall/gOwEW/src/io.jl:172\u001b[39m\n",
      "\u001b[33m\u001b[1m┌ \u001b[22m\u001b[39m\u001b[33m\u001b[1mWarning: \u001b[22m\u001b[39mRCall.jl: \n",
      "\u001b[33m\u001b[1m│ \u001b[22m\u001b[39mAttaching package: ‘scales’\n",
      "\u001b[33m\u001b[1m│ \u001b[22m\u001b[39m\n",
      "\u001b[33m\u001b[1m│ \u001b[22m\u001b[39mThe following object is masked from ‘package:purrr’:\n",
      "\u001b[33m\u001b[1m│ \u001b[22m\u001b[39m\n",
      "\u001b[33m\u001b[1m│ \u001b[22m\u001b[39m    discard\n",
      "\u001b[33m\u001b[1m│ \u001b[22m\u001b[39m\n",
      "\u001b[33m\u001b[1m│ \u001b[22m\u001b[39mThe following object is masked from ‘package:readr’:\n",
      "\u001b[33m\u001b[1m│ \u001b[22m\u001b[39m\n",
      "\u001b[33m\u001b[1m│ \u001b[22m\u001b[39m    col_factor\n",
      "\u001b[33m\u001b[1m│ \u001b[22m\u001b[39m\n",
      "\u001b[33m\u001b[1m└ \u001b[22m\u001b[39m\u001b[90m@ RCall ~/.julia/packages/RCall/gOwEW/src/io.jl:172\u001b[39m\n",
      "\u001b[33m\u001b[1m┌ \u001b[22m\u001b[39m\u001b[33m\u001b[1mWarning: \u001b[22m\u001b[39mRCall.jl: \n",
      "\u001b[33m\u001b[1m│ \u001b[22m\u001b[39mAttaching package: ‘lemon’\n",
      "\u001b[33m\u001b[1m│ \u001b[22m\u001b[39m\n",
      "\u001b[33m\u001b[1m│ \u001b[22m\u001b[39mThe following object is masked from ‘package:purrr’:\n",
      "\u001b[33m\u001b[1m│ \u001b[22m\u001b[39m\n",
      "\u001b[33m\u001b[1m│ \u001b[22m\u001b[39m    %||%\n",
      "\u001b[33m\u001b[1m│ \u001b[22m\u001b[39m\n",
      "\u001b[33m\u001b[1m└ \u001b[22m\u001b[39m\u001b[90m@ RCall ~/.julia/packages/RCall/gOwEW/src/io.jl:172\u001b[39m\n",
      "\u001b[33m\u001b[1m┌ \u001b[22m\u001b[39m\u001b[33m\u001b[1mWarning: \u001b[22m\u001b[39mRCall.jl: Loading required package: viridisLite\n",
      "\u001b[33m\u001b[1m│ \u001b[22m\u001b[39m\n",
      "\u001b[33m\u001b[1m│ \u001b[22m\u001b[39mAttaching package: ‘viridis’\n",
      "\u001b[33m\u001b[1m│ \u001b[22m\u001b[39m\n",
      "\u001b[33m\u001b[1m│ \u001b[22m\u001b[39mThe following object is masked from ‘package:scales’:\n",
      "\u001b[33m\u001b[1m│ \u001b[22m\u001b[39m\n",
      "\u001b[33m\u001b[1m│ \u001b[22m\u001b[39m    viridis_pal\n",
      "\u001b[33m\u001b[1m│ \u001b[22m\u001b[39m\n",
      "\u001b[33m\u001b[1m└ \u001b[22m\u001b[39m\u001b[90m@ RCall ~/.julia/packages/RCall/gOwEW/src/io.jl:172\u001b[39m\n",
      "\u001b[33m\u001b[1m┌ \u001b[22m\u001b[39m\u001b[33m\u001b[1mWarning: \u001b[22m\u001b[39mRCall.jl: \n",
      "\u001b[33m\u001b[1m│ \u001b[22m\u001b[39mAttaching package: ‘MASS’\n",
      "\u001b[33m\u001b[1m│ \u001b[22m\u001b[39m\n",
      "\u001b[33m\u001b[1m│ \u001b[22m\u001b[39mThe following object is masked from ‘package:dplyr’:\n",
      "\u001b[33m\u001b[1m│ \u001b[22m\u001b[39m\n",
      "\u001b[33m\u001b[1m│ \u001b[22m\u001b[39m    select\n",
      "\u001b[33m\u001b[1m│ \u001b[22m\u001b[39m\n",
      "\u001b[33m\u001b[1m└ \u001b[22m\u001b[39m\u001b[90m@ RCall ~/.julia/packages/RCall/gOwEW/src/io.jl:172\u001b[39m\n",
      "\u001b[33m\u001b[1m┌ \u001b[22m\u001b[39m\u001b[33m\u001b[1mWarning: \u001b[22m\u001b[39mRCall.jl: \n",
      "\u001b[33m\u001b[1m│ \u001b[22m\u001b[39mAttaching package: ‘sfsmisc’\n",
      "\u001b[33m\u001b[1m│ \u001b[22m\u001b[39m\n",
      "\u001b[33m\u001b[1m│ \u001b[22m\u001b[39mThe following object is masked from ‘package:dplyr’:\n",
      "\u001b[33m\u001b[1m│ \u001b[22m\u001b[39m\n",
      "\u001b[33m\u001b[1m│ \u001b[22m\u001b[39m    last\n",
      "\u001b[33m\u001b[1m│ \u001b[22m\u001b[39m\n",
      "\u001b[33m\u001b[1m└ \u001b[22m\u001b[39m\u001b[90m@ RCall ~/.julia/packages/RCall/gOwEW/src/io.jl:172\u001b[39m\n",
      "\u001b[33m\u001b[1m┌ \u001b[22m\u001b[39m\u001b[33m\u001b[1mWarning: \u001b[22m\u001b[39mRCall.jl: \n",
      "\u001b[33m\u001b[1m│ \u001b[22m\u001b[39mAttaching package: ‘arrow’\n",
      "\u001b[33m\u001b[1m│ \u001b[22m\u001b[39m\n",
      "\u001b[33m\u001b[1m│ \u001b[22m\u001b[39mThe following object is masked from ‘package:lubridate’:\n",
      "\u001b[33m\u001b[1m│ \u001b[22m\u001b[39m\n",
      "\u001b[33m\u001b[1m│ \u001b[22m\u001b[39m    duration\n",
      "\u001b[33m\u001b[1m│ \u001b[22m\u001b[39m\n",
      "\u001b[33m\u001b[1m│ \u001b[22m\u001b[39mThe following object is masked from ‘package:utils’:\n",
      "\u001b[33m\u001b[1m│ \u001b[22m\u001b[39m\n",
      "\u001b[33m\u001b[1m│ \u001b[22m\u001b[39m    timestamp\n",
      "\u001b[33m\u001b[1m│ \u001b[22m\u001b[39m\n",
      "\u001b[33m\u001b[1m└ \u001b[22m\u001b[39m\u001b[90m@ RCall ~/.julia/packages/RCall/gOwEW/src/io.jl:172\u001b[39m\n",
      "\u001b[33m\u001b[1m┌ \u001b[22m\u001b[39m\u001b[33m\u001b[1mWarning: \u001b[22m\u001b[39mRCall.jl: Warning: package ‘reticulate’ was built under R version 4.3.2\n",
      "\u001b[33m\u001b[1m└ \u001b[22m\u001b[39m\u001b[90m@ RCall ~/.julia/packages/RCall/gOwEW/src/io.jl:172\u001b[39m\n"
     ]
    },
    {
     "data": {
      "text/plain": [
       "RObject{StrSxp}\n",
       " [1] \"reticulate\"     \"arrow\"          \"ggrastr\"        \"ggnewscale\"    \n",
       " [5] \"sfsmisc\"        \"MASS\"           \"viridis\"        \"viridisLite\"   \n",
       " [9] \"ggpointdensity\" \"ggbeeswarm\"     \"gghalves\"       \"lemon\"         \n",
       "[13] \"scales\"         \"latex2exp\"      \"cowplot\"        \"lubridate\"     \n",
       "[17] \"forcats\"        \"stringr\"        \"dplyr\"          \"purrr\"         \n",
       "[21] \"readr\"          \"tidyr\"          \"tibble\"         \"ggplot2\"       \n",
       "[25] \"tidyverse\"      \"stats\"          \"graphics\"       \"grDevices\"     \n",
       "[29] \"utils\"          \"datasets\"       \"methods\"        \"base\"          \n"
      ]
     },
     "execution_count": 2,
     "metadata": {},
     "output_type": "execute_result"
    }
   ],
   "source": [
    "figure_export_dir = \"./exp/20240703_Compare_INS_freq_per_NonESS_LTEE/Fig\"\n",
    "base_dir = \"exp/multiple_runs11\" \n",
    "base_dir_event_classification = joinpath(base_dir, \"export/classify_IS_events\")\n",
    "\n",
    "@rput figure_export_dir\n",
    "@rput base_dir\n",
    "\n",
    "R\"\"\"\n",
    "Sys.setlocale(\"LC_COLLATE\",\"C\") # order by dictionary order\n",
    "library(tidyverse)\n",
    "library(cowplot)\n",
    "library(latex2exp)\n",
    "library(stats)\n",
    "library(scales)\n",
    "library(lemon)\n",
    "library(gghalves)\n",
    "library(ggbeeswarm)\n",
    "library(ggpointdensity)\n",
    "library(viridis)\n",
    "library(forcats)\n",
    "library(MASS)\n",
    "library(sfsmisc)\n",
    "library(ggnewscale)\n",
    "library(ggrastr)\n",
    "cbp <- c(\"#999999\", \"#E69F00\", \"#56B4E9\", \"#009E73\", \n",
    "                       \"#F0E442\", \"#0072B2\", \"#D55E00\", \"#CC79A7\")\n",
    "select <- dplyr::select\n",
    "filter <- dplyr::filter\n",
    "lag <- dplyr::lag\n",
    "library(arrow)\n",
    "library(reticulate)\n",
    "\"\"\""
   ]
  },
  {
   "cell_type": "markdown",
   "metadata": {},
   "source": [
    "# Import Data\n",
    "- LTEE\n",
    "- This study\n",
    "\n",
    "The first analysis uses essential genes based on LTEE, which is not used in the paper. Go to \n",
    "\n",
    "## LTEE\n",
    "The number of essential genes includes non-essential genes too, and much larger than the estimate in other K12 strains."
   ]
  },
  {
   "cell_type": "code",
   "execution_count": 3,
   "metadata": {},
   "outputs": [
    {
     "name": "stdout",
     "output_type": "stream",
     "text": [
      "[1] \"LTEE has 4629812 bp genome size and 4386 genes with total gene length 4128856 bp\"\n",
      "[1] \"Genes are 89.179776630239% of the genome\"\n",
      "[1] \"LTEE has 542(544) essential genes with total essential gene length 500665 bp\"\n",
      "[1] \"Essential genes are 10.8139380173536% of the genome\"\n"
     ]
    },
    {
     "name": "stderr",
     "output_type": "stream",
     "text": [
      "\u001b[33m\u001b[1m┌ \u001b[22m\u001b[39m\u001b[33m\u001b[1mWarning: \u001b[22m\u001b[39mRCall.jl: Rows: 544 Columns: 1\n",
      "\u001b[33m\u001b[1m│ \u001b[22m\u001b[39m── Column specification ────────────────────────────────────────────────────────\n",
      "\u001b[33m\u001b[1m│ \u001b[22m\u001b[39mDelimiter: \",\"\n",
      "\u001b[33m\u001b[1m│ \u001b[22m\u001b[39mchr (1): Name\n",
      "\u001b[33m\u001b[1m│ \u001b[22m\u001b[39m\n",
      "\u001b[33m\u001b[1m│ \u001b[22m\u001b[39mℹ Use `spec()` to retrieve the full column specification for this data.\n",
      "\u001b[33m\u001b[1m│ \u001b[22m\u001b[39mℹ Specify the column types or set `show_col_types = FALSE` to quiet this message.\n",
      "\u001b[33m\u001b[1m└ \u001b[22m\u001b[39m\u001b[90m@ RCall ~/.julia/packages/RCall/gOwEW/src/io.jl:172\u001b[39m\n",
      "\u001b[33m\u001b[1m┌ \u001b[22m\u001b[39m\u001b[33m\u001b[1mWarning: \u001b[22m\u001b[39mRCall.jl: Rows: 8894 Columns: 8\n",
      "\u001b[33m\u001b[1m│ \u001b[22m\u001b[39m── Column specification ────────────────────────────────────────────────────────\n",
      "\u001b[33m\u001b[1m│ \u001b[22m\u001b[39mDelimiter: \",\"\n",
      "\u001b[33m\u001b[1m│ \u001b[22m\u001b[39mchr (5): seq_id, feat_id, feat_type, gene, desc\n",
      "\u001b[33m\u001b[1m│ \u001b[22m\u001b[39mdbl (3): start, end, strand\n",
      "\u001b[33m\u001b[1m│ \u001b[22m\u001b[39m\n",
      "\u001b[33m\u001b[1m│ \u001b[22m\u001b[39mℹ Use `spec()` to retrieve the full column specification for this data.\n",
      "\u001b[33m\u001b[1m│ \u001b[22m\u001b[39mℹ Specify the column types or set `show_col_types = FALSE` to quiet this message.\n",
      "\u001b[33m\u001b[1m└ \u001b[22m\u001b[39m\u001b[90m@ RCall ~/.julia/packages/RCall/gOwEW/src/io.jl:172\u001b[39m\n"
     ]
    }
   ],
   "source": [
    "R\"\"\"\n",
    "# Essential or almost essential genes in Couce et al. 2017 PNAS\n",
    "LTEE_ess <- read_csv(file.path(\"../misc\", \"20240301_Essential_Genes_in_REL606.csv\"))\n",
    "LTEE_genes <- read_csv(file.path(\"../misc\", \"REL606.csv\"))\n",
    "LTEE_ess_couce <- LTEE_ess\n",
    "LTEE_genes_couce <- LTEE_genes\n",
    "\n",
    "LTEE_genome_size <- LTEE_genes %>% filter(end - start > 4e6) %>% pull(end) %>% max()\n",
    "LTEE_gene_cnt <- LTEE_genes %>% filter(feat_type == \"gene\") %>% nrow()\n",
    "LTEE_gene_length <- LTEE_genes %>% filter(feat_type == \"gene\") %>% mutate(length = end - start +1 ) %>% pull(length)\n",
    "LTEE_ess_genes <- LTEE_genes %>% filter(feat_type == \"gene\" & gene %in% LTEE_ess$Name)\n",
    "LTEE_ess_genes_length <- LTEE_ess_genes %>% mutate(length = end - start +1 ) %>% pull(length)\n",
    "# genome size gene cnt, total gene length and essential gene cnt total ess gene length ess gene % of total genom\n",
    "print(paste0(\"LTEE has \", LTEE_genome_size, \" bp genome size\", \" and \", LTEE_gene_cnt, \" genes\", \" with total gene length \", sum(LTEE_gene_length), \" bp\"))\n",
    "print(paste0(\"Genes are \", sum(LTEE_gene_length)/LTEE_genome_size*100, \"% of the genome\"))\n",
    "print(paste0(\"LTEE has \", nrow(LTEE_ess_genes), \"(\", LTEE_ess %>% nrow, \") essential genes\", \" with total essential gene length \", sum(LTEE_ess_genes_length), \" bp\"))\n",
    "print(paste0(\"Essential genes are \", sum(LTEE_ess_genes_length)/LTEE_genome_size*100, \"% of the genome\"))\n",
    "\"\"\";"
   ]
  },
  {
   "cell_type": "code",
   "execution_count": 5,
   "metadata": {},
   "outputs": [
    {
     "name": "stdout",
     "output_type": "stream",
     "text": [
      "# A tibble: 6 × 6\n",
      "# Groups:   Population [3]\n",
      "  Population Clone Total Insertion  Loss Generations\n",
      "  <chr>      <chr> <dbl>     <dbl> <dbl>       <dbl>\n",
      "1 Ara–4      11336    42         2     5       50000\n",
      "2 Ara–4      11337    43         3     5       50000\n",
      "3 Ara–5      11339    66        23     2       50000\n",
      "4 Ara–5      11340    67        24     2       50000\n",
      "5 Ara–6      11389    70        25     0       50000\n",
      "6 Ara–6      11390    62        17     0       50000\n",
      "[1] \"INS count in 12 populations. Total: 185 Mean: 15.4166666666667 SD: 11.7392762153638\"\n"
     ]
    },
    {
     "name": "stderr",
     "output_type": "stream",
     "text": [
      "\u001b[33m\u001b[1m┌ \u001b[22m\u001b[39m\u001b[33m\u001b[1mWarning: \u001b[22m\u001b[39mRCall.jl: `summarise()` has grouped output by 'Population'. You can override using the\n",
      "\u001b[33m\u001b[1m│ \u001b[22m\u001b[39m`.groups` argument.\n",
      "\u001b[33m\u001b[1m└ \u001b[22m\u001b[39m\u001b[90m@ RCall ~/.julia/packages/RCall/gOwEW/src/io.jl:172\u001b[39m\n"
     ]
    },
    {
     "name": "stdout",
     "output_type": "stream",
     "text": [
      "[1] \"15.4166666666667\"\n"
     ]
    }
   ],
   "source": [
    "R\"\"\"\n",
    "# Loading Consuegra 2021 Nat. Commun. T1, basically as in 20231005_ins_del_analysis.ipynb\n",
    "data_string <- \"\n",
    "Population\tClone\tIS1\tIS2a\tIS3\tIS4\tIS30\tIS150\tIS186\tIS600a\tIS911a\tNew insertions\n",
    "Ancestor\tREL606\t28\t1\t5\t1\t1\t5\t5\t1\t2\t\n",
    "Ara+1\t11392\t30 (2; 0)\t-\t4 (0; 1)\t1 (0; 0)\t1 (0; 0)\t40 (35; 0)\t6 (1; 0)\t-\t-\t38\n",
    "Ara+1\t11393\t32 (4; 0)\t-\t4 (0; 1)\t1 (0; 0)\t1 (0; 0)\t40 (35; 0)\t8 (3; 0)\t-\t-\t41b\n",
    "Ara+2\t11342\t31 (4; 1)\t-\t5 (0; 0)\t1 (0; 0)\t1 (0; 0)\t8 (3; 0)\t9 (4; 0)\t-\t-\t10b\n",
    "Ara+2\t11343\t31 (4; 1)\t-\t5 (0; 0)\t1 (0; 0)\t1 (0; 0)\t8 (3; 0)\t9 (4; 0)\t-\t-\t10b\n",
    "Ara+3\t10953\t28 (0; 0)\t-\t4 (0; 1)\t2 (1; 0)\t1 (0; 0)\t5 (0; 0)\t7 (2; 0)\t-\t-\t3\n",
    "Ara+3\t10954\t30 (2; 0)\t-\t5 (0; 0)\t1 (0; 0)\t1 (0; 0)\t6 (1; 0)\t7 (2; 0)\t-\t-\t5\n",
    "Ara+4\t11348\t28 (1; 1)\t-\t5 (0; 0)\t3 (2; 0)\t0 (0; 1)\t7 (2; 0)\t5 (0; 0)\t-\t-\t5\n",
    "Ara+4\t11349\t29 (2; 1)\t-\t5 (0; 0)\t3 (2; 0)\t1 (0; 0)\t7 (2; 0)\t6 (1; 0)\t-\t-\t7\n",
    "Ara+5\t11367\t31 (3; 0)\t-\t5 (0; 0)\t1 (0; 0)\t1 (0; 0)\t15 (10; 0)\t8 (3; 0)\t-\t-\t16\n",
    "Ara+5\t11368\t31 (3; 0)\t-\t5 (0; 0)\t1 (0; 0)\t1 (0; 0)\t15 (10; 0)\t8 (3; 0)\t-\t-\t16\n",
    "Ara+6\t11370\t27 (0; 1)\t-\t5 (0; 0)\t1 (0; 0)\t1 (0; 0)\t6 (1; 0)\t5 (1; 1)\t-\t-\t2\n",
    "Ara+6\t11371\t32 (4; 0)\t-\t5 (0; 0)\t1 (0; 0)\t1 (0; 0)\t6 (1; 0)\t6 (1; 0)\t-\t-\t6\n",
    "Ara–1\t11330\t30 (2; 0)\t-\t5 (0; 0)\t1 (0; 0)\t1 (0; 0)\t12 (7; 0)\t7 (2; 0)\t-\t-\t11\n",
    "Ara–1\t11331\t30 (2; 0)\t-\t5 (0; 0)\t1 (0; 0)\t1 (0; 0)\t12 (7; 0)\t7 (2; 0)\t-\t-\t11\n",
    "Ara–2\t11335 S\t29 (2; 1)\t-\t8 (3; 0)\t1 (0; 0)\t1 (0; 0)\t21 (16; 0)\t7 (2; 0)\t-\t-\t23\n",
    "Ara–2\t11333 L\t31 (5; 2)\t-\t5 (0; 0)\t2 (1; 0)\t1 (0; 0)\t5 (0; 0)\t4 (0; 1)\t-\t-\t6\n",
    "Ara–3\t11364\t25 (3; 6)\t-\t3 (1; 3)\t0 (0; 1)\t1 (0; 0)\t25 (21; 1)\t12 (7; 0)\t-\t-\t30b\n",
    "Ara–3\t11365\t25 (2; 5)\t-\t3 (1; 3)\t1 (0; 0)\t1 (0; 0)\t25 (21; 1)\t12 (7; 0)\t-\t-\t29b\n",
    "Ara–4\t11336\t26 (1; 3)\t-\t4 (0; 1)\t1 (0; 0)\t1 (0; 0)\t5 (0; 0)\t5 (1; 1)\t-\t-\t2\n",
    "Ara–4\t11337\t27 (2; 3)\t-\t4 (0; 1)\t1 (0; 0)\t1 (0; 0)\t5 (0; 0)\t5 (1; 1)\t-\t-\t3\n",
    "Ara–5\t11339\t31 (4; 1)\t-\t4 (0; 1)\t1 (0; 0)\t1 (0; 0)\t19 (14; 0)\t10 (5; 0)\t-\t-\t23\n",
    "Ara–5\t11340\t31 (4; 1)\t-\t4 (0; 1)\t2 (1; 0)\t1 (0; 0)\t19 (14; 0)\t10 (5; 0)\t-\t-\t24\n",
    "Ara–6\t11389\t30 (2; 0)\t-\t7 (2; 0)\t2 (1; 0)\t1 (0;0)\t23 (18; 0)\t7 (2; 0)\t-\t-\t25\n",
    "Ara–6\t11390\t33 (5; 0)\t-\t6 (1; 0)\t2 (1; 0)\t1 (0; 0)\t12 (7; 0)\t8 (3; 0)\t-\t-\t17\n",
    "\"\n",
    "\n",
    "# Replace '-' with '0 (0; 0)'\n",
    "data_string <- str_replace_all(data_string, \"-\\t\", \"0 (0; 0)\\t\")\n",
    "data_string <- str_replace_all(data_string, \"-\\n\", \"0 (0; 0)\\n\")\n",
    "\n",
    "data <- read.delim(text = data_string, stringsAsFactors = FALSE)\n",
    "\n",
    "# Process data\n",
    "data_processed <- data %>%\n",
    "  mutate(across(starts_with(\"IS\"), list(\n",
    "    number = ~str_extract(., \"\\\\d+\"),\n",
    "    gain = ~str_extract(., \"(?<=\\\\()\\\\d+\"),\n",
    "    loss = ~str_extract(., \"(?<=;) \\\\d+(?=\\\\))\")\n",
    "  ))) %>%\n",
    "  # starts with IS but does not end with number, gain, or loss\n",
    "  select(Population, Clone, matches(\"^IS.*(number|gain|loss)\")) %>%\n",
    "  pivot_longer(-c(Population, Clone), names_to = c(\".value\", \"type\"), names_sep = \"_\") %>%\n",
    "  pivot_longer(-c(Population, Clone, type), names_to = \"IS\") %>%\n",
    "  mutate(value = as.numeric(value))%>%\n",
    "  mutate(value = ifelse(is.na(value), 0, value)) %>%\n",
    "  pivot_wider(names_from = type, values_from = value)\n",
    "\n",
    "LTEE50000 <- data_processed %>% group_by(Population, Clone) %>% \n",
    "\tsummarise(Total = sum(number), Insertion = sum(gain), Loss = sum(loss)) %>% \n",
    "\tmutate(Generations = 50000)\n",
    "\n",
    "# Did not add the ancestor unlike in 20231005_ins_del_analysis.ipynb\n",
    "\n",
    "LTEE50000 %>% tail %>% print\n",
    "\n",
    "LTEE_INS_cnt <- LTEE50000 %>% group_by(Population) %>% summarise(INS = mean(Insertion)) %>%\n",
    "  filter(Population != \"Ancestor\") \n",
    "print(paste0(\"INS count in \", nrow(LTEE_INS_cnt), \" populations. Total: \", sum(LTEE_INS_cnt$INS), \" Mean: \", mean(LTEE_INS_cnt$INS), \" SD: \", sd(LTEE_INS_cnt$INS)))\n",
    "print(paste(sum(LTEE_INS_cnt$INS)/12))\n",
    "\"\"\";"
   ]
  },
  {
   "cell_type": "markdown",
   "metadata": {},
   "source": [
    "## This study\n",
    "Get IS insertion site distribution based on MDS42 coordinates."
   ]
  },
  {
   "cell_type": "code",
   "execution_count": 6,
   "metadata": {},
   "outputs": [
    {
     "name": "stderr",
     "output_type": "stream",
     "text": [
      "\u001b[33m\u001b[1m┌ \u001b[22m\u001b[39m\u001b[33m\u001b[1mWarning: \u001b[22m\u001b[39mRCall.jl: Rows: 5000 Columns: 12\n",
      "\u001b[33m\u001b[1m│ \u001b[22m\u001b[39m── Column specification ────────────────────────────────────────────────────────\n",
      "\u001b[33m\u001b[1m│ \u001b[22m\u001b[39mDelimiter: \",\"\n",
      "\u001b[33m\u001b[1m│ \u001b[22m\u001b[39mchr (5): flank, genome, position_status, sv, Line\n",
      "\u001b[33m\u001b[1m│ \u001b[22m\u001b[39mdbl (5): pos_id, pos, cluster_id, insert_id, Gen\n",
      "\u001b[33m\u001b[1m│ \u001b[22m\u001b[39mlgl (2): IS_strand, flankMatchDir\n",
      "\u001b[33m\u001b[1m│ \u001b[22m\u001b[39m\n",
      "\u001b[33m\u001b[1m│ \u001b[22m\u001b[39mℹ Use `spec()` to retrieve the full column specification for this data.\n",
      "\u001b[33m\u001b[1m│ \u001b[22m\u001b[39mℹ Specify the column types or set `show_col_types = FALSE` to quiet this message.\n",
      "\u001b[33m\u001b[1m└ \u001b[22m\u001b[39m\u001b[90m@ RCall ~/.julia/packages/RCall/gOwEW/src/io.jl:172\u001b[39m\n"
     ]
    },
    {
     "name": "stdout",
     "output_type": "stream",
     "text": [
      "  pos_id IS_strand flank     pos genome cluster_id insert_id flankMatchDir\n",
      "1      0     FALSE     r  476936  Query          2         1          TRUE\n",
      "2      0     FALSE     f  476923  Query          2         1         FALSE\n",
      "3      1     FALSE     r  554076  Query          4         2          TRUE\n",
      "4      1     FALSE     f  554063  Query          4         2         FALSE\n",
      "5      2      TRUE     f 1181600  Query          3         3          TRUE\n",
      "6      2     FALSE     r 1488330  Query         13         6          TRUE\n",
      "  position_status               sv  Line Parent Subline Gen_id  Gen\n",
      "1             new simple_insertion L01-1     01       1      1 FACS\n",
      "2             new simple_insertion L01-1     01       1      1 FACS\n",
      "3             new simple_insertion L01-1     01       1      1 FACS\n",
      "4             new simple_insertion L01-1     01       1      1 FACS\n",
      "5             new          unknown L01-1     01       1      1 FACS\n",
      "6             new          unknown L01-1     01       1      1 FACS\n",
      "  matched_row.prev\n",
      "1               NA\n",
      "2               NA\n",
      "3               NA\n",
      "4               NA\n",
      "5               NA\n",
      "6               NA\n",
      "  pos_id IS_strand flank     pos genome cluster_id insert_id flankMatchDir\n",
      "1     26     FALSE     f  162182  Query         16         3         FALSE\n",
      "2     26      TRUE     r 3727985  Query         17        32         FALSE\n",
      "3     27      TRUE     f 3890676  Query          6        33          TRUE\n",
      "4     27      TRUE     r 3898750  Query         26        34         FALSE\n",
      "5     28      TRUE     f 3954602  Query         32        35          TRUE\n",
      "6     28      TRUE     r 3956061  Query         18        36         FALSE\n",
      "  position_status      sv  Line Parent Subline Gen_id  Gen matched_row.prev\n",
      "1             new unknown L11-4     11       4      3 MA20             2636\n",
      "2             new unknown L11-4     11       4      3 MA20               NA\n",
      "3             new unknown L11-4     11       4      3 MA20             2673\n",
      "4             new unknown L11-4     11       4      3 MA20             2674\n",
      "5             new unknown L11-4     11       4      3 MA20               NA\n",
      "6             new unknown L11-4     11       4      3 MA20             2675\n"
     ]
    }
   ],
   "source": [
    "R\"\"\"\n",
    "# raw data IS insertion site data\n",
    "is_in_mds42_df <- read_csv(file.path(base_dir, \"export\", \"classify_IS_events_MDS\", \"IS_positions_in_ref_genome.csv\"))\n",
    "\n",
    "# Get only those not found in the previous generation as in 20231005_ins_del_analysis.ipynb\n",
    "generations <- c(\"FACS\", \"MA08\", \"MA20\")\n",
    "\n",
    "is_in_mds42.df <- is_in_mds42_df %>%\n",
    "separate(Line, c(\"Parent\", \"Subline\"), sep = \"-\", remove = FALSE) %>%\n",
    "mutate(Parent = str_sub(Parent, 2)) %>%\n",
    "mutate(Subline = as.integer(Subline)) %>%\n",
    "rename(\"Gen_id\" = Gen) %>%\n",
    "mutate(Gen = map_chr(Gen_id, ~generations[.x])) %>%\n",
    "filter(genome == \"Query\")\n",
    "\n",
    "is_in_df.prev <- is_in_mds42.df %>%\n",
    "filter(Gen_id < length(generations)) %>%\n",
    "mutate(Gen = map_chr(Gen_id, ~generations[.x+1]))\n",
    "\n",
    "is_in_df.facs <- is_in_mds42.df %>% filter(Gen_id == 1)\n",
    "is_in_df.facs <- is_in_df.facs %>% slice(rep(1:n(), 3)) %>% mutate(Gen_id = rep(c(1,2,3), n()/3)) %>%\n",
    "mutate(Gen = map_chr(Gen_id, ~generations[.x])) \n",
    "\n",
    "is_in_mds42.df.prevgen <- is_in_mds42.df %>%\n",
    "\tmutate(matched_row.prev = pmap(list(Parent, Subline, Gen, pos),\n",
    "\tfunction(Parent, Subline, Gen, pos){\n",
    "\t\tmatched_row <- unname(which(is_in_df.prev$Parent == Parent & \n",
    "\t\tis_in_df.prev$Subline == Subline & \n",
    "\t\tis_in_df.prev$Gen == Gen &\n",
    "\t\tabs(is_in_df.prev$pos - pos) <= 20))\n",
    "\t\treturn(matched_row[1])\n",
    "\t}) %>% unlist() %>% as.integer()) \n",
    "\n",
    "print(is_in_mds42.df.prevgen %>% head %>% data.frame)\n",
    "print(is_in_mds42.df.prevgen %>% tail %>% data.frame)\n",
    "\"\"\";"
   ]
  },
  {
   "cell_type": "code",
   "execution_count": 7,
   "metadata": {},
   "outputs": [
    {
     "name": "stdout",
     "output_type": "stream",
     "text": [
      "# A tibble: 6 × 5\n",
      "# Groups:   Line, Gen [1]\n",
      "  Line  Gen   insert_id      pos sv              \n",
      "  <chr> <chr>     <dbl>    <dbl> <chr>           \n",
      "1 L01-1 MA08          2  549440  unknown         \n",
      "2 L01-1 MA08          3  554375  unknown         \n",
      "3 L01-1 MA08          4  705281  simple_insertion\n",
      "4 L01-1 MA08          8 1475270  unknown         \n",
      "5 L01-1 MA08         11 1660676. simple_insertion\n",
      "6 L01-1 MA08         12 1938080. simple_insertion\n",
      "[1] \"Number of unique INS: 910\"\n",
      "[1] \"Number of simple INS: 364\"\n",
      "[1] \"Number of MA08 INS: 481\"\n"
     ]
    },
    {
     "name": "stderr",
     "output_type": "stream",
     "text": [
      "\u001b[33m\u001b[1m┌ \u001b[22m\u001b[39m\u001b[33m\u001b[1mWarning: \u001b[22m\u001b[39mRCall.jl: `summarise()` has grouped output by 'Line', 'Gen'. You can override using the\n",
      "\u001b[33m\u001b[1m│ \u001b[22m\u001b[39m`.groups` argument.\n",
      "\u001b[33m\u001b[1m└ \u001b[22m\u001b[39m\u001b[90m@ RCall ~/.julia/packages/RCall/gOwEW/src/io.jl:172\u001b[39m\n"
     ]
    }
   ],
   "source": [
    "R\"\"\"\n",
    "is_in_mds42.df.prevgen.rmdup <- is_in_mds42.df.prevgen %>%\n",
    "filter(Gen != \"FACS\") %>%\n",
    "filter(is.na(matched_row.prev)) %>%\n",
    "mutate(Type = ifelse(sv == \"simple_insertion\", \"Simple\", \"Complex\")) %>%\n",
    "group_by(Line, Gen, insert_id) %>% ## remove duplicates due to two ends of the same insertion\n",
    "summarise(pos = mean(pos), sv = ifelse(all(sv == \"simple_insertion\"), \"simple_insertion\", \"unknown\"))\n",
    "\n",
    "is_in_mds42.df.prevgen.rmdup %>% head %>% print\n",
    "\n",
    "## Note the number is based on MDS42 coordinates rather than the ancestor of MA.\n",
    "print(paste0(\"Number of unique INS: \", nrow(is_in_mds42.df.prevgen.rmdup)))\n",
    "# simple or not\n",
    "print(paste0(\"Number of simple INS: \", sum(is_in_mds42.df.prevgen.rmdup$sv == \"simple_insertion\")))\n",
    "# MA08 or not\n",
    "print(paste0(\"Number of MA08 INS: \", sum(is_in_mds42.df.prevgen.rmdup$Gen == \"MA08\")))\n",
    "\"\"\";"
   ]
  },
  {
   "cell_type": "markdown",
   "metadata": {},
   "source": [
    "### Import Gene data of MDS42\n",
    "\n",
    "Note: Goodall 2018 mBio say PEC identified 300 essential genes, but the database contains 302 genes. Maybe the database was updated or a mistake in the paper. The paper is not citing the original source of the data nor the paper that did the analysis (but citing a related methods paper instead), so I cannot check. Here, I use 302 genes.\n",
    "\n",
    "Source: 20240301 (but the number has been the same at least since 2021)\n",
    "https://shigen.nig.ac.jp/ecoli/pec/download/files/PECData.dat"
   ]
  },
  {
   "cell_type": "code",
   "execution_count": 8,
   "metadata": {},
   "outputs": [
    {
     "name": "stdout",
     "output_type": "stream",
     "text": [
      "  gene  start    end strand length bnumber  ECK_id Insertion.Index.Score\n",
      "1 thrL 621429 621494      1     66   b0001 ECK0001             0.3939394\n",
      "2 thrA 621576 624038      1   2463   b0002 ECK0002             0.2192448\n",
      "3 thrB 624040 624972      1    933   b0003 ECK0003             0.2658092\n",
      "4 thrC 624973 626259      1   1287   b0004 ECK0004             0.2059052\n",
      "5 yaaX 626473 626769      1    297   b0005 ECK0005             0.2255892\n",
      "6 yaaA 626922 627698     -1    777   b0006 ECK0006             0.2084942\n",
      "  Log.Likelihood.Ratio Essential Non.essential Unclear Essential_PEC\n",
      "1             31.43106     FALSE          TRUE   FALSE         FALSE\n",
      "2             17.20078     FALSE          TRUE   FALSE         FALSE\n",
      "3             21.23455     FALSE          TRUE   FALSE         FALSE\n",
      "4             15.99492     FALSE          TRUE   FALSE         FALSE\n",
      "5             17.76551     FALSE          TRUE   FALSE         FALSE\n",
      "6             16.23103     FALSE          TRUE   FALSE         FALSE\n",
      "[1] \"MDS42 has 3980425 bp genome size and 3754 genes with total gene length 3557377 bp\"\n",
      "[1] \"Genes are 89.3717881884472% of the genome\"\n",
      "[1] \"(With some duplicates)\"\n",
      "[1] \"MDS42 has 302 essential genes with total essential gene length 308726 bp\"\n",
      "[1] \"Essential genes are 7.75610644591972% of the genome\"\n",
      "[1] \"(No duplicateda genes were essential as the next cell)\"\n"
     ]
    },
    {
     "name": "stderr",
     "output_type": "stream",
     "text": [
      "\u001b[33m\u001b[1m┌ \u001b[22m\u001b[39m\u001b[33m\u001b[1mWarning: \u001b[22m\u001b[39mRCall.jl: Rows: 3754 Columns: 15\n",
      "\u001b[33m\u001b[1m│ \u001b[22m\u001b[39m── Column specification ────────────────────────────────────────────────────────\n",
      "\u001b[33m\u001b[1m│ \u001b[22m\u001b[39mDelimiter: \",\"\n",
      "\u001b[33m\u001b[1m│ \u001b[22m\u001b[39mchr (3): gene, bnumber, ECK_id\n",
      "\u001b[33m\u001b[1m│ \u001b[22m\u001b[39mdbl (8): start, end, strand, length, Insertion Index Score, Log Likelihood R...\n",
      "\u001b[33m\u001b[1m│ \u001b[22m\u001b[39mlgl (4): Essential, Non-essential, Unclear, Essential_PEC\n",
      "\u001b[33m\u001b[1m│ \u001b[22m\u001b[39m\n",
      "\u001b[33m\u001b[1m│ \u001b[22m\u001b[39mℹ Use `spec()` to retrieve the full column specification for this data.\n",
      "\u001b[33m\u001b[1m│ \u001b[22m\u001b[39mℹ Specify the column types or set `show_col_types = FALSE` to quiet this message.\n",
      "\u001b[33m\u001b[1m└ \u001b[22m\u001b[39m\u001b[90m@ RCall ~/.julia/packages/RCall/gOwEW/src/io.jl:172\u001b[39m\n"
     ]
    }
   ],
   "source": [
    "R\"\"\" # Here, the essential gene length does not consider overlap of essential genes.\n",
    "mds42_genes <- read_csv(\"../misc/gene_df_ess_mds42_based_on_PEC.csv\") %>%\n",
    "\tmutate(start = start_ori_shift, end = end_ori_shift) %>%\n",
    "\tselect(-start_ori_shift, -end_ori_shift)\n",
    "\t# remove duplicated genes by selecting the one with longest length\n",
    "\t# (with group_by(gene) %>% filter(length == max(length)) %>% ungroup() \n",
    "mds42_genome_size = 3980425\n",
    "\n",
    "mds42_genes %>% head %>% data.frame %>% print\n",
    "mds42_ess_genes <- mds42_genes %>% filter(Essential_PEC)\n",
    "mds42_ess_genes_length <- mds42_ess_genes %>% mutate(length = end - start +1 ) %>% pull(length)\n",
    "\n",
    "print(paste0(\"MDS42 has \", mds42_genome_size, \" bp genome size\", \" and \", nrow(mds42_genes), \" genes\", \" with total gene length \", sum(mds42_genes$length), \" bp\"))\n",
    "print(paste0(\"Genes are \", sum(mds42_genes$length)/mds42_genome_size*100, \"% of the genome\"))\n",
    "print(\"(With some duplicates)\")\n",
    "print(paste0(\"MDS42 has \", nrow(mds42_ess_genes), \" essential genes\", \" with total essential gene length \", sum(mds42_ess_genes_length), \" bp\"))\n",
    "print(paste0(\"Essential genes are \", sum(mds42_ess_genes_length)/mds42_genome_size*100, \"% of the genome\"))\n",
    "print(\"(No duplicateda genes were essential as the next cell)\")\n",
    "\"\"\";"
   ]
  },
  {
   "cell_type": "markdown",
   "metadata": {},
   "source": [
    "## Analysis of overlap of genes\n",
    "There shouldn't be much but there can be overlaps in essential genes."
   ]
  },
  {
   "cell_type": "code",
   "execution_count": 9,
   "metadata": {},
   "outputs": [
    {
     "name": "stdout",
     "output_type": "stream",
     "text": [
      "[1] \"number of ranges: 274\"\n",
      "[1] \"total length of ranges: 308314\"\n"
     ]
    },
    {
     "data": {
      "text/plain": [
       "RObject{StrSxp}\n",
       "[1] \"total length of ranges: 308314\"\n"
      ]
     },
     "execution_count": 9,
     "metadata": {},
     "output_type": "execute_result"
    }
   ],
   "source": [
    "## Do essential genes overlap?\n",
    "@rget mds42_ess_genes\n",
    "@rget mds42_genome_size\n",
    "\n",
    "mds42_genome_size = Int(mds42_genome_size)\n",
    "mds42_ess_depth = zeros(Int, mds42_genome_size)\n",
    "\n",
    "for row in eachrow(mds42_ess_genes)\n",
    "\tmds42_ess_depth[Int(row.start):Int(row.end)] .= 1\n",
    "end\n",
    "\n",
    "# convert to range. DF ID, start end\n",
    "mds42_ess_depth_range_df = DataFrame(ID = Int[], r_start = Int[], r_end = Int[])\n",
    "id_ = 1\n",
    "flag_ = 0\n",
    "start_ = 1\n",
    "for (i, v) in enumerate(mds42_ess_depth)\n",
    "\tif v == 1 && flag_ == 0\n",
    "\t\tflag_ = 1\n",
    "\t\tstart_ = i\n",
    "\telseif v == 0 && flag_ == 1\n",
    "\t\tflag_ = 0\n",
    "\t\tpush!(mds42_ess_depth_range_df, [id_, start_, i-1])\n",
    "\t\tid_ += 1\n",
    "\tend\n",
    "end\n",
    "if flag_ == 1\n",
    "\tpush!(mds42_ess_depth_range_df, [id_, start_, mds42_genome_size])\n",
    "end\n",
    "\n",
    "@rput mds42_ess_depth_range_df\n",
    "\n",
    "R\"\"\"\n",
    "mds42_ess_depth_range_df %>% head\n",
    "print(paste(\"number of ranges:\", nrow(mds42_ess_depth_range_df)))\n",
    "print(paste(\"total length of ranges:\", sum(mds42_ess_depth_range_df$r_end - mds42_ess_depth_range_df$r_start)))\n",
    "\"\"\""
   ]
  },
  {
   "cell_type": "markdown",
   "metadata": {},
   "source": [
    "## Found duplicated genes\n",
    "Some genes have duplicated names"
   ]
  },
  {
   "cell_type": "code",
   "execution_count": 10,
   "metadata": {},
   "outputs": [
    {
     "name": "stdout",
     "output_type": "stream",
     "text": [
      "   gene   start     end length Essential_PEC n min_start max_end is_minmax\n",
      "1  arpB 2110191 2112090   1900         FALSE 3   2110146 2112090     FALSE\n",
      "2  arpB 2110630 2112045   1416         FALSE 3   2110146 2112090     FALSE\n",
      "3  arpB 2110146 2110619    474         FALSE 3   2110146 2112090     FALSE\n",
      "4  gapC 1827789 1828789   1001         FALSE 3   1827744 1828789     FALSE\n",
      "5  gapC 1827992 1828744    753         FALSE 3   1827744 1828789     FALSE\n",
      "6  gapC 1827744 1827995    252         FALSE 3   1827744 1828789     FALSE\n",
      "7  ilvG   24870   26514   1645         FALSE 3     24817   26514     FALSE\n",
      "8  ilvG   24817   25800    984         FALSE 3     24817   26514     FALSE\n",
      "9  ilvG   25880   26461    582         FALSE 3     24817   26514     FALSE\n",
      "10 molR 2396135 2399930   3796         FALSE 4   2396090 2399930     FALSE\n",
      "11 molR 2397026 2398963   1938         FALSE 4   2396090 2399930     FALSE\n",
      "12 molR 2398938 2399885    948         FALSE 4   2396090 2399930     FALSE\n",
      "13 molR 2396090 2396914    825         FALSE 4   2396090 2399930     FALSE\n",
      "14 phnE  396807  397427    621            NA 2    396589  397427     FALSE\n",
      "15 phnE  396589  396957    369         FALSE 2    396589  397427     FALSE\n",
      "16 ycdN 1561033 1561871    839         FALSE 3   1561033 1561871      TRUE\n",
      "17 ycdN 1561140 1561871    732         FALSE 3   1561033 1561871     FALSE\n",
      "18 ycdN 1561042 1561152    111         FALSE 3   1561033 1561871     FALSE\n",
      "19 ychG 1725510 1726261    752         FALSE 3   1725323 1726261     FALSE\n",
      "20 ychG 1725323 1725913    591         FALSE 3   1725323 1726261     FALSE\n",
      "21 ychG 1725865 1726095    231         FALSE 3   1725323 1726261     FALSE\n",
      "22 yciX 1764900 1765198    299         FALSE 3   1764858 1765198     FALSE\n",
      "23 yciX 1764968 1765156    189         FALSE 3   1764858 1765198     FALSE\n",
      "24 yciX 1764858 1764986    129         FALSE 3   1764858 1765198     FALSE\n",
      "25 yedS 2296350 2297572   1223         FALSE 4   2296335 2297572     FALSE\n",
      "26 yedS 2296335 2296820    486         FALSE 4   2296335 2297572     FALSE\n",
      "27 yedS 2297123 2297527    405         FALSE 4   2296335 2297572     FALSE\n",
      "28 yedS 2296830 2297039    210         FALSE 4   2296335 2297572     FALSE\n",
      "29 yeeL 2314605 2315657   1053         FALSE 3   2314560 2315657     FALSE\n",
      "30 yeeL 2314908 2315612    705         FALSE 3   2314560 2315657     FALSE\n",
      "31 yeeL 2314560 2314886    327         FALSE 3   2314560 2315657     FALSE\n",
      "32 yfaS 2525679 2530283   4605         FALSE 3   2525634 2530283     FALSE\n",
      "33 yfaS 2526135 2530238   4104         FALSE 3   2525634 2530283     FALSE\n",
      "34 yfaS 2525634 2526119    486         FALSE 3   2525634 2530283     FALSE\n",
      "35 ylbE 1070051 1071309   1259         FALSE 3   1070051 1071310     FALSE\n",
      "36 ylbE 1070309 1071310   1002         FALSE 3   1070051 1071310     FALSE\n",
      "37 ylbE 1070051 1070311    261         FALSE 3   1070051 1071310     FALSE\n",
      "38 yncK 1841219 1841725    507         FALSE 3   1841174 1841725     FALSE\n",
      "39 yncK 1841393 1841680    288         FALSE 3   1841174 1841725     FALSE\n",
      "40 yncK 1841174 1841341    168         FALSE 3   1841174 1841725     FALSE\n",
      "   gene   start     end length n min_start max_end is_minmax is_ess\n",
      "1   alr 4244714 4245793   1080 2   1239029 4245793     FALSE  FALSE\n",
      "2   alr 1239029 1240099   1071 2   1239029 4245793     FALSE  FALSE\n",
      "3  bioD 1643719 1644414    696 2    804896 1644414     FALSE  FALSE\n",
      "4  bioD  804896  805573    678 2    804896 1644414     FALSE  FALSE\n",
      "5   ddl  367475  368569   1095 2    105037  368569     FALSE  FALSE\n",
      "6   ddl  105037  105957    921 2    105037  368569     FALSE  FALSE\n",
      "7  ldrD 3629472 3629579    108 3   3629472 3630545     FALSE   TRUE\n",
      "8  ldrD 3629955 3630062    108 3   3629472 3630545     FALSE   TRUE\n",
      "9  ldrD 3630438 3630545    108 3   3629472 3630545     FALSE   TRUE\n",
      "10  maf 3325676 3326269    594 2   1160580 3326269     FALSE  FALSE\n",
      "11  maf 1160580 1161164    585 2   1160580 3326269     FALSE  FALSE\n",
      "12 metZ 2842006 2842082     77 2   2842006 3253523     FALSE  FALSE\n",
      "13 metZ 3253447 3253523     77 2   2842006 3253523     FALSE  FALSE\n",
      "14  tuf 3398050 3399234   1185 2   3398050 4156739     FALSE  FALSE\n",
      "15  tuf 4155555 4156739   1185 2   3398050 4156739     FALSE  FALSE\n",
      "16 ydfQ 1417530 1418063    534 2   1417530 1612251     FALSE  FALSE\n",
      "17 ydfQ 1611718 1612251    534 2   1417530 1612251     FALSE  FALSE\n",
      "18 yeeV 3009295 3009669    375 2   3009295 3794471     FALSE  FALSE\n",
      "19 yeeV 3794106 3794471    366 2   3009295 3794471     FALSE  FALSE\n",
      "20 yhhI  242813  243949   1137 4    242813 3556202     FALSE   TRUE\n",
      "21 yhhI  568800  569936   1137 4    242813 3556202     FALSE   TRUE\n",
      "22 yhhI  717718  718854   1137 4    242813 3556202     FALSE   TRUE\n",
      "23 yhhI 3555066 3556202   1137 4    242813 3556202     FALSE   TRUE\n",
      "24 yis1 4489417 4490256    840 2   4489417 4493974     FALSE  FALSE\n",
      "25 yis1 4493672 4493974    303 2   4489417 4493974     FALSE  FALSE\n"
     ]
    }
   ],
   "source": [
    "R\"\"\"\n",
    "# find duplicates\n",
    "mds42_genes %>% \n",
    "\tselect(gene, start, end, length, Essential_PEC) %>% \n",
    "\tgroup_by(gene) %>%\n",
    "\tmutate(n = n()) %>%\n",
    "\tmutate(min_start = min(start), max_end = max(end)) %>%\n",
    "\tmutate(is_minmax = (start == min_start & end == max_end)) %>%\n",
    "\tfilter(n > 1) %>%\n",
    "\tarrange(gene, -length) %>% ungroup() %>% data.frame %>% print\n",
    "## all duplicates are non-essential genes\n",
    "\n",
    "# LTEE\n",
    "LTEE_genes %>% filter(feat_type == \"gene\") %>%\n",
    "\tselect(gene, start, end) %>% \n",
    "\tmutate(length = end - start +1 ) %>%\n",
    "\tgroup_by(gene) %>%\n",
    "\tmutate(n = n()) %>%\n",
    "\tmutate(min_start = min(start), max_end = max(end)) %>%\n",
    "\tmutate(is_minmax = (start == min_start & end == max_end)) %>%\n",
    "\tmutate(is_ess = gene %in% LTEE_ess$Name) %>%\n",
    "\tungroup %>%\n",
    "\tfilter(n > 1) %>%\n",
    "\tarrange(gene, -length) %>% data.frame %>% print\n",
    "\"\"\";"
   ]
  },
  {
   "cell_type": "markdown",
   "metadata": {},
   "source": [
    "Comment:\n",
    "ldrD and yhhI is essential? It might be a mistake in the essential gene list by Couce et al. 2017\n",
    "Their criteria is too loose. Even recA, B, C, dnaQ, ompF is considered essential.\n",
    "Oh, I see their experiment was done under LTEE conditions.\n",
    "In that case I may need to analyze Limdi's data under LB.\n",
    "-> No Limdi's data is likely insufficient for this purpose as well.\n",
    "Their data is only used for \"differential\" essentiality.\n"
   ]
  },
  {
   "cell_type": "code",
   "execution_count": 11,
   "metadata": {},
   "outputs": [
    {
     "name": "stdout",
     "output_type": "stream",
     "text": [
      "# A tibble: 6 × 11\n",
      "  seq_id start   end strand feat_id   feat_type gene  desc  bnumber ECK_id \n",
      "  <chr>  <dbl> <dbl>  <dbl> <chr>     <chr>     <chr> <chr> <chr>   <chr>  \n",
      "1 REL606   190   255      1 ECB_00001 gene      thrL  <NA>  b0001   ECK0001\n",
      "2 REL606   336  2798      1 ECB_00002 gene      thrA  <NA>  b0002   ECK0002\n",
      "3 REL606  2800  3732      1 ECB_00003 gene      thrB  <NA>  b0003   ECK0003\n",
      "4 REL606  3733  5019      1 ECB_00004 gene      thrC  <NA>  b0004   ECK0004\n",
      "5 REL606  5232  5528      1 ECB_00005 gene      yaaX  <NA>  b0005   ECK0005\n",
      "6 REL606  5681  6457     -1 ECB_00006 gene      yaaA  <NA>  b0006   ECK0006\n",
      "# ℹ 1 more variable: Essential_PEC <lgl>\n",
      "[1] \"Out of 4386 genes in REL606, 4408 genes are identical to MDS42 and 279 are essential genes identical to MDS42\"\n"
     ]
    },
    {
     "name": "stderr",
     "output_type": "stream",
     "text": [
      "\u001b[33m\u001b[1m┌ \u001b[22m\u001b[39m\u001b[33m\u001b[1mWarning: \u001b[22m\u001b[39mRCall.jl: Warning in left_join(., mds42_genes %>% select(gene, bnumber, ECK_id, Essential_PEC),  :\n",
      "\u001b[33m\u001b[1m│ \u001b[22m\u001b[39m  Detected an unexpected many-to-many relationship between `x` and `y`.\n",
      "\u001b[33m\u001b[1m│ \u001b[22m\u001b[39mℹ Row 477 of `x` matches multiple rows in `y`.\n",
      "\u001b[33m\u001b[1m│ \u001b[22m\u001b[39mℹ Row 628 of `y` matches multiple rows in `x`.\n",
      "\u001b[33m\u001b[1m│ \u001b[22m\u001b[39mℹ If a many-to-many relationship is expected, set `relationship =\n",
      "\u001b[33m\u001b[1m│ \u001b[22m\u001b[39m  \"many-to-many\"` to silence this warning.\n",
      "\u001b[33m\u001b[1m└ \u001b[22m\u001b[39m\u001b[90m@ RCall ~/.julia/packages/RCall/gOwEW/src/io.jl:172\u001b[39m\n"
     ]
    }
   ],
   "source": [
    "R\"\"\"\n",
    "LTEE_genes_mds <- LTEE_genes %>% filter(feat_type == \"gene\") %>%\n",
    "\tleft_join(mds42_genes %>% select(gene, bnumber, ECK_id, Essential_PEC), by = c(\"gene\"))\n",
    "LTEE_genes_mds %>% head %>% print\n",
    "\n",
    "LTEE_ess_genes_mds <- LTEE_genes_mds %>% filter(Essential_PEC)\n",
    "# genes identical and essential genes identical\n",
    "print(paste(\"Out of\", LTEE_gene_cnt, \"genes in REL606,\", nrow(LTEE_genes_mds), \"genes are identical to MDS42\",\n",
    "\"and\", nrow(LTEE_ess_genes_mds), \"are essential genes identical to MDS42\"))\n",
    "\"\"\";"
   ]
  },
  {
   "cell_type": "markdown",
   "metadata": {},
   "source": [
    "# Analysis of IS-devoid regions\n",
    "\n",
    "Consuegra 2021.\n",
    "> All regions that were nearly devoid of IS elements in the ancestor were colonized by IS elements in one or more populations, including the replication origin and termination regions, except for a 152-kbp region from 3.315 to 3.467 Mbp.\n"
   ]
  },
  {
   "cell_type": "code",
   "execution_count": 12,
   "metadata": {},
   "outputs": [
    {
     "name": "stdout",
     "output_type": "stream",
     "text": [
      "# A tibble: 2 × 8\n",
      "  seq_id   start     end strand feat_id   feat_type gene  desc \n",
      "  <chr>    <dbl>   <dbl>  <dbl> <chr>     <chr>     <chr> <chr>\n",
      "1 REL606 3313754 3314026     -1 ECB_03099 gene      yhcO  <NA> \n",
      "2 REL606 3314118 3316085     -1 ECB_03100 gene      yhcP  <NA> \n",
      "# A tibble: 2 × 8\n",
      "  seq_id   start     end strand feat_id   feat_type gene  desc \n",
      "  <chr>    <dbl>   <dbl>  <dbl> <chr>     <chr>     <chr> <chr>\n",
      "1 REL606 3316091 3317023     -1 ECB_03101 gene      yhcQ  <NA> \n",
      "2 REL606 3317031 3317234     -1 ECB_03102 gene      yhcR  <NA> \n",
      "# A tibble: 2 × 8\n",
      "  seq_id   start     end strand feat_id   feat_type gene  desc \n",
      "  <chr>    <dbl>   <dbl>  <dbl> <chr>     <chr>     <chr> <chr>\n",
      "1 REL606 3465496 3465972      1 ECB_03258 gene      greB  <NA> \n",
      "2 REL606 3464549 3465268     -1 ECB_03257 gene      ompR  <NA> \n",
      "# A tibble: 2 × 8\n",
      "  seq_id   start     end strand feat_id   feat_type gene  desc \n",
      "  <chr>    <dbl>   <dbl>  <dbl> <chr>     <chr>     <chr> <chr>\n",
      "1 REL606 3468828 3469055      1 ECB_03260 gene      feoA  <NA> \n",
      "2 REL606 3466072 3468390      1 ECB_03259 gene      yhgF  <NA> \n"
     ]
    }
   ],
   "source": [
    "R\"\"\"\n",
    "devoid.start <- 3315000 ## yhcP\n",
    "devoid.end <- 3467000 ## yhgF\n",
    "# get first two and last two in and around the devoid region\n",
    "LTEE_genes %>% filter(start <= devoid.start, feat_type == \"gene\") %>% \n",
    "\tarrange(start) %>% tail(2) %>% print\n",
    "LTEE_genes %>% filter(start > devoid.start & end < devoid.end, feat_type == \"gene\") %>% \n",
    "\tarrange(start) %>% head(2) %>% print\n",
    "LTEE_genes %>% filter(start > devoid.start & end < devoid.end, , feat_type == \"gene\") %>% \n",
    "\tarrange(desc(end)) %>% head(2) %>% print\n",
    "LTEE_genes %>% filter(end >= devoid.end, feat_type == \"gene\") %>% \n",
    "\tarrange(desc(end)) %>% tail(2) %>% print\n",
    "\"\"\";"
   ]
  },
  {
   "cell_type": "code",
   "execution_count": 13,
   "metadata": {},
   "outputs": [
    {
     "data": {
      "text/plain": [
       "RObject{VecSxp}\n",
       "# A tibble: 12 × 2\n",
       "   Population   INS\n",
       "   <chr>      <dbl>\n",
       " 1 Ara+1       40  \n",
       " 2 Ara+2       11  \n",
       " 3 Ara+3        4  \n",
       " 4 Ara+4        6  \n",
       " 5 Ara+5       16  \n",
       " 6 Ara+6        4  \n",
       " 7 Ara–1       11  \n",
       " 8 Ara–2       14.5\n",
       " 9 Ara–3       31.5\n",
       "10 Ara–4        2.5\n",
       "11 Ara–5       23.5\n",
       "12 Ara–6       21  \n"
      ]
     },
     "execution_count": 13,
     "metadata": {},
     "output_type": "execute_result"
    }
   ],
   "source": [
    "R\"\"\"\n",
    "LTEE_INS_cnt \n",
    "\"\"\""
   ]
  },
  {
   "cell_type": "code",
   "execution_count": 14,
   "metadata": {},
   "outputs": [
    {
     "name": "stdout",
     "output_type": "stream",
     "text": [
      "[1] \"Expected INS frequency per bp: 3.99584259576847e-05; In devoid region: 6.07368074556807\"\n",
      "[1] \"In the 152000 bp devoid region, there are 124985 bp of non-essential sequence (82.2269736842105%)\"\n",
      "[1] \"Expected INS frequency per bp in non-essential region: 4.48034424543374e-05; In devoid region: 6.81012325305929\"\n"
     ]
    }
   ],
   "source": [
    "R\"\"\"\n",
    "# Expected INS frequency per bp\n",
    "LTEE.exp.all <- sum(LTEE_INS_cnt$INS) / LTEE_genome_size\n",
    "LTEE.exp.ness <- sum(LTEE_INS_cnt$INS) / (LTEE_genome_size - sum(LTEE_ess_genes_length))\n",
    "devoid.length.ness_ <- LTEE_ess_genes %>% filter(start > devoid.start & end < devoid.end) %>% \n",
    "\tmutate(length = end - start + 1) %>% pull(length) %>% sum()\n",
    "devoid.length.ness <- (devoid.end - devoid.start) - devoid.length.ness_\n",
    "print(paste0(\"Expected INS frequency per bp: \", LTEE.exp.all, \"; In devoid region: \",\n",
    "\tLTEE.exp.all * (devoid.end - devoid.start)))\n",
    "print(paste0(\"In the \", (devoid.end - devoid.start),\" bp devoid region, there are \",\n",
    "\tdevoid.length.ness, \" bp of non-essential sequence (\", (devoid.length.ness/(devoid.end - devoid.start)*100), \"%)\")\n",
    ")\n",
    "print(paste0(\"Expected INS frequency per bp in non-essential region: \", LTEE.exp.ness, \"; In devoid region: \",\n",
    "\tLTEE.exp.ness * (devoid.end - devoid.start)))\n",
    "\"\"\";"
   ]
  },
  {
   "cell_type": "code",
   "execution_count": 15,
   "metadata": {},
   "outputs": [
    {
     "name": "stdout",
     "output_type": "stream",
     "text": [
      "# A tibble: 47 × 9\n",
      "   seq_id   start     end strand feat_id   feat_type gene  desc  length\n",
      "   <chr>    <dbl>   <dbl>  <dbl> <chr>     <chr>     <chr> <chr>  <dbl>\n",
      " 1 REL606 3326278 3326766     -1 ECB_03108 gene      mreD  <NA>     489\n",
      " 2 REL606 3326766 3327869     -1 ECB_03109 gene      mreC  <NA>    1104\n",
      " 3 REL606 3327935 3328978     -1 ECB_03110 gene      mreB  <NA>    1044\n",
      " 4 REL606 3333327 3333797      1 ECB_03113 gene      accB  <NA>     471\n",
      " 5 REL606 3333808 3335157      1 ECB_03114 gene      accC  <NA>    1350\n",
      " 6 REL606 3358748 3359320     -1 ECB_03133 gene      yrdC  <NA>     573\n",
      " 7 REL606 3361595 3362104      1 ECB_03137 gene      def   <NA>     510\n",
      " 8 REL606 3362119 3363066      1 ECB_03138 gene      fmt   <NA>     948\n",
      " 9 REL606 3367521 3367904     -1 ECB_03145 gene      rplQ  <NA>     384\n",
      "10 REL606 3367945 3368934     -1 ECB_03146 gene      rpoA  <NA>     990\n",
      "# ℹ 37 more rows\n",
      " [1] \"mreD\" \"mreC\" \"mreB\" \"accB\" \"accC\" \"yrdC\" \"def\"  \"fmt\"  \"rplQ\" \"rpoA\"\n",
      "[11] \"rpsD\" \"rpsK\" \"rpsM\" \"rpmJ\" \"prlA\" \"rplO\" \"rpmD\" \"rpsE\" \"rplR\" \"rplF\"\n",
      "[21] \"rpsH\" \"rpsN\" \"rplE\" \"rplX\" \"rplN\" \"rpsQ\" \"rpmC\" \"rplP\" \"rpsC\" \"rplV\"\n",
      "[31] \"rpsS\" \"rplB\" \"rplW\" \"rplD\" \"rplC\" \"rpsJ\" \"fusA\" \"rpsG\" \"rpsL\" \"yheL\"\n",
      "[41] \"yheM\" \"yheN\" \"yheO\" \"crp\"  \"trpS\" \"rpe\"  \"aroK\"\n"
     ]
    }
   ],
   "source": [
    "R\"\"\"\n",
    "LTEE_ess_genes %>% filter(start > devoid.start & end < devoid.end) %>% mutate(length = end - start + 1)  %>% print\n",
    "LTEE_ess_genes %>% filter(start > devoid.start & end < devoid.end) %>% mutate(length = end - start + 1) %>%\n",
    "\tpull(gene) %>% print\n",
    "\"\"\";"
   ]
  },
  {
   "cell_type": "markdown",
   "metadata": {},
   "source": [
    "#### Statistical test"
   ]
  },
  {
   "cell_type": "code",
   "execution_count": 16,
   "metadata": {},
   "outputs": [
    {
     "data": {
      "text/plain": [
       "RObject{VecSxp}\n",
       "\n",
       "\tExact binomial test\n",
       "\n",
       "data:  0 and 12 * devoid.length.ness\n",
       "number of successes = 0, number of trials = 1499820, p-value = 0.003699\n",
       "alternative hypothesis: true probability of success is less than 3.73362e-06\n",
       "95 percent confidence interval:\n",
       " 0.000000e+00 1.997393e-06\n",
       "sample estimates:\n",
       "probability of success \n",
       "                     0 \n",
       "\n"
      ]
     },
     "execution_count": 16,
     "metadata": {},
     "output_type": "execute_result"
    }
   ],
   "source": [
    "R\"\"\"\n",
    "## The number of INS=0 is significantly lower than expected from binomial distribution\n",
    "binom.test(0, 12 * devoid.length.ness, LTEE.exp.ness/12, alternative = \"less\")\n",
    "\"\"\""
   ]
  },
  {
   "cell_type": "markdown",
   "metadata": {},
   "source": [
    "#### Analysis of this study"
   ]
  },
  {
   "cell_type": "code",
   "execution_count": 17,
   "metadata": {},
   "outputs": [
    {
     "name": "stdout",
     "output_type": "stream",
     "text": [
      "  gene   start     end strand length bnumber  ECK_id Insertion.Index.Score\n",
      "1 yhcO 3479178 3479450     -1    273   b3239 ECK3228             0.1465201\n",
      "2 aaeB 3479542 3481509     -1   1968   b3240 ECK3229             0.2215447\n",
      "  Log.Likelihood.Ratio Essential Non.essential Unclear Essential_PEC\n",
      "1             10.22452     FALSE          TRUE   FALSE         FALSE\n",
      "2             17.40612     FALSE          TRUE   FALSE         FALSE\n",
      "  gene   start     end strand length bnumber  ECK_id Insertion.Index.Score\n",
      "1 aaeA 3481515 3482447     -1    933   b3241 ECK3230             0.2636656\n",
      "2 aaeX 3482455 3482658     -1    204   b3242 ECK3231             0.2549020\n",
      "  Log.Likelihood.Ratio Essential Non.essential Unclear Essential_PEC\n",
      "1             21.05394     FALSE          TRUE   FALSE         FALSE\n",
      "2             20.31093     FALSE          TRUE   FALSE         FALSE\n",
      "  gene   start     end strand length bnumber  ECK_id Insertion.Index.Score\n",
      "1 greB 3614207 3614683      1    477   b3406 ECK3393             0.2389937\n",
      "2 ompR 3613260 3613979     -1    720   b3405 ECK3392             0.2555556\n",
      "  Log.Likelihood.Ratio Essential Non.essential Unclear Essential_PEC\n",
      "1             18.94179     FALSE          TRUE   FALSE         FALSE\n",
      "2             20.36661     FALSE          TRUE   FALSE         FALSE\n",
      "  gene   start     end strand length bnumber  ECK_id Insertion.Index.Score\n",
      "1 feoA 3617558 3617785      1    228   b3408 ECK3395             0.4912281\n",
      "2 yhgF 3614780 3617101      1   2322   b3407 ECK3394             0.2678725\n",
      "  Log.Likelihood.Ratio Essential Non.essential Unclear Essential_PEC\n",
      "1             38.65720     FALSE          TRUE   FALSE         FALSE\n",
      "2             21.40799     FALSE          TRUE   FALSE         FALSE\n"
     ]
    }
   ],
   "source": [
    "R\"\"\"\n",
    "# Boundary genes\n",
    "devoid.start.ma <- 3480424 ## aaeB = yhcP\n",
    "devoid.end.ma <- 3615711 ## yhgF\n",
    "\n",
    "# get first two and last two in and around the devoid region\n",
    "mds42_genes %>% filter(start <= devoid.start.ma) %>% \n",
    "\tarrange(start) %>% tail(2) %>% data.frame %>% print\n",
    "mds42_genes %>% filter(start > devoid.start.ma & end < devoid.end.ma) %>%\n",
    "\tarrange(start) %>% head(2) %>% data.frame %>% print\n",
    "mds42_genes %>% filter(start > devoid.start.ma & end < devoid.end.ma) %>%\n",
    "\tarrange(desc(end)) %>% head(2) %>% data.frame %>% print\n",
    "mds42_genes %>% filter(end >= devoid.end.ma) %>%\n",
    "\tarrange(desc(end)) %>% tail(2) %>% data.frame %>% print\n",
    "\"\"\";"
   ]
  },
  {
   "cell_type": "markdown",
   "metadata": {},
   "source": [
    "There is quite a lot of insertion in the region."
   ]
  },
  {
   "cell_type": "code",
   "execution_count": 18,
   "metadata": {},
   "outputs": [
    {
     "name": "stdout",
     "output_type": "stream",
     "text": [
      "[1] \"Expected INS frequency per bp: 0.000228618803268495; In devoid region: 30.9291520377849\"\n",
      "[1] \"In the 135287 bp devoid region, there are 109775 bp of non-essential sequence\"\n",
      "[1] \"Expected INS frequency per bp in non-essential region: 0.000247841666759721; In devoid region: 27.2068189685484\"\n",
      "[1] \"Observed INS frequency in devoid region: 39\"\n"
     ]
    }
   ],
   "source": [
    "R\"\"\"\n",
    "MA.exp.all <- nrow(is_in_mds42.df.prevgen.rmdup) / mds42_genome_size # frequency genome wide / bp\n",
    "MA.exp.ness <- nrow(is_in_mds42.df.prevgen.rmdup) / (mds42_genome_size - sum(mds42_ess_genes_length)) # frequency genome wide in noness (without caring overlaps)\n",
    "\n",
    "devoid.length.ness.ma_ <- mds42_ess_genes %>% filter(start > devoid.start.ma & end < devoid.end.ma) %>% \n",
    "\tmutate(length = end - start + 1) %>% pull(length) %>% sum()\n",
    "devoid.length.ness.ma <- (devoid.end.ma - devoid.start.ma) - devoid.length.ness.ma_\n",
    "\n",
    "print(paste0(\"Expected INS frequency per bp: \", MA.exp.all, \"; In devoid region: \",\n",
    "\tMA.exp.all * (devoid.end.ma - devoid.start.ma)))\n",
    "print(paste0(\"In the \", (devoid.end.ma - devoid.start.ma),\" bp devoid region, there are \",\n",
    "\tdevoid.length.ness.ma, \" bp of non-essential sequence\"))\n",
    "print(paste0(\"Expected INS frequency per bp in non-essential region: \", MA.exp.ness, \"; In devoid region: \",\n",
    "\tMA.exp.ness * devoid.length.ness.ma))\n",
    "\n",
    "print(paste0(\"Observed INS frequency in devoid region: \",\n",
    "\tnrow(is_in_mds42.df.prevgen.rmdup %>% filter(pos >= devoid.start.ma & pos <= devoid.end.ma))))\n",
    "\"\"\";"
   ]
  },
  {
   "cell_type": "markdown",
   "metadata": {},
   "source": [
    "## STAT: t-test raw genome size devoid region "
   ]
  },
  {
   "cell_type": "code",
   "execution_count": 19,
   "metadata": {},
   "outputs": [
    {
     "data": {
      "text/plain": [
       "RObject{RealSxp}\n",
       "[1] 109775\n"
      ]
     },
     "execution_count": 19,
     "metadata": {},
     "output_type": "execute_result"
    }
   ],
   "source": [
    "R\"devoid.length.ness.ma\""
   ]
  },
  {
   "cell_type": "code",
   "execution_count": 20,
   "metadata": {},
   "outputs": [
    {
     "data": {
      "text/plain": [
       "RObject{VecSxp}\n",
       "\n",
       "\tExact binomial test\n",
       "\n",
       "data:  nrow(is_in_mds42.df.prevgen.rmdup %>% filter(pos >= devoid.start.ma & pos <= devoid.end.ma)) and devoid.length.ness.ma * 44\n",
       "number of successes = 39, number of trials = 4830100, p-value = 0.9873\n",
       "alternative hypothesis: true probability of success is less than 5.632765e-06\n",
       "95 percent confidence interval:\n",
       " 0.00000e+00 1.05463e-05\n",
       "sample estimates:\n",
       "probability of success \n",
       "          8.074367e-06 \n",
       "\n"
      ]
     },
     "execution_count": 20,
     "metadata": {},
     "output_type": "execute_result"
    }
   ],
   "source": [
    "R\"\"\"\n",
    "binom.test(nrow(is_in_mds42.df.prevgen.rmdup %>% filter(pos >= devoid.start.ma & pos <= devoid.end.ma)), \n",
    "\t#devoid.length.ness.ma * 44, MA.exp.ness / 44, alternative = \"two.sided\")\n",
    "\tdevoid.length.ness.ma * 44, MA.exp.ness / 44, alternative = \"less\")\n",
    "\"\"\""
   ]
  },
  {
   "cell_type": "code",
   "execution_count": 21,
   "metadata": {},
   "outputs": [
    {
     "data": {
      "text/plain": [
       "RObject{RealSxp}\n",
       "[1] 30.92915\n"
      ]
     },
     "execution_count": 21,
     "metadata": {},
     "output_type": "execute_result"
    }
   ],
   "source": [
    "# expected\n",
    "R\"\"\"\n",
    "(devoid.end.ma - devoid.start.ma) * MA.exp.all\n",
    "\"\"\""
   ]
  },
  {
   "cell_type": "code",
   "execution_count": 22,
   "metadata": {},
   "outputs": [
    {
     "name": "stdout",
     "output_type": "stream",
     "text": [
      "[1] 30.92915\n"
     ]
    },
    {
     "data": {
      "text/plain": [
       "RObject{VecSxp}\n",
       "\n",
       "\tExact binomial test\n",
       "\n",
       "data:  nrow(is_in_mds42.df.prevgen.rmdup %>% filter(pos >= devoid.start.ma & pos <= devoid.end.ma)) and (devoid.end.ma - devoid.start.ma) * 44\n",
       "number of successes = 39, number of trials = 5952628, p-value = 0.934\n",
       "alternative hypothesis: true probability of success is less than 5.195882e-06\n",
       "95 percent confidence interval:\n",
       " 0.000000e+00 8.557512e-06\n",
       "sample estimates:\n",
       "probability of success \n",
       "          6.551728e-06 \n",
       "\n"
      ]
     },
     "execution_count": 22,
     "metadata": {},
     "output_type": "execute_result"
    }
   ],
   "source": [
    "R\"\"\"\n",
    "print((devoid.end.ma - devoid.start.ma) * MA.exp.all)\n",
    "binom.test(nrow(is_in_mds42.df.prevgen.rmdup %>% filter(pos >= devoid.start.ma & pos <= devoid.end.ma)), \n",
    "\t#devoid.length.ness.ma * 44, MA.exp.ness / 44, alternative = \"two.sided\")\n",
    "\t(devoid.end.ma - devoid.start.ma) * 44, # trials\n",
    "\tMA.exp.all/ 44, # expected ins / bp\n",
    "\talternative = \"less\")\n",
    "\"\"\""
   ]
  },
  {
   "cell_type": "code",
   "execution_count": 23,
   "metadata": {},
   "outputs": [
    {
     "data": {
      "text/plain": [
       "RObject{VecSxp}\n",
       "   Line  Gen insert_id     pos      sv\n",
       "1 L05-1 MA08        28 3503989 unknown\n",
       "2 L05-1 MA08        29 3511933 unknown\n",
       "3 L05-2 MA08        33 3510953 unknown\n",
       "4 L05-2 MA08        34 3515914 unknown\n",
       "5 L05-3 MA08        25 3505850 unknown\n",
       "6 L05-3 MA08        26 3512685 unknown\n",
       "7 L05-4 MA08        28 3511387 unknown\n",
       "8 L05-4 MA08        29 3512873 unknown\n",
       "9 L05-4 MA20        41 3509376 unknown\n"
      ]
     },
     "execution_count": 23,
     "metadata": {},
     "output_type": "execute_result"
    }
   ],
   "source": [
    "R\"\"\"\n",
    "# For instance deletions starting from an IS might be making a large contribution\n",
    "is_in_mds42.df.prevgen.rmdup %>% filter(pos >= devoid.start.ma & pos <= devoid.end.ma) %>% data.frame %>%\n",
    "\tfilter(startsWith(Line, \"L05\"))\n",
    "\"\"\""
   ]
  },
  {
   "cell_type": "code",
   "execution_count": 24,
   "metadata": {},
   "outputs": [
    {
     "name": "stdout",
     "output_type": "stream",
     "text": [
      "[1] \"Expected simple INS frequency per bp: 9.14475213073981e-05; In devoid region: 12.371660815114\"\n",
      "[1] \"In the 135287 bp devoid region, there are 109775 bp of non-essential sequence (81.1423122694716%)\"\n",
      "[1] \"Expected simple INS frequency per bp in non-essential region: 9.91366667038883e-05; In devoid region: 10.8827275874193\"\n",
      "[1] \"Observed simple INS frequency in devoid region: 12\"\n"
     ]
    }
   ],
   "source": [
    "# limiting analysis to simple insertions still gives a significant difference\n",
    "# rather unexpectedly\n",
    "R\"\"\"\n",
    "MA.exp.all.simple <- nrow(is_in_mds42.df.prevgen.rmdup %>% filter(sv == \"simple_insertion\")) / mds42_genome_size\n",
    "MA.exp.ness.simple <- nrow(is_in_mds42.df.prevgen.rmdup %>% filter(sv == \"simple_insertion\")) / (mds42_genome_size - sum(mds42_ess_genes_length))\n",
    "\n",
    "print(paste0(\"Expected simple INS frequency per bp: \", MA.exp.all.simple, \"; In devoid region: \",\n",
    "\tMA.exp.all.simple * (devoid.end.ma - devoid.start.ma)))\n",
    "print(paste0(\"In the \", (devoid.end.ma - devoid.start.ma),\" bp devoid region, there are \",\n",
    "\tdevoid.length.ness.ma, \" bp of non-essential sequence (\", devoid.length.ness.ma / (devoid.end.ma - devoid.start.ma) * 100, \"%)\")\n",
    ")\n",
    "print(paste0(\"Expected simple INS frequency per bp in non-essential region: \", MA.exp.ness.simple, \"; In devoid region: \",\n",
    "\tMA.exp.ness.simple * devoid.length.ness.ma))\n",
    "print(paste0(\"Observed simple INS frequency in devoid region: \",\n",
    "\tnrow(is_in_mds42.df.prevgen.rmdup %>% filter(pos >= devoid.start.ma & pos <= devoid.end.ma & sv == \"simple_insertion\"))))\n",
    "\"\"\";"
   ]
  },
  {
   "cell_type": "code",
   "execution_count": 25,
   "metadata": {},
   "outputs": [
    {
     "data": {
      "text/plain": [
       "RObject{VecSxp}\n",
       "\n",
       "\tExact binomial test\n",
       "\n",
       "data:  nrow(is_in_mds42.df.prevgen.rmdup %>% filter(pos >= devoid.start.ma & pos <= devoid.end.ma, sv == \"simple_insertion\")) and 44 * devoid.length.ness.ma\n",
       "number of successes = 12, number of trials = 4830100, p-value = 0.6493\n",
       "alternative hypothesis: true probability of success is not equal to 2.253106e-06\n",
       "95 percent confidence interval:\n",
       " 1.283737e-06 4.339779e-06\n",
       "sample estimates:\n",
       "probability of success \n",
       "          2.484421e-06 \n",
       "\n"
      ]
     },
     "execution_count": 25,
     "metadata": {},
     "output_type": "execute_result"
    }
   ],
   "source": [
    "# 12 vs 10.8 so not significant as expected\n",
    "R\"\"\" \n",
    "binom.test(nrow(is_in_mds42.df.prevgen.rmdup %>% filter(pos >= devoid.start.ma & pos <= devoid.end.ma, sv == \"simple_insertion\")),\n",
    "\t44*devoid.length.ness.ma, MA.exp.ness.simple/44, alternative = \"two.sided\")\n",
    "\"\"\""
   ]
  },
  {
   "cell_type": "markdown",
   "metadata": {},
   "source": [
    "Considering the per base-pair rate of IS insertion in non-essential sequences,\n",
    "the frequency in the zone in the LTEE is significantly lower than the average (Binomial test, one-sided, P = 3.7e-3).\n",
    "In contrast, the corresponding zone in our study had a significantly higher (Binomial test, one-sided, P = 0.027) or insignificant (Binomial test, two-sided, P = 0.65) insertion frequency than the average.\n",
    "\n",
    "Therefore, the lack of non-essential genes in our study likely does not explain the difference in IS insertion frequency in the region.\n",
    "Besides, the locus is not that \"rich\" in essential genes.\n",
    "Well, its double the average, but still just ~20 %.\n",
    "The genome size changes is also not that large from 4.6 Mbp to 4.0 Mbp."
   ]
  },
  {
   "cell_type": "code",
   "execution_count": 26,
   "metadata": {},
   "outputs": [
    {
     "name": "stdout",
     "output_type": "stream",
     "text": [
      "[1] 0.0003083333\n",
      "[1] 2.037681e-09\n"
     ]
    },
    {
     "data": {
      "text/plain": [
       "RObject{RealSxp}\n",
       "[1] 2.037681e-09\n"
      ]
     },
     "execution_count": 26,
     "metadata": {},
     "output_type": "execute_result"
    }
   ],
   "source": [
    "R\"\"\"\n",
    "(sum(LTEE_INS_cnt$INS)/12 /50000) %>% print\n",
    "(sum(LTEE_INS_cnt$INS)/12 / 50000/ 4.6e6 * 152000 * 1e-3  * 0.20)  %>% print\n",
    "\"\"\""
   ]
  },
  {
   "cell_type": "markdown",
   "metadata": {},
   "source": [
    "## The rate and length of essential genes\n",
    "\n",
    "Since the criterion of essential genes is different between the two studies,\n",
    "the direct comparison does not make sense in reality.\n",
    "Yet, the rate of essential genes (MDS42: 8 %, REL606: 11 %) is ~10 %,\n",
    "and the difference in the size of the genome is not that large (4.6 Mbp to 4.0 Mbp)\n",
    "in terms of ratio.\n",
    "$N_e ~ 1e+7$ and $T ~ 5e+4$ in the LTEE, so fitness effects $s > 1e-4$ may be observed.\n",
    "Given the transposition rate the difference in the essential gene ratio should be negligible.\n",
    "What might make a differnece is the consecutive length of non-essential genes.\n",
    "\n",
    "-> Plot consecutive length of non-essential genes in REL 606 and MDS42."
   ]
  },
  {
   "cell_type": "code",
   "execution_count": 27,
   "metadata": {},
   "outputs": [
    {
     "name": "stdout",
     "output_type": "stream",
     "text": [
      "\u001b[1m5×13 DataFrame\u001b[0m\n",
      "\u001b[1m Row \u001b[0m│\u001b[1m gene   \u001b[0m\u001b[1m start    \u001b[0m\u001b[1m end      \u001b[0m\u001b[1m strand  \u001b[0m\u001b[1m length  \u001b[0m\u001b[1m bnumber \u001b[0m\u001b[1m ECK_id  \u001b[0m\u001b[1m Insertion Index Score \u001b[0m\u001b[1m Log Likelihood Ratio \u001b[0m\u001b[1m Essential \u001b[0m\u001b[1m Non-essential \u001b[0m\u001b[1m Unclear \u001b[0m\u001b[1m Essential_PEC \u001b[0m\n",
      "     │\u001b[90m String \u001b[0m\u001b[90m Float64  \u001b[0m\u001b[90m Float64  \u001b[0m\u001b[90m Float64 \u001b[0m\u001b[90m Float64 \u001b[0m\u001b[90m String  \u001b[0m\u001b[90m String  \u001b[0m\u001b[90m Float64?              \u001b[0m\u001b[90m Float64?             \u001b[0m\u001b[90m Bool?     \u001b[0m\u001b[90m Bool?         \u001b[0m\u001b[90m Bool?   \u001b[0m\u001b[90m Bool?         \u001b[0m\n",
      "─────┼───────────────────────────────────────────────────────────────────────────────────────────────────────────────────────────────────────────────────────────────\n",
      "   1 │ thrL    621429.0  621494.0      1.0     66.0  b0001    ECK0001               0.393939               31.4311      false           true    false          false\n",
      "   2 │ thrA    621576.0  624038.0      1.0   2463.0  b0002    ECK0002               0.219245               17.2008      false           true    false          false\n",
      "   3 │ thrB    624040.0  624972.0      1.0    933.0  b0003    ECK0003               0.265809               21.2345      false           true    false          false\n",
      "   4 │ thrC    624973.0  626259.0      1.0   1287.0  b0004    ECK0004               0.205905               15.9949      false           true    false          false\n",
      "   5 │ yaaX    626473.0  626769.0      1.0    297.0  b0005    ECK0005               0.225589               17.7655      false           true    false          false\u001b[1m5×4 DataFrame\u001b[0m\n",
      "\u001b[1m Row \u001b[0m│\u001b[1m Start \u001b[0m\u001b[1m End   \u001b[0m\u001b[1m length \u001b[0m\u001b[1m Essential \u001b[0m\n",
      "     │\u001b[90m Int64 \u001b[0m\u001b[90m Int64 \u001b[0m\u001b[90m Int64  \u001b[0m\u001b[90m Int64     \u001b[0m\n",
      "─────┼─────────────────────────────────\n",
      "   1 │     1  21213   21214          0\n",
      "   2 │ 21214  21289      77          1\n",
      "   3 │ 21290  40673   19385          0\n",
      "   4 │ 40674  41933    1261          1\n",
      "   5 │ 41934  56631   14699          0\u001b[1m5×7 DataFrame\u001b[0m\n",
      "\u001b[1m Row \u001b[0m│\u001b[1m Start \u001b[0m\u001b[1m End   \u001b[0m\u001b[1m length \u001b[0m\u001b[1m Essential \u001b[0m\u001b[1m id    \u001b[0m\u001b[1m rounded \u001b[0m\u001b[1m Essential_rounded \u001b[0m\n",
      "     │\u001b[90m Int64 \u001b[0m\u001b[90m Int64 \u001b[0m\u001b[90m Int64  \u001b[0m\u001b[90m Int64     \u001b[0m\u001b[90m Int64 \u001b[0m\u001b[90m Int64   \u001b[0m\u001b[90m Int64             \u001b[0m\n",
      "─────┼────────────────────────────────────────────────────────────────────\n",
      "   1 │     1  21213   21214          0      1        1                  0\n",
      "   2 │ 21214  21289      77          0      1        1                  0\n",
      "   3 │ 21290  40673   19385          0      1        1                  0\n",
      "   4 │ 40674  41933    1261          1      4        4                  1\n",
      "   5 │ 41934  56631   14699          0      5        5                  0(549, 7)\u001b[1m20×6 DataFrame\u001b[0m\n",
      "\u001b[1m Row \u001b[0m│\u001b[1m rounded \u001b[0m\u001b[1m Count \u001b[0m\u001b[1m Start  \u001b[0m\u001b[1m End    \u001b[0m\u001b[1m Essential \u001b[0m\u001b[1m length \u001b[0m\n",
      "     │\u001b[90m Int64   \u001b[0m\u001b[90m Int64 \u001b[0m\u001b[90m Int64  \u001b[0m\u001b[90m Int64  \u001b[0m\u001b[90m Int64     \u001b[0m\u001b[90m Int64  \u001b[0m\n",
      "─────┼───────────────────────────────────────────────────\n",
      "   1 │       1      3       1   40673          0   40673\n",
      "   2 │       4      1   40674   41933          1    1260\n",
      "   3 │       5      7   41934   63344          0   21411\n",
      "   4 │      12      1   63345   65023          1    1679\n",
      "   5 │      13      1   65024  108864          0   43841\n",
      "   6 │      14      1  108865  109410          1     546\n",
      "   7 │      15      1  109411  121222          0   11812\n",
      "   8 │      16      1  121223  124009          1    2787\n",
      "   9 │      17      1  124010  124389          0     380\n",
      "  10 │      18      1  124390  124986          1     597\n",
      "  11 │      19      1  124987  196636          0   71650\n",
      "  12 │      20      1  196637  197596          1     960\n",
      "  13 │      21      1  197597  198868          0    1272\n",
      "  14 │      22      1  198869  201067          1    2199\n",
      "  15 │      23      1  201068  239684          0   38617\n",
      "  16 │      24      1  239685  240542          1     858\n",
      "  17 │      25      1  240543  246313          0    5771\n",
      "  18 │      26      3  246314  249283          1    2970\n",
      "  19 │      29      5  249284  251614          0    2331\n",
      "  20 │      34      3  251615  252545          1     931"
     ]
    }
   ],
   "source": [
    "@rget mds42_genes\n",
    "print(first(mds42_genes, 5))\n",
    "\n",
    "@rget mds42_genome_size\n",
    "mds42_ess_array = zeros(Int, Int(mds42_genome_size))\n",
    "@rget mds42_ess_genes\n",
    "for row in eachrow(mds42_ess_genes)\n",
    "\tif row.start > row.end\n",
    "\t\tprintln(row)\n",
    "\tend\n",
    "\tmds42_ess_array[Int(row.start):Int(row.end)] .= 1\n",
    "end\n",
    "# array to range: dataframe with start, end, count in range\n",
    "\n",
    "mds42_ess_ranges = DataFrames.DataFrame(Start = Int[], End = Int[], length = Int[], Essential = Int[])\n",
    "start = 1\n",
    "cnt = 0\n",
    "for (i, v) in enumerate(mds42_ess_array)\n",
    "\tif cnt == 0\n",
    "\t\tif v > 0\n",
    "\t\t\tpush!(mds42_ess_ranges, (start, i-1, i-start+1, 0))\n",
    "\t\t\tstart = i\n",
    "\t\t\tcnt = 1\n",
    "\t\tend\n",
    "\telse\n",
    "\t\tif v == 0\n",
    "\t\t\tpush!(mds42_ess_ranges, (start, i-1, i-start+1, 1))\n",
    "\t\t\tstart = i\n",
    "\t\t\tcnt = 0\n",
    "\t\tend\n",
    "\tend\n",
    "end\n",
    "push!(mds42_ess_ranges, (start, mds42_genome_size, mds42_genome_size-start+1, cnt))\n",
    "first(mds42_ess_ranges, 5) |> print\n",
    "\n",
    "## round ranges smaller than 300 bp\n",
    "start = 1\n",
    "max_length = mds42_ess_ranges.length[1]\n",
    "threshold = 300\n",
    "mds42_ess_ranges_rounded_ = mds42_ess_ranges\n",
    "mds42_ess_ranges_rounded_.id = 1:length(mds42_ess_ranges_rounded_.Start)\n",
    "mds42_ess_ranges_rounded_.rounded = mds42_ess_ranges_rounded_.id\n",
    "mds42_ess_ranges_rounded_.Essential_rounded = mds42_ess_ranges_rounded_.Essential\n",
    "\n",
    "start_range = 1\n",
    "cnt = 0\n",
    "for (i, v) in enumerate(mds42_ess_ranges.length)\n",
    "\tif v > threshold && cnt != mds42_ess_ranges.Essential[i]\n",
    "\t\tcnt = mds42_ess_ranges.Essential[i]\n",
    "\t\tstart_range = i\n",
    "\tend\n",
    "\tmds42_ess_ranges_rounded_.rounded[i] = start_range\n",
    "\tmds42_ess_ranges_rounded_.Essential_rounded[i] = cnt\n",
    "end\n",
    "first(mds42_ess_ranges_rounded_, 5) |> print\n",
    "print(size(mds42_ess_ranges_rounded_))\n",
    "\n",
    "## merge ranges group by rounded nrow, start end essential name as N, Start, End, Essential \n",
    "mds42_ess_ranges_rounded = combine(groupby(mds42_ess_ranges_rounded_, :rounded), nrow, :Start => minimum, :End => maximum, :Essential => first)\n",
    "# colnames \n",
    "mds42_ess_ranges_rounded = rename(mds42_ess_ranges_rounded, :nrow => :Count, :Start_minimum => :Start, :End_maximum => :End, :Essential_first => :Essential)\n",
    "mds42_ess_ranges_rounded.length .= mds42_ess_ranges_rounded.End .- mds42_ess_ranges_rounded.Start .+ 1\n",
    "print(first(mds42_ess_ranges_rounded, 20))"
   ]
  },
  {
   "cell_type": "code",
   "execution_count": 28,
   "metadata": {},
   "outputs": [
    {
     "name": "stdout",
     "output_type": "stream",
     "text": [
      "\u001b[1m5×4 DataFrame\u001b[0m\n",
      "\u001b[1m Row \u001b[0m│\u001b[1m Start \u001b[0m\u001b[1m End   \u001b[0m\u001b[1m length \u001b[0m\u001b[1m Essential \u001b[0m\n",
      "     │\u001b[90m Int64 \u001b[0m\u001b[90m Int64 \u001b[0m\u001b[90m Int64  \u001b[0m\u001b[90m Int64     \u001b[0m\n",
      "─────┼─────────────────────────────────\n",
      "   1 │     1   3732    3733          0\n",
      "   2 │  3733   5019    1288          1\n",
      "   3 │  5020  12160    7142          0\n",
      "   4 │ 12161  14077    1918          1\n",
      "   5 │ 14078  14165      89          0\u001b[1m5×7 DataFrame\u001b[0m\n",
      "\u001b[1m Row \u001b[0m│\u001b[1m Start \u001b[0m\u001b[1m End   \u001b[0m\u001b[1m length \u001b[0m\u001b[1m Essential \u001b[0m\u001b[1m id    \u001b[0m\u001b[1m rounded \u001b[0m\u001b[1m Essential_rounded \u001b[0m\n",
      "     │\u001b[90m Int64 \u001b[0m\u001b[90m Int64 \u001b[0m\u001b[90m Int64  \u001b[0m\u001b[90m Int64     \u001b[0m\u001b[90m Int64 \u001b[0m\u001b[90m Int64   \u001b[0m\u001b[90m Int64             \u001b[0m\n",
      "─────┼────────────────────────────────────────────────────────────────────\n",
      "   1 │     1   3732    3733          0      1        1                  0\n",
      "   2 │  3733   5019    1288          1      2        2                  1\n",
      "   3 │  5020  12160    7142          0      3        3                  0\n",
      "   4 │ 12161  14077    1918          1      4        4                  1\n",
      "   5 │ 14078  14165      89          1      4        4                  1(983, 7)\u001b[1m20×6 DataFrame\u001b[0m\n",
      "\u001b[1m Row \u001b[0m│\u001b[1m rounded \u001b[0m\u001b[1m Count \u001b[0m\u001b[1m Start  \u001b[0m\u001b[1m End    \u001b[0m\u001b[1m Essential \u001b[0m\u001b[1m length \u001b[0m\n",
      "     │\u001b[90m Int64   \u001b[0m\u001b[90m Int64 \u001b[0m\u001b[90m Int64  \u001b[0m\u001b[90m Int64  \u001b[0m\u001b[90m Int64     \u001b[0m\u001b[90m Int64  \u001b[0m\n",
      "─────┼───────────────────────────────────────────────────\n",
      "   1 │       1      1       1    3732          0    3732\n",
      "   2 │       2      1    3733    5019          1    1287\n",
      "   3 │       3      1    5020   12160          0    7141\n",
      "   4 │       4      3   12161   15296          1    3136\n",
      "   5 │       7      1   15297   17487          0    2191\n",
      "   6 │       8      1   17488   18654          1    1167\n",
      "   7 │       9      3   18655   25478          0    6824\n",
      "   8 │      12      7   25479   31299          1    5821\n",
      "   9 │      19      1   31300   32445          0    1146\n",
      "  10 │      20      1   32446   33267          1     822\n",
      "  11 │      21      1   33268   54017          0   20750\n",
      "  12 │      22      1   54018   54497          1     480\n",
      "  13 │      23      1   54498   57610          0    3113\n",
      "  14 │      24      3   57611   61304          1    3694\n",
      "  15 │      27      1   61305   92437          0   31133\n",
      "  16 │      28      9   92438  105044          1   12607\n",
      "  17 │      37      1  105045  105958          0     914\n",
      "  18 │      38      9  105959  113788          1    7830\n",
      "  19 │      47      1  113789  115402          0    1614\n",
      "  20 │      48      1  115403  116023          1     621"
     ]
    }
   ],
   "source": [
    "# same for REL606 \n",
    "@rget LTEE_genes\n",
    "@rget LTEE_genome_size\n",
    "@rget LTEE_ess_genes\n",
    "LTEE_genes = filter(row -> row.feat_type == \"gene\", LTEE_genes)\n",
    "\n",
    "LTEE_ess_array = zeros(Int, Int(LTEE_genome_size))\n",
    "for row in eachrow(LTEE_ess_genes)\n",
    "\tif row.start > row.end\n",
    "\t\tprintln(row)\n",
    "\tend\n",
    "\tLTEE_ess_array[Int(row.start):Int(row.end)] .= 1\n",
    "end\n",
    "LTEE_ess_ranges = DataFrames.DataFrame(Start = Int[], End = Int[], length = Int[], Essential = Int[])\n",
    "start = 1\n",
    "cnt = 0\n",
    "for (i, v) in enumerate(LTEE_ess_array)\n",
    "\tif cnt == 0\n",
    "\t\tif v > 0\n",
    "\t\t\tpush!(LTEE_ess_ranges, (start, i-1, i-start+1, 0))\n",
    "\t\t\tstart = i\n",
    "\t\t\tcnt = 1\n",
    "\t\tend\n",
    "\telse\n",
    "\t\tif v == 0\n",
    "\t\t\tpush!(LTEE_ess_ranges, (start, i-1, i-start+1, 1))\n",
    "\t\t\tstart = i\n",
    "\t\t\tcnt = 0\n",
    "\t\tend\n",
    "\tend\n",
    "end\n",
    "push!(LTEE_ess_ranges, (start, LTEE_genome_size, LTEE_genome_size-start+1, cnt))\n",
    "first(LTEE_ess_ranges, 5) |> print\n",
    "\n",
    "## round ranges smaller than 300 bp\n",
    "start = 1\n",
    "max_length = LTEE_ess_ranges.length[1]\n",
    "threshold = 300\n",
    "LTEE_ess_ranges_rounded_ = LTEE_ess_ranges\n",
    "LTEE_ess_ranges_rounded_.id = 1:length(LTEE_ess_ranges_rounded_.Start)\n",
    "LTEE_ess_ranges_rounded_.rounded = LTEE_ess_ranges_rounded_.id\n",
    "LTEE_ess_ranges_rounded_.Essential_rounded = LTEE_ess_ranges_rounded_.Essential\n",
    " \n",
    "start_range = 1\n",
    "cnt = 0\n",
    "for (i, v) in enumerate(LTEE_ess_ranges.length)\n",
    "\tif v > threshold && cnt != LTEE_ess_ranges.Essential[i]\n",
    "\t\tcnt = LTEE_ess_ranges.Essential[i]\n",
    "\t\tstart_range = i\n",
    "\tend\n",
    "\tLTEE_ess_ranges_rounded_.rounded[i] = start_range\n",
    "\tLTEE_ess_ranges_rounded_.Essential_rounded[i] = cnt\n",
    "end\n",
    "first(LTEE_ess_ranges_rounded_, 5) |> print\n",
    "print(size(LTEE_ess_ranges_rounded_))\n",
    "\n",
    "## merge ranges group by rounded nrow, start end essential name as N, Start, End, Essential\n",
    "LTEE_ess_ranges_rounded = combine(groupby(LTEE_ess_ranges_rounded_, :rounded), nrow, :Start => minimum, :End => maximum, :Essential => first)\n",
    "# colnames\n",
    "LTEE_ess_ranges_rounded = rename(LTEE_ess_ranges_rounded, :nrow => :Count, :Start_minimum => :Start, :End_maximum => :End, :Essential_first => :Essential)\n",
    "LTEE_ess_ranges_rounded.length .= LTEE_ess_ranges_rounded.End .- LTEE_ess_ranges_rounded.Start .+ 1\n",
    "print(first(LTEE_ess_ranges_rounded, 20))"
   ]
  },
  {
   "cell_type": "code",
   "execution_count": 29,
   "metadata": {},
   "outputs": [
    {
     "name": "stdout",
     "output_type": "stream",
     "text": [
      "\u001b[1m20×6 DataFrame\u001b[0m\n",
      "\u001b[1m Row \u001b[0m│\u001b[1m rounded \u001b[0m\u001b[1m Count \u001b[0m\u001b[1m Start   \u001b[0m\u001b[1m End     \u001b[0m\u001b[1m Essential \u001b[0m\u001b[1m length \u001b[0m\n",
      "     │\u001b[90m Int64   \u001b[0m\u001b[90m Int64 \u001b[0m\u001b[90m Int64   \u001b[0m\u001b[90m Int64   \u001b[0m\u001b[90m Int64     \u001b[0m\u001b[90m Int64  \u001b[0m\n",
      "─────┼─────────────────────────────────────────────────────\n",
      "   1 │     269      1  1780738  2022999          0  242262\n",
      "   2 │     209      3  1205036  1421425          0  216390\n",
      "   3 │     299      1  2281669  2393915          0  112247\n",
      "   4 │     515      1  3677730  3785260          0  107531\n",
      "   5 │     157      1   828876   927642          0   98767\n",
      "   6 │      55      3   348919   445170          0   96252\n",
      "   7 │     231      3  1504673  1596270          0   91598\n",
      "   8 │     311      1  2544351  2627509          0   83159\n",
      "   9 │     189      3  1079436  1159955          0   80520\n",
      "  10 │      19      1   124987   196636          0   71650\n",
      "  11 │     375      1  3102042  3167310          0   65269\n",
      "  12 │      45      1   263831   327272          0   63442\n",
      "  13 │     263      1  1699917  1760745          0   60829\n",
      "  14 │     317      1  2637442  2697139          0   59698\n",
      "  15 │     289      1  2196883  2254364          0   57482\n",
      "  16 │      81      1   581105   637470          0   56366\n",
      "  17 │     373      1  3045671  3101165          0   55495\n",
      "  18 │     403      1  3313691  3369017          0   55327\n",
      "  19 │     323      1  2709120  2762702          0   53583\n",
      "  20 │     533      1  3879191  3932386          0   53196\n",
      "(115, 6)3617204"
     ]
    }
   ],
   "source": [
    "# top large nonessential regions\n",
    "threshold = 2698 \n",
    "mds42_ess_ranges_rounded_noness_large = filter(row -> row.length > threshold && row.Essential == 0, mds42_ess_ranges_rounded)\n",
    "sort(mds42_ess_ranges_rounded_noness_large, :length, rev=true) |> x -> first(x, 20) |> print\n",
    "println()\n",
    "print(size(mds42_ess_ranges_rounded_noness_large))\n",
    "print(sum(mds42_ess_ranges_rounded_noness_large.length))"
   ]
  },
  {
   "cell_type": "code",
   "execution_count": 30,
   "metadata": {},
   "outputs": [
    {
     "name": "stdout",
     "output_type": "stream",
     "text": [
      "\u001b[1m20×6 DataFrame\u001b[0m\n",
      "\u001b[1m Row \u001b[0m│\u001b[1m rounded \u001b[0m\u001b[1m Count \u001b[0m\u001b[1m Start   \u001b[0m\u001b[1m End     \u001b[0m\u001b[1m Essential \u001b[0m\u001b[1m length \u001b[0m\n",
      "     │\u001b[90m Int64   \u001b[0m\u001b[90m Int64 \u001b[0m\u001b[90m Int64   \u001b[0m\u001b[90m Int64   \u001b[0m\u001b[90m Int64     \u001b[0m\u001b[90m Int64  \u001b[0m\n",
      "─────┼─────────────────────────────────────────────────────\n",
      "   1 │     239      1   760471   882541          0  122071\n",
      "   2 │     973      1  4471628  4589471          0  117844\n",
      "   3 │     619      1  2979668  3096915          0  117248\n",
      "   4 │     119      1   248693   357660          0  108968\n",
      "   5 │     377      9  1507170  1606612          0   99443\n",
      "   6 │     787      7  3556203  3652785          0   96583\n",
      "   7 │     939      3  4253595  4349745          0   96151\n",
      "   8 │     455      7  2194891  2283492          0   88602\n",
      "   9 │     279      1  1047760  1130230          0   82471\n",
      "  10 │     371      3  1418525  1500276          0   81752\n",
      "  11 │     643      3  3166962  3248010          0   81049\n",
      "  12 │     825      1  3762866  3838065          0   75200\n",
      "  13 │     175      1   573489   641833          0   68345\n",
      "  14 │     363      7  1355480  1418224          0   62745\n",
      "  15 │     241      5   883106   944531          0   61426\n",
      "  16 │     893      1  4029027  4090221          0   61195\n",
      "  17 │     775      1  3447747  3505228          0   57482\n",
      "  18 │     595      1  2863598  2919409          0   55812\n",
      "  19 │     443      3  1970811  2024536          0   53726\n",
      "  20 │     425      3  1869846  1923115          0   53270\n",
      "(171, 6)4030641"
     ]
    }
   ],
   "source": [
    "ltee_ess_ranges_rounded_noness_large = filter(row -> row.length > threshold && row.Essential == 0, LTEE_ess_ranges_rounded)\n",
    "sort(ltee_ess_ranges_rounded_noness_large, :length, rev=true) |> x -> first(x, 20) |> print\n",
    "println()\n",
    "print(size(ltee_ess_ranges_rounded_noness_large))\n",
    "print(sum(ltee_ess_ranges_rounded_noness_large.length))"
   ]
  },
  {
   "cell_type": "code",
   "execution_count": 31,
   "metadata": {},
   "outputs": [
    {
     "name": "stdout",
     "output_type": "stream",
     "text": [
      "\u001b[1m19×6 DataFrame\u001b[0m\n",
      "\u001b[1m Row \u001b[0m│\u001b[1m rounded \u001b[0m\u001b[1m Count \u001b[0m\u001b[1m Start   \u001b[0m\u001b[1m End     \u001b[0m\u001b[1m Essential \u001b[0m\u001b[1m length \u001b[0m\n",
      "     │\u001b[90m Int64   \u001b[0m\u001b[90m Int64 \u001b[0m\u001b[90m Int64   \u001b[0m\u001b[90m Int64   \u001b[0m\u001b[90m Int64     \u001b[0m\u001b[90m Int64  \u001b[0m\n",
      "─────┼─────────────────────────────────────────────────────\n",
      "   1 │     694      3  3326278  3328978          1    2701\n",
      "   2 │     697      1  3328979  3333326          0    4348\n",
      "   3 │     698      3  3333327  3335157          1    1831\n",
      "   4 │     701      1  3335158  3358747          0   23590\n",
      "   5 │     702      1  3358748  3359320          1     573\n",
      "   6 │     703      1  3359321  3361594          0    2274\n",
      "   7 │     704      3  3361595  3363066          1    1472\n",
      "   8 │     707      1  3363067  3367520          0    4454\n",
      "   9 │     708     49  3367521  3381175          1   13655\n",
      "  10 │     757      1  3381176  3399304          0   18129\n",
      "  11 │     758      9  3399305  3404345          1    5041\n",
      "  12 │     767      1  3404346  3414024          0    9679\n",
      "  13 │     768      1  3414025  3414657          1     633\n",
      "  14 │     769      1  3414658  3441315          0   26658\n",
      "  15 │     770      1  3441316  3442320          1    1005\n",
      "  16 │     771      1  3442321  3443063          0     743\n",
      "  17 │     772      1  3443064  3443741          1     678\n",
      "  18 │     773      1  3443742  3447224          0    3483\n",
      "  19 │     774      1  3447225  3447746          1     522\u001b[1m7×6 DataFrame\u001b[0m\n",
      "\u001b[1m Row \u001b[0m│\u001b[1m rounded \u001b[0m\u001b[1m Count \u001b[0m\u001b[1m Start   \u001b[0m\u001b[1m End     \u001b[0m\u001b[1m Essential \u001b[0m\u001b[1m length \u001b[0m\n",
      "     │\u001b[90m Int64   \u001b[0m\u001b[90m Int64 \u001b[0m\u001b[90m Int64   \u001b[0m\u001b[90m Int64   \u001b[0m\u001b[90m Int64     \u001b[0m\u001b[90m Int64  \u001b[0m\n",
      "─────┼─────────────────────────────────────────────────────\n",
      "   1 │     697      1  3328979  3333326          0    4348\n",
      "   2 │     701      1  3335158  3358747          0   23590\n",
      "   3 │     707      1  3363067  3367520          0    4454\n",
      "   4 │     757      1  3381176  3399304          0   18129\n",
      "   5 │     767      1  3404346  3414024          0    9679\n",
      "   6 │     769      1  3414658  3441315          0   26658\n",
      "   7 │     773      1  3443742  3447224          0    3483\n",
      "REL606: In the 152000 bp devoid region, there are 93358 bp of internal non-essential sequence(61.419736842105266%)\n",
      "90341 bp of non-essential sequence is large"
     ]
    }
   ],
   "source": [
    "#IS-devoid regions\n",
    "devoid_start = 3315000 ## yhcP\n",
    "devoid_end = 3467000 ## yhgF\n",
    "\n",
    "df1_ = filter(row -> (devoid_start <= row.Start <= devoid_end) .& (devoid_start <= row.End <= devoid_end), LTEE_ess_ranges_rounded)\n",
    "df2_ = filter(row -> (devoid_start <= row.Start <= devoid_end) .& (devoid_start <= row.End <= devoid_end), ltee_ess_ranges_rounded_noness_large)\n",
    "print(df1_)\n",
    "print(df2_)\n",
    "println()\n",
    "println(\"REL606: In the \", devoid_end - devoid_start, \" bp devoid region, there are \", sum(df1_[df1_.Essential .== 0, :length]),\n",
    "\t\" bp of internal non-essential sequence\",\n",
    "\t\"(\", sum(df1_[df1_.Essential .== 0, :length]) / (devoid_end - devoid_start) * 100, \"%)\")\n",
    "print(sum(df2_.length), \" bp of non-essential sequence is large\")"
   ]
  },
  {
   "cell_type": "code",
   "execution_count": 32,
   "metadata": {},
   "outputs": [
    {
     "name": "stdout",
     "output_type": "stream",
     "text": [
      "\u001b[1m15×6 DataFrame\u001b[0m\n",
      "\u001b[1m Row \u001b[0m│\u001b[1m rounded \u001b[0m\u001b[1m Count \u001b[0m\u001b[1m Start   \u001b[0m\u001b[1m End     \u001b[0m\u001b[1m Essential \u001b[0m\u001b[1m length \u001b[0m\n",
      "     │\u001b[90m Int64   \u001b[0m\u001b[90m Int64 \u001b[0m\u001b[90m Int64   \u001b[0m\u001b[90m Int64   \u001b[0m\u001b[90m Int64     \u001b[0m\u001b[90m Int64  \u001b[0m\n",
      "─────┼─────────────────────────────────────────────────────\n",
      "   1 │     436      3  3491708  3494408          1    2701\n",
      "   2 │     439      1  3494409  3498756          0    4348\n",
      "   3 │     440      3  3498757  3500587          1    1831\n",
      "   4 │     443      1  3500588  3524163          0   23576\n",
      "   5 │     444      1  3524164  3524736          1     573\n",
      "   6 │     445      1  3524737  3527010          0    2274\n",
      "   7 │     446      3  3527011  3528482          1    1472\n",
      "   8 │     449      1  3528483  3532936          0    4454\n",
      "   9 │     450     47  3532937  3546591          1   13655\n",
      "  10 │     497      1  3546592  3548794          0    2203\n",
      "  11 │     498      5  3548795  3551947          1    3153\n",
      "  12 │     503      1  3551948  3590028          0   38081\n",
      "  13 │     504      1  3590029  3591033          1    1005\n",
      "  14 │     505      1  3591034  3603863          0   12830\n",
      "  15 │     506      1  3603864  3605999          1    2136\u001b[1m5×6 DataFrame\u001b[0m\n",
      "\u001b[1m Row \u001b[0m│\u001b[1m rounded \u001b[0m\u001b[1m Count \u001b[0m\u001b[1m Start   \u001b[0m\u001b[1m End     \u001b[0m\u001b[1m Essential \u001b[0m\u001b[1m length \u001b[0m\n",
      "     │\u001b[90m Int64   \u001b[0m\u001b[90m Int64 \u001b[0m\u001b[90m Int64   \u001b[0m\u001b[90m Int64   \u001b[0m\u001b[90m Int64     \u001b[0m\u001b[90m Int64  \u001b[0m\n",
      "─────┼─────────────────────────────────────────────────────\n",
      "   1 │     503      1  3551948  3590028          0   38081\n",
      "   2 │     443      1  3500588  3524163          0   23576\n",
      "   3 │     505      1  3591034  3603863          0   12830\n",
      "   4 │     449      1  3528483  3532936          0    4454\n",
      "   5 │     439      1  3494409  3498756          0    4348\n",
      "MDS42: In the 135287 bp devoid region, there are 87766 bp of internal non-essential sequence(64.87393467221536%)\n",
      "83289 bp of non-essential sequence is large\n",
      "MDS42: In the 135287 bp devoid region, there are 108762 bp of  non-essential sequence(80.39353374677538%)\n",
      "83289 bp of non-essential sequence is large(61.56467361978608%)"
     ]
    }
   ],
   "source": [
    "# same with mds42\n",
    "devoid_start = 3480424 ## aaeB = yhcP\n",
    "devoid_end = 3615711 ## yhgF\n",
    "\n",
    "df1_ = filter(row -> (devoid_start <= row.Start <= devoid_end) .& (devoid_start <= row.End <= devoid_end), mds42_ess_ranges_rounded)\n",
    "df2_ = filter(row -> (devoid_start <= row.Start <= devoid_end) .& (devoid_start <= row.End <= devoid_end), mds42_ess_ranges_rounded_noness_large)\n",
    "print(df1_)\n",
    "#print(df2_)\n",
    "# sort by length and show the first 5\n",
    "print(sort(df2_, :length, rev=true) |> x -> first(x, 5))\n",
    "\n",
    "println()\n",
    "println(\"MDS42: In the \", devoid_end - devoid_start, \" bp devoid region, there are \", sum(df1_[df1_.Essential .== 0, :length]),\n",
    "\t\" bp of internal non-essential sequence\",\n",
    "\t\"(\", sum(df1_[df1_.Essential .== 0, :length]) / (devoid_end - devoid_start) * 100, \"%)\")\n",
    "print(sum(df2_.length), \" bp of non-essential sequence is large\")\n",
    "\n",
    "mds42_ess_ranges_rounded_ = filter(row -> (devoid_start <= row.Start <= devoid_end) .| (devoid_start <= row.End <= devoid_end), mds42_ess_ranges_rounded)\n",
    "mds42_ess_ranges_rounded_[mds42_ess_ranges_rounded_.Start .<= devoid_start, :Start] .= devoid_start\n",
    "mds42_ess_ranges_rounded_[mds42_ess_ranges_rounded_.End .>= devoid_end, :End] .= devoid_end\n",
    "mds42_ess_ranges_rounded_.length = mds42_ess_ranges_rounded_.End .- mds42_ess_ranges_rounded_.Start .+ 1\n",
    "\n",
    "mds42_ess_ranges_rounded_noness_large_ = filter(row -> (devoid_start <= row.Start <= devoid_end) .& (devoid_start <= row.End <= devoid_end), mds42_ess_ranges_rounded_noness_large)\n",
    "mds42_ess_ranges_rounded_noness_large_[mds42_ess_ranges_rounded_noness_large_.Start .<= devoid_start, :Start] .= devoid_start\n",
    "mds42_ess_ranges_rounded_noness_large_[mds42_ess_ranges_rounded_noness_large_.End .>= devoid_end, :End] .= devoid_end\n",
    "mds42_ess_ranges_rounded_noness_large_.length = mds42_ess_ranges_rounded_noness_large_.End .- mds42_ess_ranges_rounded_noness_large_.Start .+ 1\n",
    "println()\n",
    "println(\"MDS42: In the \", devoid_end - devoid_start, \" bp devoid region, there are \", sum(mds42_ess_ranges_rounded_[mds42_ess_ranges_rounded_.Essential .== 0, :length]),\n",
    "\t\" bp of  non-essential sequence\",\n",
    "\t\"(\", sum(mds42_ess_ranges_rounded_[mds42_ess_ranges_rounded_.Essential .== 0, :length]) / (devoid_end - devoid_start) * 100, \"%)\")\n",
    "print(sum(mds42_ess_ranges_rounded_noness_large_.length), \" bp of non-essential sequence is large\",\n",
    "\t\"(\", sum(mds42_ess_ranges_rounded_noness_large_.length) / (devoid_end - devoid_start) * 100, \"%)\")"
   ]
  },
  {
   "cell_type": "markdown",
   "metadata": {},
   "source": [
    "## Same analysis using PEC (used in paper)\n",
    "Since the essential genes of Couche and Limdi used above are overestimated, here I will use the essential genes of PEC.\n",
    "\n",
    "- Using data curated by Limdi assign essentiality based on bnumbers\n",
    "- Using data curated by Barrick assign essentiality based on gene names\n",
    "- Some bnumbers of Limdi seem to assign orthologs with same gene names, remove duplicate genes manually based on sequence order and position."
   ]
  },
  {
   "cell_type": "code",
   "execution_count": 33,
   "metadata": {},
   "outputs": [
    {
     "name": "stdout",
     "output_type": "stream",
     "text": [
      "# A tibble: 6 × 8\n",
      "  gene  prokka         bnumber start   end strand uniprot protein               \n",
      "  <chr> <chr>          <chr>   <dbl> <dbl>  <dbl> <chr>   <chr>                 \n",
      "1 thrA  FJKNNBLA_00001 b0002     336  2798      1 P00561  fused aspartate kinas…\n",
      "2 thrB  FJKNNBLA_00002 b0003    2800  3732      1 P00547  homoserine kinase     \n",
      "3 thrC  FJKNNBLA_00003 b0004    3733  5019      1 P00934  threonine synthase    \n",
      "4 yaaX  FJKNNBLA_00004 b0005    5232  5528      1 P75616  DUF2502 domain-contai…\n",
      "5 yaaA  FJKNNBLA_00005 b0006    6457  5681     -1 P0A8I3  peroxide stress resis…\n",
      "6 yaaJ  FJKNNBLA_00006 b0007    7957  6527     -1 P30143  putative transporter …\n"
     ]
    },
    {
     "name": "stderr",
     "output_type": "stream",
     "text": [
      "\u001b[33m\u001b[1m┌ \u001b[22m\u001b[39m\u001b[33m\u001b[1mWarning: \u001b[22m\u001b[39mRCall.jl: Rows: 4017 Columns: 8\n",
      "\u001b[33m\u001b[1m│ \u001b[22m\u001b[39m── Column specification ────────────────────────────────────────────────────────\n",
      "\u001b[33m\u001b[1m│ \u001b[22m\u001b[39mDelimiter: \"\\t\"\n",
      "\u001b[33m\u001b[1m│ \u001b[22m\u001b[39mchr (5): Gene Name, Locus Tag (prokka_output), Locus Tag (K12 reference), Un...\n",
      "\u001b[33m\u001b[1m│ \u001b[22m\u001b[39mdbl (3): Start of Gene, End of Gene, Strand\n",
      "\u001b[33m\u001b[1m│ \u001b[22m\u001b[39m\n",
      "\u001b[33m\u001b[1m│ \u001b[22m\u001b[39mℹ Use `spec()` to retrieve the full column specification for this data.\n",
      "\u001b[33m\u001b[1m│ \u001b[22m\u001b[39mℹ Specify the column types or set `show_col_types = FALSE` to quiet this message.\n",
      "\u001b[33m\u001b[1m└ \u001b[22m\u001b[39m\u001b[90m@ RCall ~/.julia/packages/RCall/gOwEW/src/io.jl:172\u001b[39m\n"
     ]
    }
   ],
   "source": [
    "R\"\"\"\n",
    "limdi_ltee_ann <- read_tsv(\"../misc/LimdiLTEE2024/Metadata/all_metadata_REL606.txt\")\n",
    "colnames(limdi_ltee_ann) <- c(\"gene\", \"prokka\", \"bnumber\", \"start\", \"end\", \"strand\", \"uniprot\", \"protein\")\n",
    "head(limdi_ltee_ann) %>% print\n",
    "\"\"\";"
   ]
  },
  {
   "cell_type": "code",
   "execution_count": 34,
   "metadata": {},
   "outputs": [
    {
     "name": "stderr",
     "output_type": "stream",
     "text": [
      "\u001b[33m\u001b[1m┌ \u001b[22m\u001b[39m\u001b[33m\u001b[1mWarning: \u001b[22m\u001b[39mRCall.jl: Rows: 4497 Columns: 13\n",
      "\u001b[33m\u001b[1m│ \u001b[22m\u001b[39m── Column specification ────────────────────────────────────────────────────────\n",
      "\u001b[33m\u001b[1m│ \u001b[22m\u001b[39mDelimiter: \"\\t\"\n",
      "\u001b[33m\u001b[1m│ \u001b[22m\u001b[39mchr (4): Orf, Alternative name, Product, PMID\n",
      "\u001b[33m\u001b[1m│ \u001b[22m\u001b[39mdbl (9): Orf ID, Feature Type(1:gene 2:rRNA 3:tRNA 4:ncRNA 7:tmRNA 8:sRNA), ...\n",
      "\u001b[33m\u001b[1m│ \u001b[22m\u001b[39m\n",
      "\u001b[33m\u001b[1m│ \u001b[22m\u001b[39mℹ Use `spec()` to retrieve the full column specification for this data.\n",
      "\u001b[33m\u001b[1m│ \u001b[22m\u001b[39mℹ Specify the column types or set `show_col_types = FALSE` to quiet this message.\n",
      "\u001b[33m\u001b[1m└ \u001b[22m\u001b[39m\u001b[90m@ RCall ~/.julia/packages/RCall/gOwEW/src/io.jl:172\u001b[39m\n"
     ]
    },
    {
     "name": "stdout",
     "output_type": "stream",
     "text": [
      "# A tibble: 6 × 16\n",
      "  `Orf ID` Feature Type(1:gene 2:rRNA 3:t…¹ Orf   `Alternative name` MapPosition\n",
      "     <dbl>                            <dbl> <chr> <chr>                    <dbl>\n",
      "1        1                                1 thrL  b0001,ECK0001,JW4…     0.00410\n",
      "2        2                                1 thrA  b0002,ECK0002,Hs,…     0.00726\n",
      "3        3                                1 thrB  b0003,ECK0003,JW0…     0.0604 \n",
      "4        4                                1 thrC  b0004,ECK0004,JW0…     0.0805 \n",
      "5        5                                1 yaaX  b0005,ECK0005,JW0…     0.113  \n",
      "6        6                                1 yaaA  b0006,ECK0006,JW0…     0.122  \n",
      "# ℹ abbreviated name:\n",
      "#   ¹​`Feature Type(1:gene 2:rRNA 3:tRNA 4:ncRNA 7:tmRNA 8:sRNA)`\n",
      "# ℹ 11 more variables: `Start(BP)` <dbl>, `End(BP)` <dbl>, `Length(BP)` <dbl>,\n",
      "#   `Direction(0:+ 1:-)` <dbl>,\n",
      "#   `Class(1:essential 2:noessential 3:unknown)` <dbl>, PID <dbl>,\n",
      "#   Product <chr>, PMID <chr>, bnumber <chr>, ECK_id <chr>, Essential_PEC <lgl>\n",
      "# A tibble: 6 × 8\n",
      "  gene  bnumber start   end strand uniprot ECK_id Essential_PEC\n",
      "  <chr> <chr>   <dbl> <dbl>  <dbl> <chr>   <chr>  <lgl>        \n",
      "1 thrA  b0002     336  2798      1 P00561  <NA>   NA           \n",
      "2 thrB  b0003    2800  3732      1 P00547  <NA>   NA           \n",
      "3 thrC  b0004    3733  5019      1 P00934  <NA>   NA           \n",
      "4 yaaX  b0005    5232  5528      1 P75616  <NA>   NA           \n",
      "5 yaaA  b0006    6457  5681     -1 P0A8I3  <NA>   NA           \n",
      "6 yaaJ  b0007    7957  6527     -1 P30143  <NA>   NA           \n",
      "[1] \"Out of  302 essential genes in PEC, 285 were detected\"\n",
      "[1] \"There are some genes missing\"\n",
      "# A tibble: 17 × 9\n",
      "   gene  bnumber start   end strand ECK_id  Essential_PEC Orf   `Start(BP)`\n",
      "   <chr> <chr>   <dbl> <dbl>  <dbl> <chr>   <lgl>         <chr>       <dbl>\n",
      " 1 <NA>  b0455      NA    NA     NA ECK0449 TRUE          ffs        475672\n",
      " 2 <NA>  b0536      NA    NA     NA ECK0529 TRUE          argU       563946\n",
      " 3 <NA>  b0672      NA    NA     NA ECK0660 TRUE          leuW       696186\n",
      " 4 <NA>  b0971      NA    NA     NA ECK0962 TRUE          serT      1030848\n",
      " 5 <NA>  b1085      NA    NA     NA ECK1070 TRUE          yceQ      1143725\n",
      " 6 <NA>  b1909      NA    NA     NA ECK1908 TRUE          leuZ      1989839\n",
      " 7 <NA>  b1910      NA    NA     NA ECK1909 TRUE          cysT      1989938\n",
      " 8 <NA>  b2695      NA    NA     NA ECK2690 TRUE          serV      2816575\n",
      " 9 <NA>  b3123      NA    NA     NA ECK3111 TRUE          rnpB      3268238\n",
      "10 <NA>  b3174      NA    NA     NA ECK3163 TRUE          leuU      3320094\n",
      "11 <NA>  b3761      NA    NA     NA ECK3755 TRUE          trpT      3944980\n",
      "12 <NA>  b3796      NA    NA     NA ECK3789 TRUE          argX      3980398\n",
      "13 <NA>  b3797      NA    NA     NA ECK3790 TRUE          hisR      3980532\n",
      "14 <NA>  b3799      NA    NA     NA ECK3792 TRUE          proM      3980758\n",
      "15 <NA>  b2651      NA    NA     NA ECK3855 TRUE          polA      4044989\n",
      "16 <NA>  b3976      NA    NA     NA ECK3967 TRUE          thrU      4173411\n",
      "17 <NA>  b3978      NA    NA     NA ECK3969 TRUE          glyT      4173696\n",
      "[1] \"Out of  17 missing genes, 14 were found in Couce and 3 are still missing\"\n",
      "# A tibble: 3 × 3\n",
      "  Orf   `Start(BP)` `Length(BP)`\n",
      "  <chr>       <dbl>        <dbl>\n",
      "1 ffs        475672          114\n",
      "2 yceQ      1143725          321\n",
      "3 rnpB      3268238          377\n",
      "# A tibble: 3 × 3\n",
      "  Orf   `Start(BP)` `Length(BP)`\n",
      "  <chr>       <dbl>        <dbl>\n",
      "1 ffs        475672          114\n",
      "2 yceQ      1143725          321\n",
      "3 rnpB      3268238          377\n"
     ]
    },
    {
     "name": "stderr",
     "output_type": "stream",
     "text": [
      "\u001b[33m\u001b[1m┌ \u001b[22m\u001b[39m\u001b[33m\u001b[1mWarning: \u001b[22m\u001b[39mRCall.jl: Joining with `by = join_by(bnumber)`\n",
      "\u001b[33m\u001b[1m└ \u001b[22m\u001b[39m\u001b[90m@ RCall ~/.julia/packages/RCall/gOwEW/src/io.jl:172\u001b[39m\n",
      "\u001b[33m\u001b[1m┌ \u001b[22m\u001b[39m\u001b[33m\u001b[1mWarning: \u001b[22m\u001b[39mRCall.jl: Joining with `by = join_by(bnumber)`\n",
      "\u001b[33m\u001b[1m└ \u001b[22m\u001b[39m\u001b[90m@ RCall ~/.julia/packages/RCall/gOwEW/src/io.jl:172\u001b[39m\n"
     ]
    }
   ],
   "source": [
    "# From 20230923_create_gene_list_from_genbank.ipynb\n",
    "#pec_kato = pd.read_csv(\"../dat/shigen.nig.ac.jp_ecoli_pec_download_files_PECData.dat.txt\", sep=\"\\t\")\n",
    "#pec_kato['b_numbers'] = pec_kato['Alternative name'].str.extract(r'(b\\d+)')\n",
    "#pec_kato['ECK_id'] = pec_kato['Alternative name'].str.extract(r'(ECK\\d+)')\n",
    "#pec_kato['Essential_PEC'] = pec_kato['Class(1:essential 2:noessential 3:unknown)'].apply(lambda x: True if x==1 else False)\n",
    "\n",
    "R\"\"\"\n",
    "pec_kato <- read_tsv(\"../misc/shigen.nig.ac.jp_ecoli_pec_download_files_PECData.dat.txt\")\n",
    "pec_kato <- pec_kato %>%\n",
    "  mutate(bnumber = str_extract(`Alternative name`, \"b\\\\d+\"),\n",
    "         ECK_id = str_extract(`Alternative name`, \"ECK\\\\d+\")) %>%\n",
    "\t\t mutate(Essential_PEC = if_else(`Class(1:essential 2:noessential 3:unknown)` == 1, TRUE, FALSE))\n",
    "pec_kato %>% head %>% print\n",
    "\n",
    "limdi_ltee_PEC <- limdi_ltee_ann %>% select(-prokka, -protein) %>%\n",
    "\tleft_join(pec_kato %>% select(bnumber, ECK_id, Essential_PEC) %>%\n",
    "\t\tfilter(Essential_PEC))\n",
    "limdi_ltee_PEC %>% head %>% print\n",
    "\n",
    "print(paste(\"Out of \", length(pec_kato %>% filter(Essential_PEC) %>% pull(bnumber) %>% unique),\n",
    "\t\"essential genes in PEC,\", length(limdi_ltee_PEC %>% filter(Essential_PEC) %>% pull(bnumber) %>% unique),\n",
    "\t\"were detected\"))\n",
    "\n",
    "limdi_ltee_PEC_ <- limdi_ltee_ann %>% select(-prokka, -protein) %>%\n",
    "\tright_join(pec_kato %>% select(bnumber, ECK_id, Essential_PEC, Orf, `Start(BP)`) %>%\n",
    "\t\tfilter(Essential_PEC))\n",
    "print(\"There are some genes missing\")\n",
    "limdi_ltee_PEC_ %>% filter(is.na(gene)) %>% select(-uniprot, end) %>% print\n",
    "\n",
    "# add genes based on names too\n",
    "missing_genes <- limdi_ltee_PEC_ %>% filter(is.na(gene)) %>% select(Orf)\n",
    "found_in_couce <- LTEE_genes_couce %>% filter(feat_type == \"gene\") %>% filter(gene %in% missing_genes$Orf) %>% \n",
    "\tpull(gene) %>% unique\n",
    "still_missing <- setdiff(missing_genes$Orf, found_in_couce)\n",
    "print(paste(\"Out of \", length(missing_genes$Orf), \"missing genes,\", length(found_in_couce), \"were found in Couce\",\n",
    "\t\"and\", length(still_missing), \"are still missing\"))\n",
    "print(pec_kato %>% filter(Orf %in% still_missing) %>% select(Orf, `Start(BP)`, `Length(BP)`) %>% print)\n",
    "\"\"\";"
   ]
  },
  {
   "cell_type": "code",
   "execution_count": 35,
   "metadata": {},
   "outputs": [
    {
     "name": "stdout",
     "output_type": "stream",
     "text": [
      "[1] \"LTEE has 4629812 bp genome size and 4034 genes with total gene length 3906825 bp\"\n",
      "[1] \"Genes are 84.3840959416927% of the genome\"\n",
      "[1] \"LTEE has 307(302) essential genes with total essential gene length 316209 bp\"\n",
      "[1] \"Essential genes are 6.82984535873163% of the genome\"\n"
     ]
    }
   ],
   "source": [
    "R\"\"\"\n",
    "LTEE_ess <- limdi_ltee_PEC %>% filter(Essential_PEC) %>% pull(gene)\n",
    "LTEE_ess <- unique(c(LTEE_ess, found_in_couce))\n",
    "LTEE_ess <- data.frame(Name = LTEE_ess)\n",
    "LTEE_genes <- limdi_ltee_PEC %>% mutate(feat_type = \"gene\") %>% mutate(start_ = ifelse(start < end, start, end), end_ = ifelse(start < end, end, start)) %>% select(-start, -end) %>% rename(start = start_, end = end_)\n",
    "LTEE_genes <- rbind(LTEE_genes %>% select(gene, start, end, feat_type),\n",
    "\tLTEE_genes_couce %>% filter(feat_type == \"gene\", gene %in% found_in_couce) %>%\n",
    "\tselect(gene, start, end, feat_type))\n",
    "## Manually add genes. ffs and rnpB were annotated in MDS42 but not in REL606.\n",
    "## for yceQ the gene name was different.\n",
    "LTEE_genes <- LTEE_genes %>% rbind(\n",
    "\t# ffs: 448044, 450061;  yceQ = ECB_01081; rnpB: 1159071, 1159391\n",
    "\tdata.frame(gene = c(\"ffs\", \"rnpB\"), start = c(448044, 1159071), end = c(450061, 1159391), feat_type = \"gene\")\n",
    ") %>%\n",
    "rbind(\n",
    "\tLTEE_genes_couce %>% filter(feat_type == \"gene\", gene %in% c(\"ECB_01081\")) %>%\n",
    "\t\tselect(gene, start, end, feat_type)\n",
    ")\n",
    "LTEE_ess <- LTEE_ess %>% rbind(data.frame(Name = c(\"ffs\", \"rnpB\", \"ECB_01081\")))\n",
    "LTEE_ess_pec <- LTEE_ess\n",
    "LTEE_genes_pec <- LTEE_genes\n",
    "\n",
    "#LTEE_genome_size <- LTEE_genes %>% filter(end - start > 4e6) %>% pull(end) %>% max()\n",
    "LTEE_gene_cnt <- LTEE_genes %>% filter(feat_type == \"gene\") %>% nrow()\n",
    "LTEE_gene_length <- LTEE_genes %>% filter(feat_type == \"gene\") %>% mutate(length = end - start +1 ) %>% pull(length)\n",
    "LTEE_ess_genes <- LTEE_genes %>% filter(feat_type == \"gene\" & gene %in% LTEE_ess$Name)\n",
    "LTEE_ess_genes_length <- LTEE_ess_genes %>% mutate(length = end - start +1 ) %>% pull(length)\n",
    "# genome size gene cnt, total gene length and essential gene cnt total ess gene length ess gene % of total genom\n",
    "print(paste0(\"LTEE has \", LTEE_genome_size, \" bp genome size\", \" and \", LTEE_gene_cnt, \" genes\", \" with total gene length \", sum(LTEE_gene_length), \" bp\"))\n",
    "print(paste0(\"Genes are \", sum(LTEE_gene_length)/LTEE_genome_size*100, \"% of the genome\"))\n",
    "print(paste0(\"LTEE has \", nrow(LTEE_ess_genes), \"(\", LTEE_ess %>% nrow, \") essential genes\", \" with total essential gene length \", sum(LTEE_ess_genes_length), \" bp\"))\n",
    "print(paste0(\"Essential genes are \", sum(LTEE_ess_genes_length)/LTEE_genome_size*100, \"% of the genome\"))\n",
    "\"\"\";"
   ]
  },
  {
   "cell_type": "markdown",
   "metadata": {},
   "source": [
    "Remove duplicated essential genes"
   ]
  },
  {
   "cell_type": "code",
   "execution_count": 36,
   "metadata": {},
   "outputs": [
    {
     "name": "stdout",
     "output_type": "stream",
     "text": [
      "# A tibble: 10 × 5\n",
      "   gene    start     end length     n\n",
      "   <chr>   <dbl>   <dbl>  <dbl> <int>\n",
      " 1 acpP  3060118 3060366    249     2\n",
      " 2 acpP  1166184 1166420    237     2\n",
      " 3 gapA  1840000 1840995    996     2\n",
      " 4 gapA  1459044 1460045   1002     2\n",
      " 5 kdsB  3016266 3017006    741     2\n",
      " 6 kdsB   987944  988690    747     2\n",
      " 7 lptG  4470545 4471627   1083     2\n",
      " 8 lptG  3061573 3062652   1080     2\n",
      " 9 polA  4025263 4028049   2787     2\n",
      "10 polA  4025263 4028049   2787     2\n",
      "[1] \"After changing the names\"\n",
      "# A tibble: 0 × 5\n",
      "# ℹ 5 variables: gene <chr>, start <dbl>, end <dbl>, length <dbl>, n <int>\n"
     ]
    }
   ],
   "source": [
    "R\"\"\"\n",
    "#There seems to be some duplicated essential genes\n",
    "# thereseems to be difference in annotation. for instance, gapC was annotated as gapA in limdi data.\n",
    "LTEE_ess_genes %>% group_by(gene) %>% mutate(n = n()) %>% filter(n > 1) %>% arrange(gene, -start) %>%\n",
    "\tungroup() %>% mutate(length = end - start + 1) %>% select(gene, start, end, length, n) %>% print\n",
    "# lets change the names of orthologs in limdi curated data according to names in REL606.gbk\n",
    "# gapA -> gapC length 1002; acpP -> ECB_02853 length 249; \n",
    "# kdsB -> kpsU length 741; lptG -> ECB_02855 1080;\n",
    "# make polA unique\n",
    "LTEE_ess_genes <- LTEE_ess_genes %>% mutate(length = end - start + 1) %>%\n",
    "\tmutate(gene = ifelse(gene == \"gapA\" & length == 1002, \"gapC\", gene)) %>%\n",
    "\tmutate(gene = ifelse(gene == \"acpP\" & length == 249, \"ECB_02853\", gene)) %>%\n",
    "\tmutate(gene = ifelse(gene == \"kdsB\" & length == 741, \"kpsU\", gene)) %>%\n",
    "\tmutate(gene = ifelse(gene == \"lptG\" & length == 1080, \"ECB_02855\", gene)) %>%\n",
    "\t# drop duplicated polA\n",
    "\tdistinct(gene, start, end, .keep_all = TRUE) %>%\n",
    "\tfilter(!(gene %in% c(\"gapC\", \"ECB_02853\", \"kpsU\", \"ECB_02855\")))\n",
    "\n",
    "print(\"After changing the names\")\n",
    "LTEE_ess_genes %>% group_by(gene) %>% mutate(n = n()) %>% filter(n > 1) %>% arrange(gene, -start) %>%\n",
    "\tungroup() %>% mutate(length = end - start + 1) %>% select(gene, start, end, length, n) %>% print\n",
    "\n",
    "write_csv(LTEE_ess_genes %>% select(-feat_type), \"../misc/output/REL606_ess_genes.csv\")\n",
    "\"\"\";"
   ]
  },
  {
   "cell_type": "code",
   "execution_count": 37,
   "metadata": {},
   "outputs": [
    {
     "name": "stdout",
     "output_type": "stream",
     "text": [
      "[1] \"LTEE has 4629812 bp genome size and 4034 genes with total gene length 3906825 bp\"\n",
      "[1] \"Genes are 84.3840959416927% of the genome\"\n",
      "[1] \"LTEE has 302(302) essential genes with total essential gene length 310350 bp\"\n",
      "[1] \"Essential genes are 6.70329594376618% of the genome\"\n"
     ]
    }
   ],
   "source": [
    "R\"\"\"\n",
    "#LTEE_genome_size <- LTEE_genes %>% filter(end - start > 4e6) %>% pull(end) %>% max()\n",
    "#LTEE_gene_cnt <- LTEE_genes %>% filter(feat_type == \"gene\") %>% nrow()\n",
    "#LTEE_gene_length <- LTEE_genes %>% filter(feat_type == \"gene\") %>% mutate(length = end - start +1 ) %>% pull(length)\n",
    "#LTEE_ess_genes <- LTEE_genes %>% filter(feat_type == \"gene\" & gene %in% LTEE_ess$Name)\n",
    "LTEE_ess_genes_length <- LTEE_ess_genes %>% mutate(length = end - start +1 ) %>% pull(length)\n",
    "# genome size gene cnt, total gene length and essential gene cnt total ess gene length ess gene % of total genom\n",
    "print(paste0(\"LTEE has \", LTEE_genome_size, \" bp genome size\", \" and \", LTEE_gene_cnt, \" genes\", \" with total gene length \", sum(LTEE_gene_length), \" bp\"))\n",
    "print(paste0(\"Genes are \", sum(LTEE_gene_length)/LTEE_genome_size*100, \"% of the genome\"))\n",
    "print(paste0(\"LTEE has \", nrow(LTEE_ess_genes), \"(\", LTEE_ess %>% nrow, \") essential genes\", \" with total essential gene length \", sum(LTEE_ess_genes_length), \" bp\"))\n",
    "print(paste0(\"Essential genes are \", sum(LTEE_ess_genes_length)/LTEE_genome_size*100, \"% of the genome\"))\n",
    "\"\"\";"
   ]
  },
  {
   "cell_type": "code",
   "execution_count": 38,
   "metadata": {},
   "outputs": [
    {
     "name": "stdout",
     "output_type": "stream",
     "text": [
      "[1] \"Expected INS frequency per bp: 3.99584259576847e-05; In devoid region: 6.07368074556807\"\n",
      "[1] \"In the 152000 bp devoid region, there are 126569 bp of non-essential sequence (83.2690789473684%)\"\n",
      "[1] \"Expected INS frequency per bp in non-essential region: 4.28294079216347e-05; In devoid region: 6.51007000408847\"\n"
     ]
    },
    {
     "data": {
      "text/plain": [
       "RObject{VecSxp}\n",
       "\n",
       "\tExact binomial test\n",
       "\n",
       "data:  0 and 12 * devoid.length.ness\n",
       "number of successes = 0, number of trials = 1518828, p-value = 0.004423\n",
       "alternative hypothesis: true probability of success is less than 3.569117e-06\n",
       "95 percent confidence interval:\n",
       " 0.000000e+00 1.972395e-06\n",
       "sample estimates:\n",
       "probability of success \n",
       "                     0 \n",
       "\n"
      ]
     },
     "execution_count": 38,
     "metadata": {},
     "output_type": "execute_result"
    }
   ],
   "source": [
    "R\"\"\" # rough analysis\n",
    "# Expected INS frequency per bp\n",
    "LTEE.exp.all <- sum(LTEE_INS_cnt$INS) / LTEE_genome_size\n",
    "LTEE.exp.ness <- sum(LTEE_INS_cnt$INS) / (LTEE_genome_size - sum(LTEE_ess_genes_length))\n",
    "devoid.length.ness_ <- LTEE_ess_genes %>% filter(start > devoid.start & end < devoid.end) %>% \n",
    "\tmutate(length = end - start + 1) %>% pull(length) %>% sum()\n",
    "devoid.length.ness <- (devoid.end - devoid.start) - devoid.length.ness_\n",
    "print(paste0(\"Expected INS frequency per bp: \", LTEE.exp.all, \"; In devoid region: \",\n",
    "\tLTEE.exp.all * (devoid.end - devoid.start)))\n",
    "print(paste0(\"In the \", (devoid.end - devoid.start),\" bp devoid region, there are \",\n",
    "\tdevoid.length.ness, \" bp of non-essential sequence (\", (devoid.length.ness/(devoid.end - devoid.start)*100), \"%)\")\n",
    ")\n",
    "print(paste0(\"Expected INS frequency per bp in non-essential region: \", LTEE.exp.ness, \"; In devoid region: \",\n",
    "\tLTEE.exp.ness * (devoid.end - devoid.start)))\n",
    "\n",
    "binom.test(0, 12 * devoid.length.ness, LTEE.exp.ness/12, alternative = \"less\")\n",
    "\"\"\""
   ]
  },
  {
   "cell_type": "code",
   "execution_count": 39,
   "metadata": {},
   "outputs": [
    {
     "name": "stdout",
     "output_type": "stream",
     "text": [
      "\u001b[1m5×4 DataFrame\u001b[0m\n",
      "\u001b[1m Row \u001b[0m│\u001b[1m Start \u001b[0m\u001b[1m End   \u001b[0m\u001b[1m length \u001b[0m\u001b[1m Essential \u001b[0m\n",
      "     │\u001b[90m Int64 \u001b[0m\u001b[90m Int64 \u001b[0m\u001b[90m Int64  \u001b[0m\u001b[90m Int64     \u001b[0m\n",
      "─────┼─────────────────────────────────\n",
      "   1 │     1  25478   25479          0\n",
      "   2 │ 25479  26420     943          1\n",
      "   3 │ 26421  26462      43          0\n",
      "   4 │ 26463  29773    3312          1\n",
      "   5 │ 29774  30348     576          0\u001b[1m5×7 DataFrame\u001b[0m\n",
      "\u001b[1m Row \u001b[0m│\u001b[1m Start \u001b[0m\u001b[1m End   \u001b[0m\u001b[1m length \u001b[0m\u001b[1m Essential \u001b[0m\u001b[1m id    \u001b[0m\u001b[1m rounded \u001b[0m\u001b[1m Essential_rounded \u001b[0m\n",
      "     │\u001b[90m Int64 \u001b[0m\u001b[90m Int64 \u001b[0m\u001b[90m Int64  \u001b[0m\u001b[90m Int64     \u001b[0m\u001b[90m Int64 \u001b[0m\u001b[90m Int64   \u001b[0m\u001b[90m Int64             \u001b[0m\n",
      "─────┼────────────────────────────────────────────────────────────────────\n",
      "   1 │     1  25478   25479          0      1        1                  0\n",
      "   2 │ 25479  26420     943          1      2        2                  1\n",
      "   3 │ 26421  26462      43          1      2        2                  1\n",
      "   4 │ 26463  29773    3312          1      2        2                  1\n",
      "   5 │ 29774  30348     576          0      5        5                  0(547, 7)\u001b[1m5×6 DataFrame\u001b[0m\n",
      "\u001b[1m Row \u001b[0m│\u001b[1m rounded \u001b[0m\u001b[1m Count \u001b[0m\u001b[1m Start \u001b[0m\u001b[1m End   \u001b[0m\u001b[1m Essential \u001b[0m\u001b[1m length \u001b[0m\n",
      "     │\u001b[90m Int64   \u001b[0m\u001b[90m Int64 \u001b[0m\u001b[90m Int64 \u001b[0m\u001b[90m Int64 \u001b[0m\u001b[90m Int64     \u001b[0m\u001b[90m Int64  \u001b[0m\n",
      "─────┼─────────────────────────────────────────────────\n",
      "   1 │       1      1      1  25478          0   25478\n",
      "   2 │       2      3  25479  29773          1    4295\n",
      "   3 │       5      1  29774  30348          0     575\n",
      "   4 │       6      1  30349  31299          1     951\n",
      "   5 │       7      1  31300  32445          0    1146"
     ]
    }
   ],
   "source": [
    "# same for REL606 \n",
    "@rget LTEE_genes\n",
    "@rget LTEE_genome_size\n",
    "@rget LTEE_ess_genes\n",
    "LTEE_genes = filter(row -> row.feat_type == \"gene\", LTEE_genes)\n",
    "\n",
    "LTEE_ess_array = zeros(Int, Int(LTEE_genome_size))\n",
    "for row in eachrow(LTEE_ess_genes)\n",
    "\tif row.start > row.end\n",
    "\t\tprintln(row)\n",
    "\tend\n",
    "\tLTEE_ess_array[Int(row.start):Int(row.end)] .= 1\n",
    "end\n",
    "LTEE_ess_ranges = DataFrames.DataFrame(Start = Int[], End = Int[], length = Int[], Essential = Int[])\n",
    "start = 1\n",
    "cnt = 0\n",
    "for (i, v) in enumerate(LTEE_ess_array)\n",
    "\tif cnt == 0\n",
    "\t\tif v > 0\n",
    "\t\t\tpush!(LTEE_ess_ranges, (start, i-1, i-start+1, 0))\n",
    "\t\t\tstart = i\n",
    "\t\t\tcnt = 1\n",
    "\t\tend\n",
    "\telse\n",
    "\t\tif v == 0\n",
    "\t\t\tpush!(LTEE_ess_ranges, (start, i-1, i-start+1, 1))\n",
    "\t\t\tstart = i\n",
    "\t\t\tcnt = 0\n",
    "\t\tend\n",
    "\tend\n",
    "end\n",
    "push!(LTEE_ess_ranges, (start, LTEE_genome_size, LTEE_genome_size-start+1, cnt))\n",
    "first(LTEE_ess_ranges, 5) |> print\n",
    "\n",
    "## round ranges smaller than 300 bp\n",
    "start = 1\n",
    "max_length = LTEE_ess_ranges.length[1]\n",
    "threshold = 300\n",
    "LTEE_ess_ranges_rounded_ = LTEE_ess_ranges\n",
    "LTEE_ess_ranges_rounded_.id = 1:length(LTEE_ess_ranges_rounded_.Start)\n",
    "LTEE_ess_ranges_rounded_.rounded = LTEE_ess_ranges_rounded_.id\n",
    "LTEE_ess_ranges_rounded_.Essential_rounded = LTEE_ess_ranges_rounded_.Essential\n",
    " \n",
    "start_range = 1\n",
    "cnt = 0\n",
    "for (i, v) in enumerate(LTEE_ess_ranges.length)\n",
    "\tif v > threshold && cnt != LTEE_ess_ranges.Essential[i]\n",
    "\t\tcnt = LTEE_ess_ranges.Essential[i]\n",
    "\t\tstart_range = i\n",
    "\tend\n",
    "\tLTEE_ess_ranges_rounded_.rounded[i] = start_range\n",
    "\tLTEE_ess_ranges_rounded_.Essential_rounded[i] = cnt\n",
    "end\n",
    "first(LTEE_ess_ranges_rounded_, 5) |> print\n",
    "print(size(LTEE_ess_ranges_rounded_))\n",
    "\n",
    "## merge ranges group by rounded nrow, start end essential name as N, Start, End, Essential\n",
    "LTEE_ess_ranges_rounded = combine(groupby(LTEE_ess_ranges_rounded_, :rounded), nrow, :Start => minimum, :End => maximum, :Essential => first)\n",
    "# colnames\n",
    "LTEE_ess_ranges_rounded = rename(LTEE_ess_ranges_rounded, :nrow => :Count, :Start_minimum => :Start, :End_maximum => :End, :Essential_first => :Essential)\n",
    "LTEE_ess_ranges_rounded.length .= LTEE_ess_ranges_rounded.End .- LTEE_ess_ranges_rounded.Start .+ 1\n",
    "print(first(LTEE_ess_ranges_rounded, 5))\n"
   ]
  },
  {
   "cell_type": "code",
   "execution_count": 40,
   "metadata": {},
   "outputs": [
    {
     "name": "stdout",
     "output_type": "stream",
     "text": [
      "\u001b[1m5×6 DataFrame\u001b[0m\n",
      "\u001b[1m Row \u001b[0m│\u001b[1m rounded \u001b[0m\u001b[1m Count \u001b[0m\u001b[1m Start   \u001b[0m\u001b[1m End     \u001b[0m\u001b[1m Essential \u001b[0m\u001b[1m length \u001b[0m\n",
      "     │\u001b[90m Int64   \u001b[0m\u001b[90m Int64 \u001b[0m\u001b[90m Int64   \u001b[0m\u001b[90m Int64   \u001b[0m\u001b[90m Int64     \u001b[0m\u001b[90m Int64  \u001b[0m\n",
      "─────┼─────────────────────────────────────────────────────\n",
      "   1 │     189      1  1349409  1693141          0  343733\n",
      "   2 │     129      3   693561   950281          0  256721\n",
      "   3 │     219      1  1970811  2145496          0  174686\n",
      "   4 │      77      1   221617   357660          0  136044\n",
      "   5 │     109      3   529850   647784          0  117935\n",
      "(157, 6)4315656"
     ]
    }
   ],
   "source": [
    "ltee_ess_ranges_rounded_noness_large = filter(row -> row.length > threshold && row.Essential == 0, LTEE_ess_ranges_rounded)\n",
    "sort(ltee_ess_ranges_rounded_noness_large, :length, rev=true) |> x -> first(x, 5) |> print\n",
    "println()\n",
    "print(size(ltee_ess_ranges_rounded_noness_large))\n",
    "print(sum(ltee_ess_ranges_rounded_noness_large.length))"
   ]
  },
  {
   "cell_type": "code",
   "execution_count": 41,
   "metadata": {},
   "outputs": [
    {
     "data": {
      "text/plain": [
       "314156"
      ]
     },
     "execution_count": 41,
     "metadata": {},
     "output_type": "execute_result"
    }
   ],
   "source": [
    "filter(row -> row.Essential != 0, LTEE_ess_ranges_rounded).length |> sum"
   ]
  },
  {
   "cell_type": "code",
   "execution_count": 42,
   "metadata": {},
   "outputs": [
    {
     "name": "stdout",
     "output_type": "stream",
     "text": [
      "\u001b[1m15×6 DataFrame\u001b[0m\n",
      "\u001b[1m Row \u001b[0m│\u001b[1m rounded \u001b[0m\u001b[1m Count \u001b[0m\u001b[1m Start   \u001b[0m\u001b[1m End     \u001b[0m\u001b[1m Essential \u001b[0m\u001b[1m length \u001b[0m\n",
      "     │\u001b[90m Int64   \u001b[0m\u001b[90m Int64 \u001b[0m\u001b[90m Int64   \u001b[0m\u001b[90m Int64   \u001b[0m\u001b[90m Int64     \u001b[0m\u001b[90m Int64  \u001b[0m\n",
      "─────┼─────────────────────────────────────────────────────\n",
      "   1 │     354      3  3326278  3328978          1    2701\n",
      "   2 │     357      1  3328979  3333326          0    4348\n",
      "   3 │     358      3  3333327  3335157          1    1831\n",
      "   4 │     361      1  3335158  3358747          0   23590\n",
      "   5 │     362      1  3358748  3359320          1     573\n",
      "   6 │     363      1  3359321  3361594          0    2274\n",
      "   7 │     364      3  3361595  3363066          1    1472\n",
      "   8 │     367      1  3363067  3367520          0    4454\n",
      "   9 │     368     47  3367521  3381175          1   13655\n",
      "  10 │     415      1  3381176  3399304          0   18129\n",
      "  11 │     416      5  3399305  3402457          1    3153\n",
      "  12 │     421      1  3402458  3441315          0   38858\n",
      "  13 │     422      1  3441316  3442320          1    1005\n",
      "  14 │     423      1  3442321  3455164          0   12844\n",
      "  15 │     424      1  3455165  3457288          1    2124\u001b[1m5×6 DataFrame\u001b[0m\n",
      "\u001b[1m Row \u001b[0m│\u001b[1m rounded \u001b[0m\u001b[1m Count \u001b[0m\u001b[1m Start   \u001b[0m\u001b[1m End     \u001b[0m\u001b[1m Essential \u001b[0m\u001b[1m length \u001b[0m\n",
      "     │\u001b[90m Int64   \u001b[0m\u001b[90m Int64 \u001b[0m\u001b[90m Int64   \u001b[0m\u001b[90m Int64   \u001b[0m\u001b[90m Int64     \u001b[0m\u001b[90m Int64  \u001b[0m\n",
      "─────┼─────────────────────────────────────────────────────\n",
      "   1 │     421      1  3402458  3441315          0   38858\n",
      "   2 │     361      1  3335158  3358747          0   23590\n",
      "   3 │     415      1  3381176  3399304          0   18129\n",
      "   4 │     423      1  3442321  3455164          0   12844\n",
      "   5 │     367      1  3363067  3367520          0    4454\n",
      "REL606: In the 152000 bp devoid region, there are 104497 bp of internal non-essential sequence(68.74802631578947%)\n",
      "104497 bp of non-essential sequence is large\n",
      "REL606: In the 152000 bp devoid region, there are 125487 bp of non-essential sequence( 82.55723684210527%)\n",
      "125487 bp of non-essential sequence is large(82.55723684210527%)"
     ]
    }
   ],
   "source": [
    "#IS-devoid regions\n",
    "devoid_start = 3315000 ## yhcP\n",
    "devoid_end = 3467000 ## yhgF\n",
    "\n",
    "df1_ = filter(row -> (devoid_start <= row.Start <= devoid_end) .& (devoid_start <= row.End <= devoid_end), LTEE_ess_ranges_rounded)\n",
    "df2_ = filter(row -> (devoid_start <= row.Start <= devoid_end) .& (devoid_start <= row.End <= devoid_end), ltee_ess_ranges_rounded_noness_large)\n",
    "print(df1_)\n",
    "#print(df2_)\n",
    "# sort by length and show the first 5\n",
    "print(sort(df2_, :length, rev=true) |> x -> first(x, 5))\n",
    "println()\n",
    "devoid_length_REL = devoid_end - devoid_start\n",
    "devoid_length_REL_ness = sum(df1_[df1_.Essential .== 0, :length])\n",
    "println(\"REL606: In the \", devoid_length_REL, \" bp devoid region, there are \",\n",
    "\tdevoid_length_REL_ness,\n",
    "\t\" bp of internal non-essential sequence\",\n",
    "\t\"(\", sum(df1_[df1_.Essential .== 0, :length]) / (devoid_end - devoid_start) * 100, \"%)\")\n",
    "print(sum(df2_.length), \" bp of non-essential sequence is large\")\n",
    "\n",
    "\n",
    "LTEE_ess_ranges_rounded_ = filter(row -> (devoid_start <= row.Start <= devoid_end) .| (devoid_start <= row.End <= devoid_end), LTEE_ess_ranges_rounded)\n",
    "LTEE_ess_ranges_rounded_[LTEE_ess_ranges_rounded_.Start .< devoid_start, :Start] .= devoid_start\n",
    "LTEE_ess_ranges_rounded_[LTEE_ess_ranges_rounded_.End .> devoid_end, :End] .= devoid_end\n",
    "LTEE_ess_ranges_rounded_.length .= LTEE_ess_ranges_rounded_.End .- LTEE_ess_ranges_rounded_.Start .+ 1\n",
    "\n",
    "ltee_ess_ranges_rounded_noness_large_ = filter(row -> (devoid_start <= row.Start <= devoid_end) .| (devoid_start <= row.End <= devoid_end), ltee_ess_ranges_rounded_noness_large)\n",
    "ltee_ess_ranges_rounded_noness_large_[ltee_ess_ranges_rounded_noness_large_.Start .< devoid_start, :Start] .= devoid_start\n",
    "ltee_ess_ranges_rounded_noness_large_[ltee_ess_ranges_rounded_noness_large_.End .> devoid_end, :End] .= devoid_end\n",
    "ltee_ess_ranges_rounded_noness_large_.length .= ltee_ess_ranges_rounded_noness_large_.End .- ltee_ess_ranges_rounded_noness_large_.Start .+ 1\n",
    "println()\n",
    "\n",
    "devoid_length_REL_ness_rounded = sum(LTEE_ess_ranges_rounded_[LTEE_ess_ranges_rounded_.Essential .== 0, :length])\n",
    "println(\"REL606: In the \", devoid_length_REL, \" bp devoid region, there are \",\n",
    "\tdevoid_length_REL_ness_rounded,\n",
    "\t\" bp of non-essential sequence\",\n",
    "\t\"( \", devoid_length_REL_ness_rounded / devoid_length_REL * 100, \"%)\")\n",
    "print(sum(ltee_ess_ranges_rounded_noness_large_.length), \" bp of non-essential sequence is large\",\n",
    "\t\"(\", sum(ltee_ess_ranges_rounded_noness_large_.length) / (devoid_end - devoid_start) * 100, \"%)\")"
   ]
  },
  {
   "cell_type": "markdown",
   "metadata": {},
   "source": [
    "# STAT: Comparison with T-test"
   ]
  },
  {
   "cell_type": "code",
   "execution_count": 43,
   "metadata": {},
   "outputs": [
    {
     "name": "stdout",
     "output_type": "stream",
     "text": [
      "[1] \"Expected INS frequency per bp in non-essential region:  5.71762559751072e-06\"\n",
      "[1] \"Expected INS frequency in the IS-devoid region 0.621860395236461\"\n"
     ]
    },
    {
     "data": {
      "text/plain": [
       "RObject{VecSxp}\n",
       "# A tibble: 44 × 3\n",
       "       n Study     p\n",
       "   <int> <chr> <dbl>\n",
       " 1     0 This   0   \n",
       " 2     2 This   3.22\n",
       " 3     0 This   0   \n",
       " 4     0 This   0   \n",
       " 5     1 This   1.61\n",
       " 6     0 This   0   \n",
       " 7     1 This   1.61\n",
       " 8     3 This   4.82\n",
       " 9     0 This   0   \n",
       "10     0 This   0   \n",
       "# ℹ 34 more rows\n"
      ]
     },
     "execution_count": 43,
     "metadata": {},
     "output_type": "execute_result"
    }
   ],
   "source": [
    "@rput mds42_ess_ranges_rounded_noness_large\n",
    "@rput mds42_ess_ranges_rounded_\n",
    "R\"\"\"\n",
    "mds42.exp.ness <- nrow(is_in_mds42.df.prevgen.rmdup) / sum(mds42_ess_ranges_rounded_noness_large$length)/44\n",
    "mds42.exp.ness.devoid <- mds42.exp.ness * sum(mds42_ess_ranges_rounded_ %>% filter(Essential == 0) %>% select(length))\n",
    "print(paste(\"Expected INS frequency per bp in non-essential region: \", mds42.exp.ness))\n",
    "print(paste(\"Expected INS frequency in the IS-devoid region\", mds42.exp.ness.devoid))\n",
    "mds42.exp.ness.devoid.prob <-\n",
    "is_in_mds42.df.prevgen.rmdup %>% \n",
    "\tgroup_by(Line) %>% summarise(n = sum(pos >= devoid.start.ma & pos <= devoid.end.ma)) %>% select(-Line) %>%\n",
    "\tmutate(Study = \"This\", p = n/mds42.exp.ness.devoid) \n",
    "\"\"\""
   ]
  },
  {
   "cell_type": "markdown",
   "metadata": {},
   "source": [
    "## STAT: t-test nonessential non-overlap version of IS-devoid region analysis"
   ]
  },
  {
   "cell_type": "code",
   "execution_count": 44,
   "metadata": {},
   "outputs": [
    {
     "name": "stdout",
     "output_type": "stream",
     "text": [
      "[1] 108762\n",
      "[1] 26526\n"
     ]
    }
   ],
   "source": [
    "R\"\"\"\n",
    "mds42_ess_ranges_rounded_ %>% filter(Essential == 0) %>% select(length) %>% sum %>% print\n",
    "mds42_ess_ranges_rounded_ %>% filter(Essential == 1) %>% select(length) %>% sum %>% print\n",
    "\"\"\";"
   ]
  },
  {
   "cell_type": "code",
   "execution_count": 45,
   "metadata": {},
   "outputs": [
    {
     "name": "stdout",
     "output_type": "stream",
     "text": [
      "[1] 27.36186\n"
     ]
    },
    {
     "data": {
      "text/plain": [
       "RObject{VecSxp}\n",
       "\n",
       "\tExact binomial test\n",
       "\n",
       "data:  is_in_mds42.df.prevgen.rmdup %>% filter(pos >= devoid.start.ma & pos <= devoid.end.ma) %>% nrow() and sum(mds42_ess_ranges_rounded_ %>% filter(Essential == 0) %>% select(length)) * 44\n",
       "number of successes = 39, number of trials = 4785528, p-value = 0.9863\n",
       "alternative hypothesis: true probability of success is less than 5.717626e-06\n",
       "95 percent confidence interval:\n",
       " 0.000000e+00 1.064453e-05\n",
       "sample estimates:\n",
       "probability of success \n",
       "          8.149571e-06 \n",
       "\n"
      ]
     },
     "execution_count": 45,
     "metadata": {},
     "output_type": "execute_result"
    }
   ],
   "source": [
    "# one sided binomial test , this study\n",
    "R\"\"\"\n",
    "print(\n",
    "\tsum(mds42_ess_ranges_rounded_ %>% filter(Essential == 0) %>% select(length)) *44 *\n",
    "\tmds42.exp.ness\n",
    ")\n",
    "binom.test(is_in_mds42.df.prevgen.rmdup %>%\n",
    "\tfilter(pos >= devoid.start.ma & pos <= devoid.end.ma) %>% nrow(),\n",
    "\tsum(mds42_ess_ranges_rounded_ %>% filter(Essential == 0) %>% select(length)) *44,\n",
    "\tmds42.exp.ness, alternative = \"less\")\n",
    "\"\"\""
   ]
  },
  {
   "cell_type": "code",
   "execution_count": 46,
   "metadata": {},
   "outputs": [
    {
     "name": "stdout",
     "output_type": "stream",
     "text": [
      "[1] 4.315656e+06 1.044970e+05 3.572265e-06 4.479492e+00\n",
      "[1] 4.479492\n"
     ]
    },
    {
     "data": {
      "text/plain": [
       "RObject{VecSxp}\n",
       "\n",
       "\tExact binomial test\n",
       "\n",
       "data:  0 and 12 * devoid_length_REL_ness\n",
       "number of successes = 0, number of trials = 1253964, p-value = 0.01134\n",
       "alternative hypothesis: true probability of success is less than 3.572265e-06\n",
       "95 percent confidence interval:\n",
       " 0.000000e+00 2.389007e-06\n",
       "sample estimates:\n",
       "probability of success \n",
       "                     0 \n",
       "\n"
      ]
     },
     "execution_count": 46,
     "metadata": {},
     "output_type": "execute_result"
    }
   ],
   "source": [
    "#(One-sided binomial test, LTEE)\n",
    "LTEE_ness_genome_size_rounded = sum(LTEE_ess_ranges_rounded[LTEE_ess_ranges_rounded.Essential .== 0, :length])\n",
    "@rput devoid_length_REL_ness\n",
    "@rput LTEE_ness_genome_size_rounded\n",
    "R\"\"\"\n",
    "# nonessential genome size, nonessential length in devoid region, expected INS frequency per bp in nonessential region, expected INS count in devoid region\n",
    "c(LTEE_ness_genome_size_rounded, devoid_length_REL_ness, sum(LTEE_INS_cnt$INS)/LTEE_ness_genome_size_rounded/12,\n",
    "\tdevoid_length_REL_ness * sum(LTEE_INS_cnt$INS)/LTEE_ness_genome_size_rounded) %>% print\n",
    "#binom.test(0, 12 * devoid_length_REL_ness, sum(LTEE_INS_cnt$INS)/LTEE_ness_genome_size_rounded/12, alternative = \"two.sided\")\n",
    "print( devoid_length_REL_ness *sum(LTEE_INS_cnt$INS)/LTEE_ness_genome_size_rounded)\n",
    "binom.test(0, 12 * devoid_length_REL_ness, sum(LTEE_INS_cnt$INS)/LTEE_ness_genome_size_rounded/12, alternative = \"less\")\n",
    "\"\"\""
   ]
  }
 ],
 "metadata": {
  "kernelspec": {
   "display_name": "Julia 1.9.3",
   "language": "julia",
   "name": "julia-1.9"
  },
  "language_info": {
   "file_extension": ".jl",
   "mimetype": "application/julia",
   "name": "julia",
   "version": "1.9.3"
  }
 },
 "nbformat": 4,
 "nbformat_minor": 2
}
